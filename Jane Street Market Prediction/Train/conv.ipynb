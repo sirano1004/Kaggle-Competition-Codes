{
 "cells": [
  {
   "cell_type": "markdown",
   "metadata": {
    "papermill": {
     "duration": 0.016038,
     "end_time": "2021-02-02T12:04:35.885262",
     "exception": false,
     "start_time": "2021-02-02T12:04:35.869224",
     "status": "completed"
    },
    "tags": []
   },
   "source": [
    "# Jane Street: Neural Network Starter\n",
    "\n",
    "I try implementing a simple Tensorflow Keras neural network here. Train in Version 17.\n",
    "\n",
    "**Caution:** The GroupCV method applied in this notebook may cause time leakage problem. Please use [Purged Time-Series CV][1] instead.\n",
    "\n",
    "[1]: https://www.kaggle.com/marketneutral/purged-time-series-cv-xgboost-optuna"
   ]
  },
  {
   "cell_type": "markdown",
   "metadata": {
    "papermill": {
     "duration": 0.013711,
     "end_time": "2021-02-02T12:04:35.912802",
     "exception": false,
     "start_time": "2021-02-02T12:04:35.899091",
     "status": "completed"
    },
    "tags": []
   },
   "source": [
    "# Preprocessing"
   ]
  },
  {
   "cell_type": "code",
   "execution_count": 1,
   "metadata": {
    "execution": {
     "iopub.execute_input": "2021-02-02T12:04:35.943847Z",
     "iopub.status.busy": "2021-02-02T12:04:35.942788Z",
     "iopub.status.idle": "2021-02-02T12:04:35.947874Z",
     "shell.execute_reply": "2021-02-02T12:04:35.948374Z"
    },
    "papermill": {
     "duration": 0.022624,
     "end_time": "2021-02-02T12:04:35.948748",
     "exception": false,
     "start_time": "2021-02-02T12:04:35.926124",
     "status": "completed"
    },
    "tags": []
   },
   "outputs": [],
   "source": [
    "TRAINING = True\n",
    "USE_FINETUNE = False"
   ]
  },
  {
   "cell_type": "code",
   "execution_count": 2,
   "metadata": {
    "execution": {
     "iopub.execute_input": "2021-02-02T12:04:35.982484Z",
     "iopub.status.busy": "2021-02-02T12:04:35.981430Z",
     "iopub.status.idle": "2021-02-02T12:04:45.378919Z",
     "shell.execute_reply": "2021-02-02T12:04:45.378149Z"
    },
    "papermill": {
     "duration": 9.414355,
     "end_time": "2021-02-02T12:04:45.379078",
     "exception": false,
     "start_time": "2021-02-02T12:04:35.964723",
     "status": "completed"
    },
    "tags": []
   },
   "outputs": [],
   "source": [
    "import warnings\n",
    "warnings.filterwarnings('ignore')\n",
    "\n",
    "#if TRAINING:\n",
    "#    import cudf\n",
    "#    import cupy as cp\n",
    "\n",
    "import os, gc\n",
    "import pandas as pd\n",
    "import numpy as np\n",
    "import xgboost as xgb\n",
    "from hyperopt import hp, fmin, tpe, Trials\n",
    "from hyperopt.pyll.base import scope\n",
    "from sklearn.metrics import roc_auc_score, roc_curve\n",
    "from sklearn.model_selection import GroupKFold\n",
    "import matplotlib.pyplot as plt\n",
    "from tqdm.notebook import tqdm, trange\n",
    "from joblib import dump, load\n",
    "\n",
    "import tensorflow as tf\n",
    "import tensorflow.keras.backend as K\n",
    "import tensorflow.keras.layers as layers\n",
    "from tensorflow.keras.layers import multiply, add, Input, Dense, BatchNormalization, Dropout, Concatenate, Lambda, GaussianNoise, Activation\n",
    "from tensorflow.keras.callbacks import Callback, ReduceLROnPlateau, ModelCheckpoint, EarlyStopping\n",
    "from tensorflow.keras.models import Model, Sequential\n",
    "from tensorflow.keras.losses import BinaryCrossentropy\n",
    "from tensorflow.keras.optimizers import Adam\n",
    "from tensorflow.keras.layers.experimental.preprocessing import Normalization\n",
    "from tensorflow.keras.metrics import AUC\n",
    "\n",
    "import numpy as np\n",
    "from sklearn.model_selection import KFold\n",
    "from sklearn.model_selection._split import _BaseKFold, indexable, _num_samples\n",
    "from sklearn.utils.validation import _deprecate_positional_args\n",
    "\n",
    "\n",
    "import numpy as np\n",
    "from sklearn.model_selection import KFold\n",
    "from sklearn.model_selection._split import _BaseKFold, indexable, _num_samples\n",
    "from sklearn.utils.validation import _deprecate_positional_args\n",
    "import kerastuner as kt"
   ]
  },
  {
   "cell_type": "code",
   "execution_count": 3,
   "metadata": {
    "execution": {
     "iopub.execute_input": "2021-02-02T12:04:45.413714Z",
     "iopub.status.busy": "2021-02-02T12:04:45.412623Z",
     "iopub.status.idle": "2021-02-02T12:04:45.415712Z",
     "shell.execute_reply": "2021-02-02T12:04:45.415009Z"
    },
    "papermill": {
     "duration": 0.022734,
     "end_time": "2021-02-02T12:04:45.415859",
     "exception": false,
     "start_time": "2021-02-02T12:04:45.393125",
     "status": "completed"
    },
    "tags": []
   },
   "outputs": [],
   "source": [
    "TARGET = 'action'\n",
    "FEATS = ['feature_{}'.format(int(i)) for i in range(130)]"
   ]
  },
  {
   "cell_type": "code",
   "execution_count": 4,
   "metadata": {
    "execution": {
     "iopub.execute_input": "2021-02-02T12:04:45.452855Z",
     "iopub.status.busy": "2021-02-02T12:04:45.452039Z",
     "iopub.status.idle": "2021-02-02T12:07:17.171163Z",
     "shell.execute_reply": "2021-02-02T12:07:17.171748Z"
    },
    "papermill": {
     "duration": 151.742241,
     "end_time": "2021-02-02T12:07:17.171956",
     "exception": false,
     "start_time": "2021-02-02T12:04:45.429715",
     "status": "completed"
    },
    "tags": []
   },
   "outputs": [
    {
     "name": "stdout",
     "output_type": "stream",
     "text": [
      "Loading...\n",
      "Filling...\n",
      "Finish.\n"
     ]
    }
   ],
   "source": [
    "if TRAINING:\n",
    "    print('Loading...')\n",
    "    train = pd.read_csv('/kaggle/input/jane-street-market-prediction/train.csv')\n",
    "    TARGET = 'action'\n",
    "    FEATS = ['feature_{}'.format(int(i)) for i in range(130)]\n",
    "\n",
    "    print('Filling...')\n",
    "    train = train.query('weight > 0').reset_index(drop = True)\n",
    "    resp_cols = ['resp_1', 'resp_2', 'resp_3', 'resp', 'resp_4']\n",
    "    y = np.stack([(train[c] > 0.00000).astype('int') for c in resp_cols]).T #Multitarget\n",
    "\n",
    "    X = train[FEATS].to_numpy()\n",
    "    wr = train.weight*train['resp'].to_numpy()\n",
    "    Y = wr*y[:,3]\n",
    "    X = train[FEATS].to_numpy()\n",
    "    print('Finish.')"
   ]
  },
  {
   "cell_type": "code",
   "execution_count": 5,
   "metadata": {
    "execution": {
     "iopub.execute_input": "2021-02-02T12:07:17.841946Z",
     "iopub.status.busy": "2021-02-02T12:07:17.841104Z",
     "iopub.status.idle": "2021-02-02T12:07:25.634247Z",
     "shell.execute_reply": "2021-02-02T12:07:25.633601Z"
    },
    "papermill": {
     "duration": 8.447071,
     "end_time": "2021-02-02T12:07:25.634411",
     "exception": false,
     "start_time": "2021-02-02T12:07:17.187340",
     "status": "completed"
    },
    "tags": []
   },
   "outputs": [],
   "source": [
    "if TRAINING:\n",
    "    nan_feat = (train[FEATS].isnull().sum()>0)\n",
    "    NAN_FEAT = nan_feat[nan_feat == True].index\n",
    "    nan_feat_bool = nan_feat.values\n",
    "    with open('../input/js-cv-split2/f_mean.npy', 'rb') as f:\n",
    "        f_mean = np.load(f)\n",
    "    \n",
    "    mask2 = np.isnan(X[:,nan_feat_bool]).astype(int)\n",
    "    X = np.nan_to_num(X) + np.isnan(X).astype(int) * f_mean\n",
    "    del(train)\n",
    "    _= gc.collect()\n",
    "    pd.to_pickle(nan_feat_bool, 'nfb.pkl')"
   ]
  },
  {
   "cell_type": "markdown",
   "metadata": {
    "papermill": {
     "duration": 0.014506,
     "end_time": "2021-02-02T12:07:25.665490",
     "exception": false,
     "start_time": "2021-02-02T12:07:25.650984",
     "status": "completed"
    },
    "tags": []
   },
   "source": [
    "# Training"
   ]
  },
  {
   "cell_type": "code",
   "execution_count": 6,
   "metadata": {
    "execution": {
     "iopub.execute_input": "2021-02-02T12:07:25.703703Z",
     "iopub.status.busy": "2021-02-02T12:07:25.703009Z",
     "iopub.status.idle": "2021-02-02T12:07:25.706177Z",
     "shell.execute_reply": "2021-02-02T12:07:25.706676Z"
    },
    "papermill": {
     "duration": 0.025896,
     "end_time": "2021-02-02T12:07:25.706899",
     "exception": false,
     "start_time": "2021-02-02T12:07:25.681003",
     "status": "completed"
    },
    "tags": []
   },
   "outputs": [],
   "source": [
    "def create_autoencoder(input_dim,output_dim,noise=0.1):\n",
    "    i = Input(130)\n",
    "    mask = Input(130)\n",
    "    encoded = BatchNormalization()(i)\n",
    "    encoded = GaussianNoise(noise)(encoded)\n",
    "    \n",
    "    encoded = Dense(96, activation = 'elu')(encoded)\n",
    "    encoded = Dense(64,activation='linear')(encoded)\n",
    "    encoder = Model(inputs=i,outputs=encoded)\n",
    "    \n",
    "    return encoder"
   ]
  },
  {
   "cell_type": "code",
   "execution_count": 7,
   "metadata": {
    "execution": {
     "iopub.execute_input": "2021-02-02T12:07:25.743457Z",
     "iopub.status.busy": "2021-02-02T12:07:25.742439Z",
     "iopub.status.idle": "2021-02-02T12:07:25.947438Z",
     "shell.execute_reply": "2021-02-02T12:07:25.948339Z"
    },
    "papermill": {
     "duration": 0.22645,
     "end_time": "2021-02-02T12:07:25.948543",
     "exception": false,
     "start_time": "2021-02-02T12:07:25.722093",
     "status": "completed"
    },
    "tags": []
   },
   "outputs": [],
   "source": [
    "encoder = create_autoencoder(130, 5, noise=0.1)\n",
    "encoder.load_weights('../input/js-cv-split2/encoder.hdf5')\n",
    "encoder.trainable = False"
   ]
  },
  {
   "cell_type": "code",
   "execution_count": 8,
   "metadata": {
    "execution": {
     "iopub.execute_input": "2021-02-02T12:07:25.983365Z",
     "iopub.status.busy": "2021-02-02T12:07:25.982173Z",
     "iopub.status.idle": "2021-02-02T12:07:25.986850Z",
     "shell.execute_reply": "2021-02-02T12:07:25.987416Z"
    },
    "papermill": {
     "duration": 0.023621,
     "end_time": "2021-02-02T12:07:25.987601",
     "exception": false,
     "start_time": "2021-02-02T12:07:25.963980",
     "status": "completed"
    },
    "tags": []
   },
   "outputs": [],
   "source": [
    "FOLDS = 5\n",
    "SEED = 42"
   ]
  },
  {
   "cell_type": "code",
   "execution_count": 9,
   "metadata": {
    "execution": {
     "iopub.execute_input": "2021-02-02T12:07:26.024133Z",
     "iopub.status.busy": "2021-02-02T12:07:26.022965Z",
     "iopub.status.idle": "2021-02-02T12:07:26.039944Z",
     "shell.execute_reply": "2021-02-02T12:07:26.039218Z"
    },
    "papermill": {
     "duration": 0.037059,
     "end_time": "2021-02-02T12:07:26.040114",
     "exception": false,
     "start_time": "2021-02-02T12:07:26.003055",
     "status": "completed"
    },
    "tags": []
   },
   "outputs": [],
   "source": [
    "from tensorflow.keras.layers import Conv1D, AveragePooling1D, MaxPooling1D, Flatten, Multiply, Add\n",
    "\n",
    "input_dim = 130 + 64 + 88\n",
    "output_dim = 5\n",
    "window_size = 16\n",
    "cha1 = 128\n",
    "cha2 = 256\n",
    "rate = 0.18\n",
    "\n",
    "\n",
    "def conv_model(input_dim, output_dim, window_size, cha1, cha2, rate):\n",
    "    inputs = Input(input_dim)\n",
    "    x = BatchNormalization()(inputs)\n",
    "    x = Dense(window_size * cha1, use_bias = False)(x)\n",
    "    x = tf.reshape(x, (-1, window_size, cha1))\n",
    "    x = BatchNormalization()(x)\n",
    "    \n",
    "    for i in range(3):\n",
    "        #x = BatchNormalization()(x)\n",
    "        x = Dropout(rate)(x)\n",
    "        x = Conv1D(cha1, 3, activation = tf.keras.activations.swish, padding = 'causal')(x)\n",
    "        temp_x = x\n",
    "        \n",
    "        x = BatchNormalization()(x)\n",
    "        x = Dropout(rate)(x)\n",
    "        x = Conv1D(cha2, 3, activation = tf.keras.activations.swish, padding = 'causal')(x)\n",
    "\n",
    "        x = BatchNormalization()(x)\n",
    "        x = Dropout(rate)(x)\n",
    "        x = Conv1D(cha1, 3, activation = tf.keras.activations.swish, padding = 'causal')(x)\n",
    "        \n",
    "        x = Add()([temp_x,x])\n",
    "        x = BatchNormalization()(x)\n",
    "        x = MaxPooling1D(2)(x)\n",
    "        \n",
    "    x = Dense(64)(x)    \n",
    "    x = Flatten()(x)\n",
    "    x = BatchNormalization()(x)\n",
    "    x = Dropout(rate)(x)\n",
    "    x = Dense(output_dim, activation = 'sigmoid', name = 'label_out')(x)\n",
    "        \n",
    "    y2 = tf.math.reduce_mean(x, axis = -1)\n",
    "    y2 = tf.where(y2 > 0.5, 1, 0)\n",
    "    y2 = tf.cast(y2, tf.float32)\n",
    "    wr = Input(1)\n",
    "    y2 = Multiply(name = 'return_out')([y2,wr])\n",
    "    \n",
    "    model = Model(inputs = [inputs, wr], outputs = [x,y2]) \n",
    "    \n",
    "    return model"
   ]
  },
  {
   "cell_type": "code",
   "execution_count": 10,
   "metadata": {
    "execution": {
     "iopub.execute_input": "2021-02-02T12:07:26.076482Z",
     "iopub.status.busy": "2021-02-02T12:07:26.075738Z",
     "iopub.status.idle": "2021-02-02T12:07:27.258198Z",
     "shell.execute_reply": "2021-02-02T12:07:27.258769Z"
    },
    "papermill": {
     "duration": 1.203337,
     "end_time": "2021-02-02T12:07:27.258991",
     "exception": false,
     "start_time": "2021-02-02T12:07:26.055654",
     "status": "completed"
    },
    "tags": []
   },
   "outputs": [],
   "source": [
    "splits = pd.read_pickle('../input/js-cv-split2/cross_validation.pkl')"
   ]
  },
  {
   "cell_type": "code",
   "execution_count": 11,
   "metadata": {
    "execution": {
     "iopub.execute_input": "2021-02-02T12:07:27.294865Z",
     "iopub.status.busy": "2021-02-02T12:07:27.294194Z",
     "iopub.status.idle": "2021-02-02T12:07:40.048750Z",
     "shell.execute_reply": "2021-02-02T12:07:40.048027Z"
    },
    "papermill": {
     "duration": 12.773988,
     "end_time": "2021-02-02T12:07:40.048918",
     "exception": false,
     "start_time": "2021-02-02T12:07:27.274930",
     "status": "completed"
    },
    "tags": []
   },
   "outputs": [],
   "source": [
    "f = 5\n",
    "\n",
    "y_train, y_test = y[splits[f][0]], y[splits[f][1]]\n",
    "X_train, X_test = X[splits[f][0]], X[splits[f][1]]\n",
    "Y_train, Y_test = Y[splits[f][0]], Y[splits[f][1]]\n",
    "mask_train, mask_test = mask2[splits[f][0]], mask2[splits[f][1]]\n",
    "            \n",
    "encoded_X_train = encoder(X_train).numpy()\n",
    "encoded_X_test = encoder(X_test).numpy()\n",
    "            \n",
    "X_train = np.concatenate((X_train, encoded_X_train, mask_train), axis = -1)\n",
    "X_test = np.concatenate((X_test, encoded_X_test, mask_test), axis = -1)\n",
    "\n",
    "wr_train, wr_test = wr[splits[f][0]], wr[splits[f][1]]\n",
    "\n",
    "del(X, y, encoded_X_train, encoded_X_test, Y, wr, mask_train, mask_test)\n",
    "\n",
    "_=gc.collect()"
   ]
  },
  {
   "cell_type": "code",
   "execution_count": 12,
   "metadata": {
    "execution": {
     "iopub.execute_input": "2021-02-02T12:07:40.084710Z",
     "iopub.status.busy": "2021-02-02T12:07:40.084044Z",
     "iopub.status.idle": "2021-02-02T12:07:40.090637Z",
     "shell.execute_reply": "2021-02-02T12:07:40.091168Z"
    },
    "papermill": {
     "duration": 0.026425,
     "end_time": "2021-02-02T12:07:40.091365",
     "exception": false,
     "start_time": "2021-02-02T12:07:40.064940",
     "status": "completed"
    },
    "tags": []
   },
   "outputs": [],
   "source": [
    "def custom_loss(y_true, y_pred):\n",
    "    return 100 * tf.keras.losses.MSE(y_true,y_pred)\n",
    "\n",
    "def metrics2(y_true, y_pred):\n",
    "    return K.sum(y_pred)\n",
    "\n",
    "def metrics(y_true, y_pred):\n",
    "    Pi = np.bincount(y_true, y_pred)\n",
    "    t = np.sum(Pi) / np.sqrt(np.sum(Pi ** 2)) * np.sqrt(250 / len(Pi))\n",
    "    u = min(max(t, 0), 6) * np.sum(Pi)\n",
    "    print('\\n', round(u,5))\n",
    "    return u"
   ]
  },
  {
   "cell_type": "code",
   "execution_count": 13,
   "metadata": {
    "execution": {
     "iopub.execute_input": "2021-02-02T12:07:40.127945Z",
     "iopub.status.busy": "2021-02-02T12:07:40.127225Z",
     "iopub.status.idle": "2021-02-02T12:07:45.635994Z",
     "shell.execute_reply": "2021-02-02T12:07:45.635419Z"
    },
    "papermill": {
     "duration": 5.528824,
     "end_time": "2021-02-02T12:07:45.636148",
     "exception": false,
     "start_time": "2021-02-02T12:07:40.107324",
     "status": "completed"
    },
    "tags": []
   },
   "outputs": [],
   "source": [
    "## detect and init the TPU\n",
    "tpu = tf.distribute.cluster_resolver.TPUClusterResolver()\n",
    "tf.config.experimental_connect_to_cluster(tpu)\n",
    "tf.tpu.experimental.initialize_tpu_system(tpu)\n",
    "\n",
    "## instantiate a distribution strategy\n",
    "tpu_strategy = tf.distribute.experimental.TPUStrategy(tpu)"
   ]
  },
  {
   "cell_type": "code",
   "execution_count": 14,
   "metadata": {
    "execution": {
     "iopub.execute_input": "2021-02-02T12:07:45.679456Z",
     "iopub.status.busy": "2021-02-02T12:07:45.678436Z",
     "iopub.status.idle": "2021-02-02T12:07:47.585151Z",
     "shell.execute_reply": "2021-02-02T12:07:47.584553Z"
    },
    "papermill": {
     "duration": 1.933033,
     "end_time": "2021-02-02T12:07:47.585313",
     "exception": false,
     "start_time": "2021-02-02T12:07:45.652280",
     "status": "completed"
    },
    "tags": []
   },
   "outputs": [],
   "source": [
    "with tpu_strategy.scope():\n",
    "    model = conv_model(input_dim, output_dim, window_size, cha1, cha2, 0.15)\n",
    "    model.compile(optimizer = Adam(learning_rate = 0.0005), loss = {'label_out':'binary_crossentropy', 'return_out': custom_loss}, metrics = {'label_out':AUC(name = 'auc'), 'return_out': metrics2})\n",
    "\n"
   ]
  },
  {
   "cell_type": "code",
   "execution_count": 15,
   "metadata": {
    "execution": {
     "iopub.execute_input": "2021-02-02T12:07:47.626838Z",
     "iopub.status.busy": "2021-02-02T12:07:47.625961Z",
     "iopub.status.idle": "2021-02-02T12:11:36.573402Z",
     "shell.execute_reply": "2021-02-02T12:11:36.571629Z"
    },
    "papermill": {
     "duration": 228.971942,
     "end_time": "2021-02-02T12:11:36.573661",
     "exception": false,
     "start_time": "2021-02-02T12:07:47.601719",
     "status": "completed"
    },
    "tags": []
   },
   "outputs": [
    {
     "name": "stdout",
     "output_type": "stream",
     "text": [
      "Epoch 1/300\n",
      "378/378 [==============================] - 38s 62ms/step - loss: 1.4475 - label_out_loss: 0.7200 - return_out_loss: 0.7276 - label_out_auc: 0.5199 - return_out_metrics2: 0.1879 - val_loss: 1.4420 - val_label_out_loss: 0.6901 - val_return_out_loss: 0.7519 - val_label_out_auc: 0.5420 - val_return_out_metrics2: 0.7404\n",
      "Epoch 2/300\n",
      "378/378 [==============================] - 14s 36ms/step - loss: 1.4002 - label_out_loss: 0.6982 - return_out_loss: 0.7020 - label_out_auc: 0.5446 - return_out_metrics2: 0.5955 - val_loss: 1.4547 - val_label_out_loss: 0.6905 - val_return_out_loss: 0.7642 - val_label_out_auc: 0.5439 - val_return_out_metrics2: 0.7339\n",
      "Epoch 3/300\n",
      "378/378 [==============================] - 14s 37ms/step - loss: 1.3901 - label_out_loss: 0.6952 - return_out_loss: 0.6949 - label_out_auc: 0.5494 - return_out_metrics2: 0.7146 - val_loss: 1.4692 - val_label_out_loss: 0.6916 - val_return_out_loss: 0.7776 - val_label_out_auc: 0.5441 - val_return_out_metrics2: 0.6648\n",
      "Epoch 4/300\n",
      "378/378 [==============================] - 14s 36ms/step - loss: 1.3814 - label_out_loss: 0.6928 - return_out_loss: 0.6885 - label_out_auc: 0.5536 - return_out_metrics2: 0.7231 - val_loss: 1.4630 - val_label_out_loss: 0.6934 - val_return_out_loss: 0.7697 - val_label_out_auc: 0.5452 - val_return_out_metrics2: 0.6162\n",
      "Epoch 5/300\n",
      "378/378 [==============================] - 14s 37ms/step - loss: 1.3525 - label_out_loss: 0.6913 - return_out_loss: 0.6612 - label_out_auc: 0.5554 - return_out_metrics2: 0.7514 - val_loss: 1.4990 - val_label_out_loss: 0.6941 - val_return_out_loss: 0.8049 - val_label_out_auc: 0.5423 - val_return_out_metrics2: 0.5707\n",
      "Epoch 6/300\n",
      "378/378 [==============================] - 14s 36ms/step - loss: 1.3349 - label_out_loss: 0.6896 - return_out_loss: 0.6453 - label_out_auc: 0.5586 - return_out_metrics2: 0.7534 - val_loss: 1.5013 - val_label_out_loss: 0.6919 - val_return_out_loss: 0.8094 - val_label_out_auc: 0.5407 - val_return_out_metrics2: 0.4947\n",
      "Epoch 7/300\n",
      "378/378 [==============================] - 14s 37ms/step - loss: 1.3675 - label_out_loss: 0.6881 - return_out_loss: 0.6794 - label_out_auc: 0.5604 - return_out_metrics2: 0.8171 - val_loss: 1.4818 - val_label_out_loss: 0.6923 - val_return_out_loss: 0.7895 - val_label_out_auc: 0.5414 - val_return_out_metrics2: 0.6108\n",
      "Epoch 8/300\n",
      "378/378 [==============================] - 14s 36ms/step - loss: 1.3273 - label_out_loss: 0.6869 - return_out_loss: 0.6404 - label_out_auc: 0.5624 - return_out_metrics2: 0.8711 - val_loss: 1.4825 - val_label_out_loss: 0.6928 - val_return_out_loss: 0.7897 - val_label_out_auc: 0.5412 - val_return_out_metrics2: 0.5184\n",
      "Epoch 9/300\n",
      "378/378 [==============================] - 14s 36ms/step - loss: 1.3588 - label_out_loss: 0.6853 - return_out_loss: 0.6735 - label_out_auc: 0.5655 - return_out_metrics2: 0.9589 - val_loss: 1.4639 - val_label_out_loss: 0.6933 - val_return_out_loss: 0.7707 - val_label_out_auc: 0.5405 - val_return_out_metrics2: 0.5874\n",
      "Epoch 10/300\n",
      "378/378 [==============================] - 14s 37ms/step - loss: 1.3054 - label_out_loss: 0.6841 - return_out_loss: 0.6213 - label_out_auc: 0.5681 - return_out_metrics2: 1.0960 - val_loss: 1.4966 - val_label_out_loss: 0.6966 - val_return_out_loss: 0.8000 - val_label_out_auc: 0.5387 - val_return_out_metrics2: 0.5079\n",
      "Epoch 11/300\n",
      "378/378 [==============================] - 14s 38ms/step - loss: 1.3374 - label_out_loss: 0.6830 - return_out_loss: 0.6544 - label_out_auc: 0.5700 - return_out_metrics2: 1.0655 - val_loss: 1.4621 - val_label_out_loss: 0.6991 - val_return_out_loss: 0.7630 - val_label_out_auc: 0.5380 - val_return_out_metrics2: 0.5722\n",
      "Epoch 12/300\n",
      "378/378 [==============================] - 14s 36ms/step - loss: 1.2930 - label_out_loss: 0.6818 - return_out_loss: 0.6113 - label_out_auc: 0.5733 - return_out_metrics2: 1.2002 - val_loss: 1.4746 - val_label_out_loss: 0.6981 - val_return_out_loss: 0.7765 - val_label_out_auc: 0.5389 - val_return_out_metrics2: 0.5538\n",
      "Epoch 13/300\n",
      "378/378 [==============================] - 14s 37ms/step - loss: 1.3541 - label_out_loss: 0.6806 - return_out_loss: 0.6735 - label_out_auc: 0.5763 - return_out_metrics2: 1.2657 - val_loss: 1.4809 - val_label_out_loss: 0.7003 - val_return_out_loss: 0.7806 - val_label_out_auc: 0.5393 - val_return_out_metrics2: 0.5471\n",
      "Epoch 14/300\n",
      "378/378 [==============================] - 14s 37ms/step - loss: 1.2973 - label_out_loss: 0.6798 - return_out_loss: 0.6175 - label_out_auc: 0.5784 - return_out_metrics2: 1.3099 - val_loss: 1.4651 - val_label_out_loss: 0.7008 - val_return_out_loss: 0.7643 - val_label_out_auc: 0.5394 - val_return_out_metrics2: 0.5509\n"
     ]
    }
   ],
   "source": [
    "model.fit([X_train, wr_train],[y_train, Y_train],validation_data=([X_test, wr_test],[y_test, Y_test]),epochs=300,batch_size=4000,callbacks =  [EarlyStopping('val_label_out_auc',mode='max',patience=10,restore_best_weights=True)])\n",
    "model.save_weights(f'./model_{SEED}_{f}.hdf5')"
   ]
  },
  {
   "cell_type": "code",
   "execution_count": 16,
   "metadata": {
    "execution": {
     "iopub.execute_input": "2021-02-02T12:11:38.267216Z",
     "iopub.status.busy": "2021-02-02T12:11:38.265596Z",
     "iopub.status.idle": "2021-02-02T12:15:44.618398Z",
     "shell.execute_reply": "2021-02-02T12:15:44.619005Z"
    },
    "papermill": {
     "duration": 247.197273,
     "end_time": "2021-02-02T12:15:44.619244",
     "exception": false,
     "start_time": "2021-02-02T12:11:37.421971",
     "status": "completed"
    },
    "tags": []
   },
   "outputs": [
    {
     "name": "stdout",
     "output_type": "stream",
     "text": [
      "Epoch 1/300\n",
      "378/378 [==============================] - 38s 61ms/step - loss: 1.4341 - label_out_loss: 0.7235 - return_out_loss: 0.7106 - label_out_auc: 0.5152 - return_out_metrics2: 0.1768 - val_loss: 1.4665 - val_label_out_loss: 0.6900 - val_return_out_loss: 0.7765 - val_label_out_auc: 0.5429 - val_return_out_metrics2: 0.7609\n",
      "Epoch 2/300\n",
      "378/378 [==============================] - 14s 37ms/step - loss: 1.3826 - label_out_loss: 0.7005 - return_out_loss: 0.6821 - label_out_auc: 0.5416 - return_out_metrics2: 0.5417 - val_loss: 1.4510 - val_label_out_loss: 0.6894 - val_return_out_loss: 0.7615 - val_label_out_auc: 0.5443 - val_return_out_metrics2: 0.7378\n",
      "Epoch 3/300\n",
      "378/378 [==============================] - 14s 36ms/step - loss: 1.4188 - label_out_loss: 0.6966 - return_out_loss: 0.7222 - label_out_auc: 0.5465 - return_out_metrics2: 0.6560 - val_loss: 1.4590 - val_label_out_loss: 0.6912 - val_return_out_loss: 0.7678 - val_label_out_auc: 0.5449 - val_return_out_metrics2: 0.7170\n",
      "Epoch 4/300\n",
      "378/378 [==============================] - 14s 37ms/step - loss: 1.3547 - label_out_loss: 0.6941 - return_out_loss: 0.6606 - label_out_auc: 0.5497 - return_out_metrics2: 0.6900 - val_loss: 1.4941 - val_label_out_loss: 0.6921 - val_return_out_loss: 0.8020 - val_label_out_auc: 0.5431 - val_return_out_metrics2: 0.6345\n",
      "Epoch 5/300\n",
      "378/378 [==============================] - 14s 37ms/step - loss: 1.3508 - label_out_loss: 0.6921 - return_out_loss: 0.6587 - label_out_auc: 0.5522 - return_out_metrics2: 0.7104 - val_loss: 1.4605 - val_label_out_loss: 0.6919 - val_return_out_loss: 0.7686 - val_label_out_auc: 0.5450 - val_return_out_metrics2: 0.6689\n",
      "Epoch 6/300\n",
      "378/378 [==============================] - 14s 37ms/step - loss: 1.4018 - label_out_loss: 0.6905 - return_out_loss: 0.7113 - label_out_auc: 0.5545 - return_out_metrics2: 0.6558 - val_loss: 1.4934 - val_label_out_loss: 0.6921 - val_return_out_loss: 0.8012 - val_label_out_auc: 0.5440 - val_return_out_metrics2: 0.5628\n",
      "Epoch 7/300\n",
      "378/378 [==============================] - 14s 37ms/step - loss: 1.3552 - label_out_loss: 0.6889 - return_out_loss: 0.6663 - label_out_auc: 0.5568 - return_out_metrics2: 0.7494 - val_loss: 1.4943 - val_label_out_loss: 0.6945 - val_return_out_loss: 0.7999 - val_label_out_auc: 0.5422 - val_return_out_metrics2: 0.5465\n",
      "Epoch 8/300\n",
      "378/378 [==============================] - 14s 37ms/step - loss: 1.4007 - label_out_loss: 0.6876 - return_out_loss: 0.7131 - label_out_auc: 0.5582 - return_out_metrics2: 0.8373 - val_loss: 1.4885 - val_label_out_loss: 0.6924 - val_return_out_loss: 0.7961 - val_label_out_auc: 0.5415 - val_return_out_metrics2: 0.5381\n",
      "Epoch 9/300\n",
      "378/378 [==============================] - 14s 37ms/step - loss: 1.3620 - label_out_loss: 0.6864 - return_out_loss: 0.6756 - label_out_auc: 0.5604 - return_out_metrics2: 0.8710 - val_loss: 1.4992 - val_label_out_loss: 0.6924 - val_return_out_loss: 0.8068 - val_label_out_auc: 0.5428 - val_return_out_metrics2: 0.5199\n",
      "Epoch 10/300\n",
      "378/378 [==============================] - 14s 37ms/step - loss: 1.3451 - label_out_loss: 0.6856 - return_out_loss: 0.6595 - label_out_auc: 0.5621 - return_out_metrics2: 0.9061 - val_loss: 1.4938 - val_label_out_loss: 0.6928 - val_return_out_loss: 0.8010 - val_label_out_auc: 0.5404 - val_return_out_metrics2: 0.4971\n",
      "Epoch 11/300\n",
      "378/378 [==============================] - 14s 37ms/step - loss: 1.3497 - label_out_loss: 0.6848 - return_out_loss: 0.6648 - label_out_auc: 0.5644 - return_out_metrics2: 0.9169 - val_loss: 1.4922 - val_label_out_loss: 0.6970 - val_return_out_loss: 0.7952 - val_label_out_auc: 0.5409 - val_return_out_metrics2: 0.5225\n",
      "Epoch 12/300\n",
      "378/378 [==============================] - 14s 36ms/step - loss: 1.3543 - label_out_loss: 0.6842 - return_out_loss: 0.6701 - label_out_auc: 0.5660 - return_out_metrics2: 0.9785 - val_loss: 1.4878 - val_label_out_loss: 0.6955 - val_return_out_loss: 0.7923 - val_label_out_auc: 0.5407 - val_return_out_metrics2: 0.5235\n",
      "Epoch 13/300\n",
      "378/378 [==============================] - 14s 37ms/step - loss: 1.3311 - label_out_loss: 0.6836 - return_out_loss: 0.6475 - label_out_auc: 0.5681 - return_out_metrics2: 1.0180 - val_loss: 1.4787 - val_label_out_loss: 0.6962 - val_return_out_loss: 0.7825 - val_label_out_auc: 0.5396 - val_return_out_metrics2: 0.4695\n",
      "Epoch 14/300\n",
      "378/378 [==============================] - 14s 37ms/step - loss: 1.2986 - label_out_loss: 0.6830 - return_out_loss: 0.6156 - label_out_auc: 0.5696 - return_out_metrics2: 1.0926 - val_loss: 1.4852 - val_label_out_loss: 0.6994 - val_return_out_loss: 0.7858 - val_label_out_auc: 0.5394 - val_return_out_metrics2: 0.5279\n",
      "Epoch 15/300\n",
      "378/378 [==============================] - 14s 37ms/step - loss: 1.2903 - label_out_loss: 0.6822 - return_out_loss: 0.6082 - label_out_auc: 0.5721 - return_out_metrics2: 1.1429 - val_loss: 1.4633 - val_label_out_loss: 0.6970 - val_return_out_loss: 0.7663 - val_label_out_auc: 0.5413 - val_return_out_metrics2: 0.5950\n"
     ]
    }
   ],
   "source": [
    "with tpu_strategy.scope():\n",
    "    model = conv_model(input_dim, output_dim, window_size, cha1, cha2, 0.2)\n",
    "    model.compile(optimizer = Adam(learning_rate = 0.0005), loss = {'label_out':'binary_crossentropy', 'return_out': custom_loss}, metrics = {'label_out':AUC(name = 'auc'), 'return_out': metrics2})\n",
    "\n",
    "\n",
    "model.fit([X_train, wr_train],[y_train, Y_train],validation_data=([X_test, wr_test],[y_test, Y_test]),epochs=300,batch_size=4000,callbacks =  [EarlyStopping('val_label_out_auc',mode='max',patience=10,restore_best_weights=True)])\n",
    "model.save_weights(f'./model2_{SEED}_{f}.hdf5')"
   ]
  },
  {
   "cell_type": "code",
   "execution_count": 17,
   "metadata": {
    "execution": {
     "iopub.execute_input": "2021-02-02T12:15:48.507489Z",
     "iopub.status.busy": "2021-02-02T12:15:48.506782Z",
     "iopub.status.idle": "2021-02-02T12:19:56.950382Z",
     "shell.execute_reply": "2021-02-02T12:19:56.949577Z"
    },
    "papermill": {
     "duration": 250.47884,
     "end_time": "2021-02-02T12:19:56.950572",
     "exception": false,
     "start_time": "2021-02-02T12:15:46.471732",
     "status": "completed"
    },
    "tags": []
   },
   "outputs": [
    {
     "name": "stdout",
     "output_type": "stream",
     "text": [
      "Epoch 1/300\n",
      "378/378 [==============================] - 39s 64ms/step - loss: 1.4188 - label_out_loss: 0.7284 - return_out_loss: 0.6904 - label_out_auc: 0.5126 - return_out_metrics2: 0.1753 - val_loss: 1.4850 - val_label_out_loss: 0.6902 - val_return_out_loss: 0.7947 - val_label_out_auc: 0.5419 - val_return_out_metrics2: 0.6896\n",
      "Epoch 2/300\n",
      "378/378 [==============================] - 14s 37ms/step - loss: 1.3768 - label_out_loss: 0.7015 - return_out_loss: 0.6753 - label_out_auc: 0.5390 - return_out_metrics2: 0.4551 - val_loss: 1.4438 - val_label_out_loss: 0.6898 - val_return_out_loss: 0.7540 - val_label_out_auc: 0.5451 - val_return_out_metrics2: 0.7103\n",
      "Epoch 3/300\n",
      "378/378 [==============================] - 14s 38ms/step - loss: 1.3722 - label_out_loss: 0.6976 - return_out_loss: 0.6746 - label_out_auc: 0.5451 - return_out_metrics2: 0.5427 - val_loss: 1.4893 - val_label_out_loss: 0.6900 - val_return_out_loss: 0.7993 - val_label_out_auc: 0.5450 - val_return_out_metrics2: 0.7252\n",
      "Epoch 4/300\n",
      "378/378 [==============================] - 14s 37ms/step - loss: 1.4148 - label_out_loss: 0.6944 - return_out_loss: 0.7204 - label_out_auc: 0.5483 - return_out_metrics2: 0.6115 - val_loss: 1.4535 - val_label_out_loss: 0.6904 - val_return_out_loss: 0.7631 - val_label_out_auc: 0.5449 - val_return_out_metrics2: 0.6976\n",
      "Epoch 5/300\n",
      "378/378 [==============================] - 14s 37ms/step - loss: 1.3741 - label_out_loss: 0.6921 - return_out_loss: 0.6820 - label_out_auc: 0.5506 - return_out_metrics2: 0.6775 - val_loss: 1.4714 - val_label_out_loss: 0.6905 - val_return_out_loss: 0.7809 - val_label_out_auc: 0.5456 - val_return_out_metrics2: 0.6561\n",
      "Epoch 6/300\n",
      "378/378 [==============================] - 14s 37ms/step - loss: 1.3494 - label_out_loss: 0.6902 - return_out_loss: 0.6592 - label_out_auc: 0.5524 - return_out_metrics2: 0.6857 - val_loss: 1.4601 - val_label_out_loss: 0.6907 - val_return_out_loss: 0.7694 - val_label_out_auc: 0.5438 - val_return_out_metrics2: 0.6905\n",
      "Epoch 7/300\n",
      "378/378 [==============================] - 14s 37ms/step - loss: 1.3666 - label_out_loss: 0.6887 - return_out_loss: 0.6779 - label_out_auc: 0.5543 - return_out_metrics2: 0.6858 - val_loss: 1.4672 - val_label_out_loss: 0.6903 - val_return_out_loss: 0.7770 - val_label_out_auc: 0.5433 - val_return_out_metrics2: 0.6410\n",
      "Epoch 8/300\n",
      "378/378 [==============================] - 14s 37ms/step - loss: 1.4038 - label_out_loss: 0.6875 - return_out_loss: 0.7163 - label_out_auc: 0.5562 - return_out_metrics2: 0.7537 - val_loss: 1.5077 - val_label_out_loss: 0.6897 - val_return_out_loss: 0.8181 - val_label_out_auc: 0.5448 - val_return_out_metrics2: 0.5438\n",
      "Epoch 9/300\n",
      "378/378 [==============================] - 14s 37ms/step - loss: 1.3616 - label_out_loss: 0.6868 - return_out_loss: 0.6748 - label_out_auc: 0.5573 - return_out_metrics2: 0.7995 - val_loss: 1.4941 - val_label_out_loss: 0.6904 - val_return_out_loss: 0.8037 - val_label_out_auc: 0.5439 - val_return_out_metrics2: 0.5893\n",
      "Epoch 10/300\n",
      "378/378 [==============================] - 14s 37ms/step - loss: 1.3718 - label_out_loss: 0.6863 - return_out_loss: 0.6855 - label_out_auc: 0.5592 - return_out_metrics2: 0.8505 - val_loss: 1.4899 - val_label_out_loss: 0.6909 - val_return_out_loss: 0.7991 - val_label_out_auc: 0.5442 - val_return_out_metrics2: 0.6205\n",
      "Epoch 11/300\n",
      "378/378 [==============================] - 14s 37ms/step - loss: 1.3355 - label_out_loss: 0.6858 - return_out_loss: 0.6497 - label_out_auc: 0.5606 - return_out_metrics2: 0.8563 - val_loss: 1.5014 - val_label_out_loss: 0.6914 - val_return_out_loss: 0.8100 - val_label_out_auc: 0.5437 - val_return_out_metrics2: 0.5270\n",
      "Epoch 12/300\n",
      "378/378 [==============================] - 14s 37ms/step - loss: 1.3340 - label_out_loss: 0.6856 - return_out_loss: 0.6484 - label_out_auc: 0.5614 - return_out_metrics2: 0.8678 - val_loss: 1.5051 - val_label_out_loss: 0.6922 - val_return_out_loss: 0.8129 - val_label_out_auc: 0.5411 - val_return_out_metrics2: 0.4700\n",
      "Epoch 13/300\n",
      "378/378 [==============================] - 14s 37ms/step - loss: 1.3691 - label_out_loss: 0.6849 - return_out_loss: 0.6842 - label_out_auc: 0.5634 - return_out_metrics2: 0.9005 - val_loss: 1.4935 - val_label_out_loss: 0.6936 - val_return_out_loss: 0.7999 - val_label_out_auc: 0.5393 - val_return_out_metrics2: 0.4672\n",
      "Epoch 14/300\n",
      "378/378 [==============================] - 14s 37ms/step - loss: 1.3407 - label_out_loss: 0.6846 - return_out_loss: 0.6561 - label_out_auc: 0.5643 - return_out_metrics2: 0.9527 - val_loss: 1.4791 - val_label_out_loss: 0.6939 - val_return_out_loss: 0.7852 - val_label_out_auc: 0.5410 - val_return_out_metrics2: 0.5138\n",
      "Epoch 15/300\n",
      "378/378 [==============================] - 14s 37ms/step - loss: 1.3094 - label_out_loss: 0.6840 - return_out_loss: 0.6253 - label_out_auc: 0.5663 - return_out_metrics2: 1.0042 - val_loss: 1.4869 - val_label_out_loss: 0.6924 - val_return_out_loss: 0.7945 - val_label_out_auc: 0.5412 - val_return_out_metrics2: 0.5406\n"
     ]
    }
   ],
   "source": [
    "with tpu_strategy.scope():\n",
    "    model = conv_model(input_dim, output_dim, window_size, cha1, cha2, 0.25)\n",
    "    model.compile(optimizer = Adam(learning_rate = 0.0005), loss = {'label_out':'binary_crossentropy', 'return_out': custom_loss}, metrics = {'label_out':AUC(name = 'auc'), 'return_out': metrics2})\n",
    "\n",
    "\n",
    "model.fit([X_train, wr_train],[y_train, Y_train],validation_data=([X_test, wr_test],[y_test, Y_test]),epochs=300,batch_size=4000,callbacks =  [EarlyStopping('val_label_out_auc',mode='max',patience=10,restore_best_weights=True)])\n",
    "model.save_weights(f'./model3_{SEED}_{f}.hdf5')"
   ]
  },
  {
   "cell_type": "code",
   "execution_count": 18,
   "metadata": {
    "execution": {
     "iopub.execute_input": "2021-02-02T12:20:02.376935Z",
     "iopub.status.busy": "2021-02-02T12:20:02.375884Z",
     "iopub.status.idle": "2021-02-02T12:24:41.476050Z",
     "shell.execute_reply": "2021-02-02T12:24:41.475460Z"
    },
    "papermill": {
     "duration": 281.819139,
     "end_time": "2021-02-02T12:24:41.476216",
     "exception": false,
     "start_time": "2021-02-02T12:19:59.657077",
     "status": "completed"
    },
    "tags": []
   },
   "outputs": [
    {
     "name": "stdout",
     "output_type": "stream",
     "text": [
      "Epoch 1/300\n",
      "378/378 [==============================] - 38s 63ms/step - loss: 1.5071 - label_out_loss: 0.7339 - return_out_loss: 0.7732 - label_out_auc: 0.5065 - return_out_metrics2: -0.0053 - val_loss: 1.4798 - val_label_out_loss: 0.6905 - val_return_out_loss: 0.7893 - val_label_out_auc: 0.5401 - val_return_out_metrics2: 0.6022\n",
      "Epoch 2/300\n",
      "378/378 [==============================] - 14s 37ms/step - loss: 1.4260 - label_out_loss: 0.7034 - return_out_loss: 0.7226 - label_out_auc: 0.5359 - return_out_metrics2: 0.4091 - val_loss: 1.4710 - val_label_out_loss: 0.6900 - val_return_out_loss: 0.7810 - val_label_out_auc: 0.5434 - val_return_out_metrics2: 0.7423\n",
      "Epoch 3/300\n",
      "378/378 [==============================] - 14s 37ms/step - loss: 1.3730 - label_out_loss: 0.6987 - return_out_loss: 0.6743 - label_out_auc: 0.5423 - return_out_metrics2: 0.5573 - val_loss: 1.4298 - val_label_out_loss: 0.6896 - val_return_out_loss: 0.7402 - val_label_out_auc: 0.5455 - val_return_out_metrics2: 0.8142\n",
      "Epoch 4/300\n",
      "378/378 [==============================] - 14s 37ms/step - loss: 1.3935 - label_out_loss: 0.6947 - return_out_loss: 0.6989 - label_out_auc: 0.5464 - return_out_metrics2: 0.5611 - val_loss: 1.4393 - val_label_out_loss: 0.6906 - val_return_out_loss: 0.7487 - val_label_out_auc: 0.5451 - val_return_out_metrics2: 0.7692\n",
      "Epoch 5/300\n",
      "378/378 [==============================] - 14s 38ms/step - loss: 1.3721 - label_out_loss: 0.6924 - return_out_loss: 0.6797 - label_out_auc: 0.5480 - return_out_metrics2: 0.5599 - val_loss: 1.4700 - val_label_out_loss: 0.6906 - val_return_out_loss: 0.7794 - val_label_out_auc: 0.5444 - val_return_out_metrics2: 0.6772\n",
      "Epoch 6/300\n",
      "378/378 [==============================] - 14s 37ms/step - loss: 1.3930 - label_out_loss: 0.6901 - return_out_loss: 0.7029 - label_out_auc: 0.5509 - return_out_metrics2: 0.7268 - val_loss: 1.4784 - val_label_out_loss: 0.6894 - val_return_out_loss: 0.7889 - val_label_out_auc: 0.5453 - val_return_out_metrics2: 0.6164\n",
      "Epoch 7/300\n",
      "378/378 [==============================] - 14s 37ms/step - loss: 1.3665 - label_out_loss: 0.6888 - return_out_loss: 0.6777 - label_out_auc: 0.5521 - return_out_metrics2: 0.6742 - val_loss: 1.4689 - val_label_out_loss: 0.6896 - val_return_out_loss: 0.7793 - val_label_out_auc: 0.5458 - val_return_out_metrics2: 0.6821\n",
      "Epoch 8/300\n",
      "378/378 [==============================] - 14s 37ms/step - loss: 1.3279 - label_out_loss: 0.6877 - return_out_loss: 0.6401 - label_out_auc: 0.5541 - return_out_metrics2: 0.7750 - val_loss: 1.4819 - val_label_out_loss: 0.6902 - val_return_out_loss: 0.7917 - val_label_out_auc: 0.5446 - val_return_out_metrics2: 0.6321\n",
      "Epoch 9/300\n",
      "378/378 [==============================] - 14s 37ms/step - loss: 1.3335 - label_out_loss: 0.6873 - return_out_loss: 0.6462 - label_out_auc: 0.5553 - return_out_metrics2: 0.7089 - val_loss: 1.4931 - val_label_out_loss: 0.6903 - val_return_out_loss: 0.8028 - val_label_out_auc: 0.5451 - val_return_out_metrics2: 0.5627\n",
      "Epoch 10/300\n",
      "378/378 [==============================] - 14s 37ms/step - loss: 1.3698 - label_out_loss: 0.6870 - return_out_loss: 0.6828 - label_out_auc: 0.5565 - return_out_metrics2: 0.7583 - val_loss: 1.4921 - val_label_out_loss: 0.6902 - val_return_out_loss: 0.8019 - val_label_out_auc: 0.5451 - val_return_out_metrics2: 0.6154\n",
      "Epoch 11/300\n",
      "378/378 [==============================] - 14s 36ms/step - loss: 1.3410 - label_out_loss: 0.6867 - return_out_loss: 0.6544 - label_out_auc: 0.5577 - return_out_metrics2: 0.8224 - val_loss: 1.5033 - val_label_out_loss: 0.6911 - val_return_out_loss: 0.8123 - val_label_out_auc: 0.5451 - val_return_out_metrics2: 0.5381\n",
      "Epoch 12/300\n",
      "378/378 [==============================] - 14s 37ms/step - loss: 1.3661 - label_out_loss: 0.6863 - return_out_loss: 0.6797 - label_out_auc: 0.5592 - return_out_metrics2: 0.8268 - val_loss: 1.4819 - val_label_out_loss: 0.6918 - val_return_out_loss: 0.7901 - val_label_out_auc: 0.5423 - val_return_out_metrics2: 0.5936\n",
      "Epoch 13/300\n",
      "378/378 [==============================] - 14s 37ms/step - loss: 1.3612 - label_out_loss: 0.6861 - return_out_loss: 0.6751 - label_out_auc: 0.5597 - return_out_metrics2: 0.8453 - val_loss: 1.5042 - val_label_out_loss: 0.6919 - val_return_out_loss: 0.8123 - val_label_out_auc: 0.5436 - val_return_out_metrics2: 0.5638\n",
      "Epoch 14/300\n",
      "378/378 [==============================] - 14s 37ms/step - loss: 1.3757 - label_out_loss: 0.6857 - return_out_loss: 0.6900 - label_out_auc: 0.5609 - return_out_metrics2: 0.8521 - val_loss: 1.4873 - val_label_out_loss: 0.6930 - val_return_out_loss: 0.7943 - val_label_out_auc: 0.5421 - val_return_out_metrics2: 0.5419\n",
      "Epoch 15/300\n",
      "378/378 [==============================] - 14s 37ms/step - loss: 1.3288 - label_out_loss: 0.6855 - return_out_loss: 0.6434 - label_out_auc: 0.5612 - return_out_metrics2: 0.9326 - val_loss: 1.4833 - val_label_out_loss: 0.6928 - val_return_out_loss: 0.7905 - val_label_out_auc: 0.5424 - val_return_out_metrics2: 0.5614\n",
      "Epoch 16/300\n",
      "378/378 [==============================] - 14s 37ms/step - loss: 1.3677 - label_out_loss: 0.6850 - return_out_loss: 0.6827 - label_out_auc: 0.5630 - return_out_metrics2: 0.8750 - val_loss: 1.4940 - val_label_out_loss: 0.6915 - val_return_out_loss: 0.8025 - val_label_out_auc: 0.5425 - val_return_out_metrics2: 0.5611\n",
      "Epoch 17/300\n",
      "378/378 [==============================] - 14s 37ms/step - loss: 1.3119 - label_out_loss: 0.6849 - return_out_loss: 0.6271 - label_out_auc: 0.5637 - return_out_metrics2: 0.9122 - val_loss: 1.4669 - val_label_out_loss: 0.6914 - val_return_out_loss: 0.7755 - val_label_out_auc: 0.5432 - val_return_out_metrics2: 0.5802\n"
     ]
    }
   ],
   "source": [
    "with tpu_strategy.scope():\n",
    "    model = conv_model(input_dim, output_dim, window_size, cha1, cha2, 0.3)\n",
    "    model.compile(optimizer = Adam(learning_rate = 0.0005), loss = {'label_out':'binary_crossentropy', 'return_out': custom_loss}, metrics = {'label_out':AUC(name = 'auc'), 'return_out': metrics2})\n",
    "\n",
    "\n",
    "model.fit([X_train, wr_train],[y_train, Y_train],validation_data=([X_test, wr_test],[y_test, Y_test]),epochs=300,batch_size=4000,callbacks =  [EarlyStopping('val_label_out_auc',mode='max',patience=10,restore_best_weights=True)])\n",
    "model.save_weights(f'./model4_{SEED}_{f}.hdf5')"
   ]
  },
  {
   "cell_type": "code",
   "execution_count": 19,
   "metadata": {
    "execution": {
     "iopub.execute_input": "2021-02-02T12:24:48.806012Z",
     "iopub.status.busy": "2021-02-02T12:24:48.804826Z",
     "iopub.status.idle": "2021-02-02T12:29:12.586311Z",
     "shell.execute_reply": "2021-02-02T12:29:12.586860Z"
    },
    "papermill": {
     "duration": 267.481151,
     "end_time": "2021-02-02T12:29:12.587092",
     "exception": false,
     "start_time": "2021-02-02T12:24:45.105941",
     "status": "completed"
    },
    "tags": []
   },
   "outputs": [
    {
     "name": "stdout",
     "output_type": "stream",
     "text": [
      "Epoch 1/300\n",
      "378/378 [==============================] - 39s 62ms/step - loss: 1.4758 - label_out_loss: 0.7409 - return_out_loss: 0.7349 - label_out_auc: 0.5037 - return_out_metrics2: -0.1064 - val_loss: 1.4183 - val_label_out_loss: 0.6916 - val_return_out_loss: 0.7267 - val_label_out_auc: 0.5363 - val_return_out_metrics2: 0.6280\n",
      "Epoch 2/300\n",
      "378/378 [==============================] - 14s 37ms/step - loss: 1.4355 - label_out_loss: 0.7054 - return_out_loss: 0.7301 - label_out_auc: 0.5301 - return_out_metrics2: 0.2800 - val_loss: 1.4883 - val_label_out_loss: 0.6904 - val_return_out_loss: 0.7979 - val_label_out_auc: 0.5415 - val_return_out_metrics2: 0.6518\n",
      "Epoch 3/300\n",
      "378/378 [==============================] - 14s 38ms/step - loss: 1.3591 - label_out_loss: 0.6995 - return_out_loss: 0.6596 - label_out_auc: 0.5387 - return_out_metrics2: 0.4229 - val_loss: 1.4651 - val_label_out_loss: 0.6914 - val_return_out_loss: 0.7737 - val_label_out_auc: 0.5434 - val_return_out_metrics2: 0.7082\n",
      "Epoch 4/300\n",
      "378/378 [==============================] - 14s 37ms/step - loss: 1.3984 - label_out_loss: 0.6950 - return_out_loss: 0.7034 - label_out_auc: 0.5430 - return_out_metrics2: 0.5254 - val_loss: 1.4845 - val_label_out_loss: 0.6922 - val_return_out_loss: 0.7924 - val_label_out_auc: 0.5432 - val_return_out_metrics2: 0.6968\n",
      "Epoch 5/300\n",
      "378/378 [==============================] - 14s 37ms/step - loss: 1.3576 - label_out_loss: 0.6921 - return_out_loss: 0.6654 - label_out_auc: 0.5460 - return_out_metrics2: 0.5732 - val_loss: 1.4973 - val_label_out_loss: 0.6895 - val_return_out_loss: 0.8078 - val_label_out_auc: 0.5439 - val_return_out_metrics2: 0.6731\n",
      "Epoch 6/300\n",
      "378/378 [==============================] - 16s 42ms/step - loss: 1.3695 - label_out_loss: 0.6898 - return_out_loss: 0.6797 - label_out_auc: 0.5485 - return_out_metrics2: 0.5511 - val_loss: 1.4503 - val_label_out_loss: 0.6894 - val_return_out_loss: 0.7609 - val_label_out_auc: 0.5451 - val_return_out_metrics2: 0.7091\n",
      "Epoch 7/300\n",
      "378/378 [==============================] - 14s 37ms/step - loss: 1.3699 - label_out_loss: 0.6885 - return_out_loss: 0.6814 - label_out_auc: 0.5504 - return_out_metrics2: 0.6078 - val_loss: 1.4660 - val_label_out_loss: 0.6898 - val_return_out_loss: 0.7762 - val_label_out_auc: 0.5447 - val_return_out_metrics2: 0.6583\n",
      "Epoch 8/300\n",
      "378/378 [==============================] - 14s 37ms/step - loss: 1.3664 - label_out_loss: 0.6881 - return_out_loss: 0.6783 - label_out_auc: 0.5513 - return_out_metrics2: 0.6060 - val_loss: 1.4731 - val_label_out_loss: 0.6906 - val_return_out_loss: 0.7825 - val_label_out_auc: 0.5447 - val_return_out_metrics2: 0.6715\n",
      "Epoch 9/300\n",
      "378/378 [==============================] - 14s 37ms/step - loss: 1.3742 - label_out_loss: 0.6877 - return_out_loss: 0.6864 - label_out_auc: 0.5531 - return_out_metrics2: 0.7200 - val_loss: 1.4652 - val_label_out_loss: 0.6905 - val_return_out_loss: 0.7747 - val_label_out_auc: 0.5446 - val_return_out_metrics2: 0.6675\n",
      "Epoch 10/300\n",
      "378/378 [==============================] - 14s 37ms/step - loss: 1.3742 - label_out_loss: 0.6876 - return_out_loss: 0.6865 - label_out_auc: 0.5536 - return_out_metrics2: 0.7031 - val_loss: 1.4844 - val_label_out_loss: 0.6906 - val_return_out_loss: 0.7938 - val_label_out_auc: 0.5431 - val_return_out_metrics2: 0.5935\n",
      "Epoch 11/300\n",
      "378/378 [==============================] - 14s 37ms/step - loss: 1.4333 - label_out_loss: 0.6874 - return_out_loss: 0.7460 - label_out_auc: 0.5546 - return_out_metrics2: 0.7199 - val_loss: 1.4959 - val_label_out_loss: 0.6917 - val_return_out_loss: 0.8042 - val_label_out_auc: 0.5425 - val_return_out_metrics2: 0.5644\n",
      "Epoch 12/300\n",
      "378/378 [==============================] - 14s 37ms/step - loss: 1.3601 - label_out_loss: 0.6873 - return_out_loss: 0.6727 - label_out_auc: 0.5545 - return_out_metrics2: 0.6653 - val_loss: 1.4853 - val_label_out_loss: 0.6908 - val_return_out_loss: 0.7945 - val_label_out_auc: 0.5441 - val_return_out_metrics2: 0.6491\n",
      "Epoch 13/300\n",
      "378/378 [==============================] - 14s 37ms/step - loss: 1.3596 - label_out_loss: 0.6870 - return_out_loss: 0.6726 - label_out_auc: 0.5561 - return_out_metrics2: 0.7618 - val_loss: 1.4969 - val_label_out_loss: 0.6921 - val_return_out_loss: 0.8048 - val_label_out_auc: 0.5435 - val_return_out_metrics2: 0.6062\n",
      "Epoch 14/300\n",
      "378/378 [==============================] - 14s 37ms/step - loss: 1.3528 - label_out_loss: 0.6867 - return_out_loss: 0.6661 - label_out_auc: 0.5573 - return_out_metrics2: 0.7852 - val_loss: 1.4840 - val_label_out_loss: 0.6911 - val_return_out_loss: 0.7929 - val_label_out_auc: 0.5441 - val_return_out_metrics2: 0.6229\n",
      "Epoch 15/300\n",
      "378/378 [==============================] - 14s 37ms/step - loss: 1.3830 - label_out_loss: 0.6865 - return_out_loss: 0.6965 - label_out_auc: 0.5580 - return_out_metrics2: 0.8202 - val_loss: 1.4796 - val_label_out_loss: 0.6920 - val_return_out_loss: 0.7876 - val_label_out_auc: 0.5429 - val_return_out_metrics2: 0.6106\n",
      "Epoch 16/300\n",
      "378/378 [==============================] - 14s 37ms/step - loss: 1.3254 - label_out_loss: 0.6863 - return_out_loss: 0.6392 - label_out_auc: 0.5588 - return_out_metrics2: 0.8686 - val_loss: 1.4890 - val_label_out_loss: 0.6921 - val_return_out_loss: 0.7968 - val_label_out_auc: 0.5424 - val_return_out_metrics2: 0.5845\n"
     ]
    }
   ],
   "source": [
    "with tpu_strategy.scope():\n",
    "    model = conv_model(input_dim, output_dim, window_size, cha1, cha2, 0.35)\n",
    "    model.compile(optimizer = Adam(learning_rate = 0.0005), loss = {'label_out':'binary_crossentropy', 'return_out': custom_loss}, metrics = {'label_out':AUC(name = 'auc'), 'return_out': metrics2})\n",
    "\n",
    "\n",
    "model.fit([X_train, wr_train],[y_train, Y_train],validation_data=([X_test, wr_test],[y_test, Y_test]),epochs=300,batch_size=4000,callbacks =  [EarlyStopping('val_label_out_auc',mode='max',patience=10,restore_best_weights=True)])\n",
    "model.save_weights(f'./model5_{SEED}_{f}.hdf5')"
   ]
  }
 ],
 "metadata": {
  "kernelspec": {
   "display_name": "Python 3",
   "language": "python",
   "name": "python3"
  },
  "language_info": {
   "codemirror_mode": {
    "name": "ipython",
    "version": 3
   },
   "file_extension": ".py",
   "mimetype": "text/x-python",
   "name": "python",
   "nbconvert_exporter": "python",
   "pygments_lexer": "ipython3",
   "version": "3.7.9"
  },
  "papermill": {
   "default_parameters": {},
   "duration": 1491.451647,
   "end_time": "2021-02-02T12:29:20.645944",
   "environment_variables": {},
   "exception": null,
   "input_path": "__notebook__.ipynb",
   "output_path": "__notebook__.ipynb",
   "parameters": {},
   "start_time": "2021-02-02T12:04:29.194297",
   "version": "2.2.2"
  }
 },
 "nbformat": 4,
 "nbformat_minor": 4
}
