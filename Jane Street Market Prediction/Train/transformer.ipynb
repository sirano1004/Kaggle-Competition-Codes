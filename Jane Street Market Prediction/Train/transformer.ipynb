{
 "cells": [
  {
   "cell_type": "markdown",
   "metadata": {
    "papermill": {
     "duration": 0.017881,
     "end_time": "2021-02-02T15:08:39.122083",
     "exception": false,
     "start_time": "2021-02-02T15:08:39.104202",
     "status": "completed"
    },
    "tags": []
   },
   "source": [
    "# Jane Street: Neural Network Starter\n",
    "\n",
    "I try implementing a simple Tensorflow Keras neural network here. Train in Version 17.\n",
    "\n",
    "**Caution:** The GroupCV method applied in this notebook may cause time leakage problem. Please use [Purged Time-Series CV][1] instead.\n",
    "\n",
    "[1]: https://www.kaggle.com/marketneutral/purged-time-series-cv-xgboost-optuna"
   ]
  },
  {
   "cell_type": "code",
   "execution_count": 1,
   "metadata": {
    "execution": {
     "iopub.execute_input": "2021-02-02T15:08:39.161509Z",
     "iopub.status.busy": "2021-02-02T15:08:39.160759Z",
     "iopub.status.idle": "2021-02-02T15:08:39.164951Z",
     "shell.execute_reply": "2021-02-02T15:08:39.164150Z"
    },
    "papermill": {
     "duration": 0.026562,
     "end_time": "2021-02-02T15:08:39.165167",
     "exception": false,
     "start_time": "2021-02-02T15:08:39.138605",
     "status": "completed"
    },
    "tags": []
   },
   "outputs": [],
   "source": [
    "TRAINING = True\n",
    "USE_FINETUNE = False"
   ]
  },
  {
   "cell_type": "code",
   "execution_count": 2,
   "metadata": {
    "_kg_hide-output": true,
    "execution": {
     "iopub.execute_input": "2021-02-02T15:08:39.211965Z",
     "iopub.status.busy": "2021-02-02T15:08:39.211223Z",
     "iopub.status.idle": "2021-02-02T15:08:48.497862Z",
     "shell.execute_reply": "2021-02-02T15:08:48.498738Z"
    },
    "papermill": {
     "duration": 9.317048,
     "end_time": "2021-02-02T15:08:48.499049",
     "exception": false,
     "start_time": "2021-02-02T15:08:39.182001",
     "status": "completed"
    },
    "tags": []
   },
   "outputs": [],
   "source": [
    "import warnings\n",
    "warnings.filterwarnings('ignore')\n",
    "\n",
    "#if TRAINING:\n",
    "#    import cudf\n",
    "#    import cupy as cp\n",
    "\n",
    "import os, gc\n",
    "import pandas as pd\n",
    "import numpy as np\n",
    "import xgboost as xgb\n",
    "from hyperopt import hp, fmin, tpe, Trials\n",
    "from hyperopt.pyll.base import scope\n",
    "from sklearn.metrics import roc_auc_score, roc_curve\n",
    "from sklearn.model_selection import GroupKFold\n",
    "import matplotlib.pyplot as plt\n",
    "from tqdm.notebook import tqdm, trange\n",
    "from joblib import dump, load\n",
    "\n",
    "import tensorflow as tf\n",
    "import tensorflow.keras.backend as K\n",
    "import tensorflow.keras.layers as layers\n",
    "from tensorflow.keras.layers import Input, Dense, BatchNormalization, Dropout, Concatenate, Lambda, GaussianNoise, Activation\n",
    "from tensorflow.keras.callbacks import Callback, ReduceLROnPlateau, ModelCheckpoint, EarlyStopping\n",
    "from tensorflow.keras.models import Model, Sequential\n",
    "from tensorflow.keras.losses import BinaryCrossentropy\n",
    "from tensorflow.keras.optimizers import Adam\n",
    "from tensorflow.keras.layers.experimental.preprocessing import Normalization\n",
    "\n",
    "\n",
    "import numpy as np\n",
    "from sklearn.model_selection import KFold\n",
    "from sklearn.model_selection._split import _BaseKFold, indexable, _num_samples\n",
    "from sklearn.utils.validation import _deprecate_positional_args\n",
    "\n",
    "\n",
    "import numpy as np\n",
    "from sklearn.model_selection import KFold\n",
    "from sklearn.model_selection._split import _BaseKFold, indexable, _num_samples\n",
    "from sklearn.utils.validation import _deprecate_positional_args\n",
    "import kerastuner as kt"
   ]
  },
  {
   "cell_type": "markdown",
   "metadata": {
    "papermill": {
     "duration": 0.017285,
     "end_time": "2021-02-02T15:08:48.542520",
     "exception": false,
     "start_time": "2021-02-02T15:08:48.525235",
     "status": "completed"
    },
    "tags": []
   },
   "source": [
    "# Preprocessing"
   ]
  },
  {
   "cell_type": "code",
   "execution_count": 3,
   "metadata": {
    "execution": {
     "iopub.execute_input": "2021-02-02T15:08:48.584900Z",
     "iopub.status.busy": "2021-02-02T15:08:48.584232Z",
     "iopub.status.idle": "2021-02-02T15:08:48.589863Z",
     "shell.execute_reply": "2021-02-02T15:08:48.590520Z"
    },
    "papermill": {
     "duration": 0.030286,
     "end_time": "2021-02-02T15:08:48.590713",
     "exception": false,
     "start_time": "2021-02-02T15:08:48.560427",
     "status": "completed"
    },
    "tags": []
   },
   "outputs": [],
   "source": [
    "TARGET = 'action'\n",
    "FEATS = ['feature_{}'.format(int(i)) for i in range(130)]\n",
    "#FIX_FEAT = ['feature_53', 'feature_45', 'feature_69', 'feature_101', 'feature_84', 'feature_121', 'feature_48', 'feature_89', 'feature_93', 'feature_106', 'feature_108', 'feature_99', 'feature_100', 'feature_87', 'feature_120', 'feature_98', 'feature_46', 'feature_128', 'feature_50', 'feature_116', 'feature_71', 'feature_111', 'feature_55', 'feature_49', 'feature_56', 'feature_1', 'feature_51', 'feature_57', 'feature_107', 'feature_41', 'feature_109', 'feature_113', 'feature_123', 'feature_103', 'feature_90', 'feature_91', 'feature_114', 'feature_42', 'feature_54', 'feature_47', 'feature_95', 'feature_96']"
   ]
  },
  {
   "cell_type": "code",
   "execution_count": 4,
   "metadata": {
    "_kg_hide-output": false,
    "execution": {
     "iopub.execute_input": "2021-02-02T15:08:48.629379Z",
     "iopub.status.busy": "2021-02-02T15:08:48.628612Z",
     "iopub.status.idle": "2021-02-02T15:11:29.083888Z",
     "shell.execute_reply": "2021-02-02T15:11:29.084416Z"
    },
    "papermill": {
     "duration": 160.476626,
     "end_time": "2021-02-02T15:11:29.084622",
     "exception": false,
     "start_time": "2021-02-02T15:08:48.607996",
     "status": "completed"
    },
    "tags": []
   },
   "outputs": [
    {
     "name": "stdout",
     "output_type": "stream",
     "text": [
      "Loading...\n",
      "Filling...\n",
      "Finish.\n"
     ]
    }
   ],
   "source": [
    "if TRAINING:\n",
    "    print('Loading...')\n",
    "    train = pd.read_csv('/kaggle/input/jane-street-market-prediction/train.csv')\n",
    "    TARGET = 'action'\n",
    "    FEATS = ['feature_{}'.format(int(i)) for i in range(130)]\n",
    "\n",
    "    print('Filling...')\n",
    "    train = train.query('weight > 0').reset_index(drop = True)\n",
    "    resp_cols = ['resp_1', 'resp_2', 'resp_3', 'resp', 'resp_4']\n",
    "    y = np.stack([(train[c] > 0.00000).astype('int') for c in resp_cols]).T #Multitarget\n",
    "\n",
    "    X = train[FEATS].to_numpy()\n",
    "    wr = train.weight*train['resp'].to_numpy()\n",
    "    Y = wr*y[:,3]\n",
    "    X = train[FEATS].to_numpy()\n",
    "    print('Finish.')"
   ]
  },
  {
   "cell_type": "code",
   "execution_count": 5,
   "metadata": {
    "execution": {
     "iopub.execute_input": "2021-02-02T15:11:29.124990Z",
     "iopub.status.busy": "2021-02-02T15:11:29.124289Z",
     "iopub.status.idle": "2021-02-02T15:11:37.511697Z",
     "shell.execute_reply": "2021-02-02T15:11:37.512365Z"
    },
    "papermill": {
     "duration": 8.409975,
     "end_time": "2021-02-02T15:11:37.512557",
     "exception": false,
     "start_time": "2021-02-02T15:11:29.102582",
     "status": "completed"
    },
    "tags": []
   },
   "outputs": [],
   "source": [
    "if TRAINING:\n",
    "    nan_feat = (train[FEATS].isnull().sum()>0)\n",
    "    NAN_FEAT = nan_feat[nan_feat == True].index\n",
    "    nan_feat_bool = nan_feat.values\n",
    "    with open('../input/js-cv-split2/f_mean.npy', 'rb') as f:\n",
    "        f_mean = np.load(f)\n",
    "    \n",
    "    mask2 = np.isnan(X[:,nan_feat_bool]).astype(int)\n",
    "    X = np.nan_to_num(X) + np.isnan(X).astype(int) * f_mean\n",
    "    del(train)\n",
    "    _= gc.collect()\n",
    "    pd.to_pickle(nan_feat_bool, 'nfb.pkl')"
   ]
  },
  {
   "cell_type": "code",
   "execution_count": 6,
   "metadata": {
    "execution": {
     "iopub.execute_input": "2021-02-02T15:11:37.552707Z",
     "iopub.status.busy": "2021-02-02T15:11:37.551967Z",
     "iopub.status.idle": "2021-02-02T15:11:37.562041Z",
     "shell.execute_reply": "2021-02-02T15:11:37.561404Z"
    },
    "papermill": {
     "duration": 0.031249,
     "end_time": "2021-02-02T15:11:37.562216",
     "exception": false,
     "start_time": "2021-02-02T15:11:37.530967",
     "status": "completed"
    },
    "tags": []
   },
   "outputs": [],
   "source": [
    "import tensorflow as tf\n",
    "from tensorflow.keras import optimizers\n",
    "from tensorflow.keras.models import Sequential, Model\n",
    "from tensorflow.keras.layers import Activation, Dense, Dropout, LSTM, Masking, Embedding, Concatenate, Input, Reshape,Flatten, AveragePooling1D\n",
    "from tensorflow.keras.layers import concatenate, Softmax\n",
    "from tensorflow.keras.regularizers import l1, l2, l1_l2\n",
    "from tensorflow.keras.metrics import AUC\n",
    "from tensorflow.keras import backend as K\n",
    "from tensorflow.keras.layers import Lambda\n",
    "#from tensorflow.keras.layers import merge\n",
    "from tensorflow.keras.layers import multiply, Reshape, add\n",
    "import pandas as pd\n",
    "import numpy as np\n",
    "import gc\n",
    "from sklearn.metrics import roc_auc_score\n",
    "from collections import defaultdict\n",
    "from tqdm import tqdm\n",
    "from tqdm import trange\n",
    "from tensorflow.keras.utils import Sequence\n",
    "from tensorflow.keras.preprocessing.sequence import pad_sequences"
   ]
  },
  {
   "cell_type": "code",
   "execution_count": 7,
   "metadata": {
    "execution": {
     "iopub.execute_input": "2021-02-02T15:11:37.615625Z",
     "iopub.status.busy": "2021-02-02T15:11:37.614940Z",
     "iopub.status.idle": "2021-02-02T15:11:37.829775Z",
     "shell.execute_reply": "2021-02-02T15:11:37.829096Z"
    },
    "papermill": {
     "duration": 0.249209,
     "end_time": "2021-02-02T15:11:37.829982",
     "exception": false,
     "start_time": "2021-02-02T15:11:37.580773",
     "status": "completed"
    },
    "tags": []
   },
   "outputs": [],
   "source": [
    "import warnings\n",
    "warnings.filterwarnings('ignore')\n",
    "\n",
    "#if TRAINING:\n",
    "#    import cudf\n",
    "#    import cupy as cp\n",
    "\n",
    "import os, gc\n",
    "import pandas as pd\n",
    "import numpy as np\n",
    "from hyperopt import hp, fmin, tpe, Trials\n",
    "from hyperopt.pyll.base import scope\n",
    "from sklearn.metrics import roc_auc_score, roc_curve\n",
    "from sklearn.model_selection import GroupKFold\n",
    "import matplotlib.pyplot as plt\n",
    "from tqdm import tqdm, trange\n",
    "from joblib import dump, load\n",
    "\n",
    "import tensorflow as tf\n",
    "import tensorflow.keras.backend as K\n",
    "import tensorflow.keras.layers as layers\n",
    "from tensorflow.keras.layers import Input, Dense, BatchNormalization, Dropout, Concatenate, Lambda, GaussianNoise, Activation, Masking, LSTM, Multiply, Add, Flatten\n",
    "from tensorflow.keras.callbacks import Callback, ReduceLROnPlateau, ModelCheckpoint, EarlyStopping\n",
    "from tensorflow.keras.models import Model, Sequential\n",
    "from tensorflow.keras.losses import BinaryCrossentropy\n",
    "from tensorflow.keras.optimizers import Adam\n",
    "from tensorflow.keras.layers.experimental.preprocessing import Normalization\n",
    "from tensorflow.keras.layers import multiply, Reshape, add\n",
    "from tensorflow.keras.metrics import AUC\n",
    "from tensorflow.keras.activations import sigmoid\n",
    "\n",
    "import numpy as np\n",
    "from sklearn.model_selection import KFold\n",
    "from sklearn.model_selection._split import _BaseKFold, indexable, _num_samples\n",
    "from sklearn.utils.validation import _deprecate_positional_args\n",
    "\n",
    "\n",
    "import numpy as np\n",
    "from sklearn.model_selection import KFold\n",
    "from sklearn.model_selection._split import _BaseKFold, indexable, _num_samples\n",
    "from sklearn.utils.validation import _deprecate_positional_args\n",
    "import kerastuner as kt\n",
    "\n",
    "\n",
    "\n",
    "def create_autoencoder(input_dim,output_dim,noise=0.1):\n",
    "    i = Input(130)\n",
    "    mask = Input(130)\n",
    "    encoded = BatchNormalization()(i)\n",
    "    encoded = GaussianNoise(noise)(encoded)\n",
    "    \n",
    "    encoded = Dense(96, activation = 'elu')(encoded)\n",
    "    encoded = Dense(64,activation='linear')(encoded)\n",
    "    encoder = Model(inputs=i,outputs=encoded)\n",
    "    \n",
    "    return encoder\n",
    "\n",
    "\n",
    "encoder = create_autoencoder(130, 5, noise=0.1)\n",
    "encoder.load_weights('../input/js-cv-split2/encoder.hdf5')\n",
    "encoder.trainable = False"
   ]
  },
  {
   "cell_type": "code",
   "execution_count": 8,
   "metadata": {
    "execution": {
     "iopub.execute_input": "2021-02-02T15:11:37.870464Z",
     "iopub.status.busy": "2021-02-02T15:11:37.869435Z",
     "iopub.status.idle": "2021-02-02T15:11:39.054605Z",
     "shell.execute_reply": "2021-02-02T15:11:39.053825Z"
    },
    "papermill": {
     "duration": 1.206406,
     "end_time": "2021-02-02T15:11:39.054772",
     "exception": false,
     "start_time": "2021-02-02T15:11:37.848366",
     "status": "completed"
    },
    "tags": []
   },
   "outputs": [],
   "source": [
    "splits = pd.read_pickle('../input/js-cv-split2/cross_validation.pkl')"
   ]
  },
  {
   "cell_type": "code",
   "execution_count": 9,
   "metadata": {
    "execution": {
     "iopub.execute_input": "2021-02-02T15:11:39.415193Z",
     "iopub.status.busy": "2021-02-02T15:11:39.100944Z",
     "iopub.status.idle": "2021-02-02T15:11:51.680570Z",
     "shell.execute_reply": "2021-02-02T15:11:51.679973Z"
    },
    "papermill": {
     "duration": 12.607052,
     "end_time": "2021-02-02T15:11:51.680752",
     "exception": false,
     "start_time": "2021-02-02T15:11:39.073700",
     "status": "completed"
    },
    "tags": []
   },
   "outputs": [],
   "source": [
    "f = 4\n",
    "\n",
    "y_train, y_test = y[splits[f][0]], y[splits[f][1]]\n",
    "X_train, X_test = X[splits[f][0]], X[splits[f][1]]\n",
    "Y_train, Y_test = Y[splits[f][0]], Y[splits[f][1]]\n",
    "mask_train, mask_test = mask2[splits[f][0]], mask2[splits[f][1]]\n",
    "            \n",
    "encoded_X_train = encoder(X_train).numpy()\n",
    "encoded_X_test = encoder(X_test).numpy()\n",
    "            \n",
    "X_train = np.concatenate((X_train, encoded_X_train, mask_train), axis = -1)\n",
    "X_test = np.concatenate((X_test, encoded_X_test, mask_test), axis = -1)\n",
    "\n",
    "wr_train, wr_test = wr[splits[f][0]], wr[splits[f][1]]\n",
    "\n",
    "del(X, y, encoded_X_train, encoded_X_test, Y, wr, mask_train, mask_test)\n",
    "\n",
    "_=gc.collect()\n"
   ]
  },
  {
   "cell_type": "markdown",
   "metadata": {
    "papermill": {
     "duration": 0.020889,
     "end_time": "2021-02-02T15:11:51.721546",
     "exception": false,
     "start_time": "2021-02-02T15:11:51.700657",
     "status": "completed"
    },
    "tags": []
   },
   "source": [
    "# Transformer Starter"
   ]
  },
  {
   "cell_type": "code",
   "execution_count": 10,
   "metadata": {
    "execution": {
     "iopub.execute_input": "2021-02-02T15:11:51.768552Z",
     "iopub.status.busy": "2021-02-02T15:11:51.762892Z",
     "iopub.status.idle": "2021-02-02T15:11:51.777317Z",
     "shell.execute_reply": "2021-02-02T15:11:51.777816Z"
    },
    "papermill": {
     "duration": 0.038029,
     "end_time": "2021-02-02T15:11:51.778045",
     "exception": false,
     "start_time": "2021-02-02T15:11:51.740016",
     "status": "completed"
    },
    "tags": []
   },
   "outputs": [],
   "source": [
    "def get_angles(pos, i, d_model):\n",
    "    angle_rates = 1 / np.power(10000, (2 * (i//2)) / np.float32(d_model))\n",
    "    return pos * angle_rates\n",
    "\n",
    "\n",
    "def positional_encoding(position, d_model):\n",
    "    angle_rads = get_angles(np.arange(position)[:, np.newaxis],\n",
    "                          np.arange(d_model)[np.newaxis, :],\n",
    "                          d_model)\n",
    "\n",
    "  # apply sin to even indices in the array; 2i\n",
    "    angle_rads[:, 0::2] = np.sin(angle_rads[:, 0::2])\n",
    "\n",
    "  # apply cos to odd indices in the array; 2i+1\n",
    "    angle_rads[:, 1::2] = np.cos(angle_rads[:, 1::2])\n",
    "\n",
    "    pos_encoding = angle_rads[np.newaxis, ...]\n",
    "\n",
    "    return tf.cast(pos_encoding, dtype=tf.float32)\n",
    "\n",
    "\n",
    "def create_padding_mask(seq):\n",
    "    seq = tf.cast(tf.math.equal(seq, 0), tf.float32)\n",
    "\n",
    "  # add extra dimensions to add the padding\n",
    "  # to the attention logits.\n",
    "    return seq[:, tf.newaxis, tf.newaxis, :]  # (batch_size, 1, 1, seq_len)\n",
    "\n",
    "\n",
    "\n",
    "\n",
    "def create_look_ahead_mask(size):\n",
    "    mask = 1 - tf.linalg.band_part(tf.ones((size, size)), -1, 0)\n",
    "    return mask  # (seq_len, seq_len)\n",
    "\n",
    "\n",
    "\n",
    "\n",
    "def scaled_dot_product_attention(q, k, v, mask):\n",
    "    \"\"\"Calculate the attention weights.\n",
    "    q, k, v must have matching leading dimensions.\n",
    "    k, v must have matching penultimate dimension, i.e.: seq_len_k = seq_len_v.\n",
    "    The mask has different shapes depending on its type(padding or look ahead) \n",
    "    but it must be broadcastable for addition.\n",
    "\n",
    "    Args:\n",
    "      q: query shape == (..., seq_len_q, depth)\n",
    "      k: key shape == (..., seq_len_k, depth)\n",
    "      v: value shape == (..., seq_len_v, depth_v)\n",
    "      mask: Float tensor with shape broadcastable \n",
    "            to (..., seq_len_q, seq_len_k). Defaults to None.\n",
    "\n",
    "    Returns:\n",
    "      output, attention_weights\n",
    "    \"\"\"\n",
    "\n",
    "    matmul_qk = tf.matmul(q, k, transpose_b=True)  # (..., seq_len_q, seq_len_k)\n",
    "\n",
    "    # scale matmul_qk\n",
    "    dk = tf.cast(tf.shape(k)[-1], tf.float32)\n",
    "    scaled_attention_logits = matmul_qk / tf.math.sqrt(dk)\n",
    "\n",
    "    # add the mask to the scaled tensor.\n",
    "    if mask is not None:\n",
    "        scaled_attention_logits += (mask * -1e9)  \n",
    "\n",
    "    # softmax is normalized on the last axis (seq_len_k) so that the scores\n",
    "    # add up to 1.\n",
    "    attention_weights = Softmax()(scaled_attention_logits)  # (..., seq_len_q, seq_len_k)\n",
    "\n",
    "    output = tf.matmul(attention_weights, v)  # (..., seq_len_q, depth_v)\n",
    "\n",
    "    return output, attention_weights"
   ]
  },
  {
   "cell_type": "code",
   "execution_count": 11,
   "metadata": {
    "execution": {
     "iopub.execute_input": "2021-02-02T15:11:51.819740Z",
     "iopub.status.busy": "2021-02-02T15:11:51.819012Z",
     "iopub.status.idle": "2021-02-02T15:11:51.827752Z",
     "shell.execute_reply": "2021-02-02T15:11:51.827116Z"
    },
    "papermill": {
     "duration": 0.031221,
     "end_time": "2021-02-02T15:11:51.827948",
     "exception": false,
     "start_time": "2021-02-02T15:11:51.796727",
     "status": "completed"
    },
    "tags": []
   },
   "outputs": [],
   "source": [
    "def custom_loss(y_true, y_pred):\n",
    "    return 100 * tf.keras.losses.MSE(y_true,y_pred)\n",
    "\n",
    "def metrics2(y_true, y_pred):\n",
    "    return K.sum(y_pred)\n",
    "\n",
    "def metrics(y_true, y_pred):\n",
    "    Pi = np.bincount(y_true, y_pred)\n",
    "    t = np.sum(Pi) / np.sqrt(np.sum(Pi ** 2)) * np.sqrt(250 / len(Pi))\n",
    "    u = min(max(t, 0), 6) * np.sum(Pi)\n",
    "    print('\\n', round(u,5))\n",
    "    return u"
   ]
  },
  {
   "cell_type": "code",
   "execution_count": 12,
   "metadata": {
    "execution": {
     "iopub.execute_input": "2021-02-02T15:11:51.873154Z",
     "iopub.status.busy": "2021-02-02T15:11:51.872211Z",
     "iopub.status.idle": "2021-02-02T15:11:51.875305Z",
     "shell.execute_reply": "2021-02-02T15:11:51.875814Z"
    },
    "papermill": {
     "duration": 0.028428,
     "end_time": "2021-02-02T15:11:51.876014",
     "exception": false,
     "start_time": "2021-02-02T15:11:51.847586",
     "status": "completed"
    },
    "tags": []
   },
   "outputs": [],
   "source": [
    "from tensorflow.keras.layers import Conv1D, AveragePooling1D, MaxPooling1D, Flatten, Multiply\n"
   ]
  },
  {
   "cell_type": "code",
   "execution_count": 13,
   "metadata": {
    "execution": {
     "iopub.execute_input": "2021-02-02T15:11:51.934202Z",
     "iopub.status.busy": "2021-02-02T15:11:51.933263Z",
     "iopub.status.idle": "2021-02-02T15:11:51.936522Z",
     "shell.execute_reply": "2021-02-02T15:11:51.935822Z"
    },
    "papermill": {
     "duration": 0.041362,
     "end_time": "2021-02-02T15:11:51.936686",
     "exception": false,
     "start_time": "2021-02-02T15:11:51.895324",
     "status": "completed"
    },
    "tags": []
   },
   "outputs": [],
   "source": [
    "def transformer_model(input_dim1, window_size, d_model, rate, num_layers, dff, num_heads, output_dim):\n",
    "    inputs = Input(input_dim1)\n",
    "    batch_size = tf.shape(inputs)[0]\n",
    "    #mask = create_look_ahead_mask(seq)\n",
    "    x = BatchNormalization()(inputs)\n",
    "    x = Dense(d_model * window_size, use_bias = False)(x)\n",
    "    x = tf.reshape(x, (batch_size, window_size, d_model))\n",
    "    \n",
    "    #x *= tf.math.sqrt(tf.cast(d_model, tf.float32))\n",
    "    #x += positional_encoding(seq, d_model)\n",
    "    #x = Dropout(rate)(x)\n",
    "    \n",
    "    for i in range(num_layers):\n",
    "        \n",
    "        #multihead_attention\n",
    "        q = Dense(d_model)(x)\n",
    "        k = Dense(d_model)(x)\n",
    "        v = Dense(d_model)(x)\n",
    "        \n",
    "        q = tf.reshape(q, (batch_size, -1, num_heads, d_model//num_heads))\n",
    "        q = tf.transpose(q, perm=[0, 2, 1, 3])\n",
    "        \n",
    "        k = tf.reshape(k, (batch_size, -1, num_heads, d_model//num_heads))\n",
    "        k = tf.transpose(k, perm=[0, 2, 1, 3])\n",
    "        \n",
    "        v = tf.reshape(v, (batch_size, -1, num_heads, d_model//num_heads))\n",
    "        v = tf.transpose(v, perm=[0, 2, 1, 3])\n",
    "        \n",
    "        attn_out, _ = scaled_dot_product_attention(q, k, v, None)\n",
    "        attn_out = tf.transpose(attn_out, perm=[0, 2, 1, 3])  \n",
    "        attn_out = tf.reshape(x, (batch_size, -1, d_model))  \n",
    "        attn_out = Dense(d_model)(attn_out)  \n",
    "        attn_out = Dropout(rate)(attn_out)\n",
    "        attn_out = BatchNormalization()(attn_out + x)\n",
    "        \n",
    "        fnn_out = Dense(dff, activation= 'relu')(attn_out)  # (batch_size, seq_len, dff)\n",
    "        fnn_out = Dense(d_model)(fnn_out)\n",
    "        fnn_out = Dropout(rate)(fnn_out)\n",
    "        x = BatchNormalization()(fnn_out + attn_out)\n",
    "        if i <= 1:\n",
    "            x = AveragePooling1D(2)(x)\n",
    "        else:\n",
    "            x = MaxPooling1D(2)(x)\n",
    "    \n",
    "    x = Dense(64)(x)\n",
    "    x = Flatten()(x)\n",
    "    #x = BatchNormalization()(x)\n",
    "    x = Dropout(rate)(x)\n",
    "    x = Dense(output_dim, activation = 'sigmoid', name = 'label_out')(x)\n",
    "        \n",
    "    y2 = tf.math.reduce_mean(x, axis = -1)\n",
    "    y2 = tf.where(y2 > 0.5, 1, 0)\n",
    "    y2 = tf.cast(y2, tf.float32)\n",
    "    wr = Input(1)\n",
    "    y2 = Multiply(name = 'return_out')([y2,wr])\n",
    "    \n",
    "    #lr_schedule = ExponentialDecay(0.01, decay_steps=2000,decay_rate=0.95,staircase=False)\n",
    "    model = Model(inputs = [inputs, wr], outputs = [x,y2])    \n",
    "    return model"
   ]
  },
  {
   "cell_type": "code",
   "execution_count": 14,
   "metadata": {
    "execution": {
     "iopub.execute_input": "2021-02-02T15:11:52.045879Z",
     "iopub.status.busy": "2021-02-02T15:11:52.044645Z",
     "iopub.status.idle": "2021-02-02T15:11:58.122314Z",
     "shell.execute_reply": "2021-02-02T15:11:58.121714Z"
    },
    "papermill": {
     "duration": 6.166354,
     "end_time": "2021-02-02T15:11:58.122469",
     "exception": false,
     "start_time": "2021-02-02T15:11:51.956115",
     "status": "completed"
    },
    "tags": []
   },
   "outputs": [],
   "source": [
    "# detect and init the TPU\n",
    "tpu = tf.distribute.cluster_resolver.TPUClusterResolver()\n",
    "tf.config.experimental_connect_to_cluster(tpu)\n",
    "tf.tpu.experimental.initialize_tpu_system(tpu)\n",
    "\n",
    "# instantiate a distribution strategy\n",
    "tpu_strategy = tf.distribute.experimental.TPUStrategy(tpu)"
   ]
  },
  {
   "cell_type": "code",
   "execution_count": 15,
   "metadata": {
    "execution": {
     "iopub.execute_input": "2021-02-02T15:11:58.183293Z",
     "iopub.status.busy": "2021-02-02T15:11:58.174468Z",
     "iopub.status.idle": "2021-02-02T15:12:00.308844Z",
     "shell.execute_reply": "2021-02-02T15:12:00.309409Z"
    },
    "papermill": {
     "duration": 2.165588,
     "end_time": "2021-02-02T15:12:00.309588",
     "exception": false,
     "start_time": "2021-02-02T15:11:58.144000",
     "status": "completed"
    },
    "tags": []
   },
   "outputs": [],
   "source": [
    "\n",
    "from tensorflow.keras.optimizers import Adam\n",
    "\n",
    "with tpu_strategy.scope():\n",
    "    model = transformer_model(130 + 64 +88, 16, 128, 0.15, 3, 256, 4, 5)\n",
    "    model.compile(optimizer = Adam(learning_rate = 0.0005), loss = {'label_out':'binary_crossentropy', 'return_out': custom_loss}, metrics = {'label_out':AUC(name = 'auc'), 'return_out': metrics2})"
   ]
  },
  {
   "cell_type": "code",
   "execution_count": 16,
   "metadata": {
    "execution": {
     "iopub.execute_input": "2021-02-02T15:12:00.353540Z",
     "iopub.status.busy": "2021-02-02T15:12:00.352772Z",
     "iopub.status.idle": "2021-02-02T15:14:32.629724Z",
     "shell.execute_reply": "2021-02-02T15:14:32.630454Z"
    },
    "papermill": {
     "duration": 152.30151,
     "end_time": "2021-02-02T15:14:32.630659",
     "exception": false,
     "start_time": "2021-02-02T15:12:00.329149",
     "status": "completed"
    },
    "tags": []
   },
   "outputs": [
    {
     "name": "stdout",
     "output_type": "stream",
     "text": [
      "Epoch 1/300\n",
      "384/384 [==============================] - 34s 56ms/step - loss: 1.5427 - label_out_loss: 0.7231 - return_out_loss: 0.8196 - label_out_auc: 0.5205 - return_out_metrics2: 0.3060 - val_loss: 1.2801 - val_label_out_loss: 0.6895 - val_return_out_loss: 0.5906 - val_label_out_auc: 0.5465 - val_return_out_metrics2: 0.5163\n",
      "Epoch 2/300\n",
      "384/384 [==============================] - 13s 35ms/step - loss: 1.4461 - label_out_loss: 0.6920 - return_out_loss: 0.7541 - label_out_auc: 0.5432 - return_out_metrics2: 0.5888 - val_loss: 1.2992 - val_label_out_loss: 0.6889 - val_return_out_loss: 0.6103 - val_label_out_auc: 0.5486 - val_return_out_metrics2: 0.4413\n",
      "Epoch 3/300\n",
      "384/384 [==============================] - 13s 35ms/step - loss: 1.3878 - label_out_loss: 0.6899 - return_out_loss: 0.6979 - label_out_auc: 0.5475 - return_out_metrics2: 0.7172 - val_loss: 1.3012 - val_label_out_loss: 0.6885 - val_return_out_loss: 0.6127 - val_label_out_auc: 0.5507 - val_return_out_metrics2: 0.4846\n",
      "Epoch 4/300\n",
      "384/384 [==============================] - 14s 36ms/step - loss: 1.4198 - label_out_loss: 0.6887 - return_out_loss: 0.7312 - label_out_auc: 0.5510 - return_out_metrics2: 0.7134 - val_loss: 1.2800 - val_label_out_loss: 0.6881 - val_return_out_loss: 0.5919 - val_label_out_auc: 0.5520 - val_return_out_metrics2: 0.5765\n",
      "Epoch 5/300\n",
      "384/384 [==============================] - 13s 35ms/step - loss: 1.3838 - label_out_loss: 0.6878 - return_out_loss: 0.6960 - label_out_auc: 0.5542 - return_out_metrics2: 0.8395 - val_loss: 1.2862 - val_label_out_loss: 0.6885 - val_return_out_loss: 0.5976 - val_label_out_auc: 0.5492 - val_return_out_metrics2: 0.4942\n",
      "Epoch 6/300\n",
      "384/384 [==============================] - 13s 35ms/step - loss: 1.4052 - label_out_loss: 0.6871 - return_out_loss: 0.7181 - label_out_auc: 0.5573 - return_out_metrics2: 0.8824 - val_loss: 1.2804 - val_label_out_loss: 0.6886 - val_return_out_loss: 0.5918 - val_label_out_auc: 0.5523 - val_return_out_metrics2: 0.5598\n",
      "Epoch 7/300\n",
      "384/384 [==============================] - 13s 35ms/step - loss: 1.3931 - label_out_loss: 0.6862 - return_out_loss: 0.7069 - label_out_auc: 0.5604 - return_out_metrics2: 0.9035 - val_loss: 1.2882 - val_label_out_loss: 0.6887 - val_return_out_loss: 0.5995 - val_label_out_auc: 0.5504 - val_return_out_metrics2: 0.4841\n",
      "Epoch 8/300\n",
      "384/384 [==============================] - 13s 35ms/step - loss: 1.4319 - label_out_loss: 0.6854 - return_out_loss: 0.7466 - label_out_auc: 0.5636 - return_out_metrics2: 1.0069 - val_loss: 1.2834 - val_label_out_loss: 0.6891 - val_return_out_loss: 0.5943 - val_label_out_auc: 0.5508 - val_return_out_metrics2: 0.5036\n",
      "Epoch 9/300\n",
      "384/384 [==============================] - 13s 35ms/step - loss: 1.3679 - label_out_loss: 0.6842 - return_out_loss: 0.6836 - label_out_auc: 0.5671 - return_out_metrics2: 1.0732 - val_loss: 1.2928 - val_label_out_loss: 0.6895 - val_return_out_loss: 0.6033 - val_label_out_auc: 0.5496 - val_return_out_metrics2: 0.4643\n"
     ]
    }
   ],
   "source": [
    "#hello = JS_utility(validation=([X_test, wr_test], date_test))\n",
    "model.fit([X_train, wr_train], [y_train, Y_train], validation_data = ([X_test, wr_test], [y_test, Y_test]), epochs = 300, batch_size = 4000, callbacks = [EarlyStopping('val_label_out_auc',mode='max',patience=3,restore_best_weights=True)], verbose = 1)\n",
    "model.save_weights(f'transformer_no_imputer_{f}.hdf5')"
   ]
  },
  {
   "cell_type": "code",
   "execution_count": 17,
   "metadata": {
    "execution": {
     "iopub.execute_input": "2021-02-02T15:14:33.748901Z",
     "iopub.status.busy": "2021-02-02T15:14:33.747461Z",
     "iopub.status.idle": "2021-02-02T15:14:35.450937Z",
     "shell.execute_reply": "2021-02-02T15:14:35.451502Z"
    },
    "papermill": {
     "duration": 2.266015,
     "end_time": "2021-02-02T15:14:35.451710",
     "exception": false,
     "start_time": "2021-02-02T15:14:33.185695",
     "status": "completed"
    },
    "tags": []
   },
   "outputs": [],
   "source": [
    "with tpu_strategy.scope():\n",
    "    model = transformer_model(130 + 64 +88, 16, 128, 0.2, 3, 256, 4, 5)\n",
    "    model.compile(optimizer = Adam(learning_rate = 0.0005), loss = {'label_out':'binary_crossentropy', 'return_out': custom_loss}, metrics = {'label_out':AUC(name = 'auc'), 'return_out': metrics2})"
   ]
  },
  {
   "cell_type": "code",
   "execution_count": 18,
   "metadata": {
    "execution": {
     "iopub.execute_input": "2021-02-02T15:14:36.558258Z",
     "iopub.status.busy": "2021-02-02T15:14:36.557439Z",
     "iopub.status.idle": "2021-02-02T15:18:31.825842Z",
     "shell.execute_reply": "2021-02-02T15:18:31.826402Z"
    },
    "papermill": {
     "duration": 235.823927,
     "end_time": "2021-02-02T15:18:31.826661",
     "exception": false,
     "start_time": "2021-02-02T15:14:36.002734",
     "status": "completed"
    },
    "tags": []
   },
   "outputs": [
    {
     "name": "stdout",
     "output_type": "stream",
     "text": [
      "Epoch 1/300\n",
      "384/384 [==============================] - 34s 57ms/step - loss: 1.5080 - label_out_loss: 0.7285 - return_out_loss: 0.7795 - label_out_auc: 0.5193 - return_out_metrics2: 0.3371 - val_loss: 1.2861 - val_label_out_loss: 0.6896 - val_return_out_loss: 0.5965 - val_label_out_auc: 0.5451 - val_return_out_metrics2: 0.5027\n",
      "Epoch 2/300\n",
      "384/384 [==============================] - 13s 35ms/step - loss: 1.3938 - label_out_loss: 0.6930 - return_out_loss: 0.7008 - label_out_auc: 0.5412 - return_out_metrics2: 0.5820 - val_loss: 1.2672 - val_label_out_loss: 0.6890 - val_return_out_loss: 0.5782 - val_label_out_auc: 0.5479 - val_return_out_metrics2: 0.5696\n",
      "Epoch 3/300\n",
      "384/384 [==============================] - 13s 35ms/step - loss: 1.4555 - label_out_loss: 0.6904 - return_out_loss: 0.7651 - label_out_auc: 0.5461 - return_out_metrics2: 0.6298 - val_loss: 1.2841 - val_label_out_loss: 0.6883 - val_return_out_loss: 0.5958 - val_label_out_auc: 0.5514 - val_return_out_metrics2: 0.5181\n",
      "Epoch 4/300\n",
      "384/384 [==============================] - 13s 35ms/step - loss: 1.4245 - label_out_loss: 0.6890 - return_out_loss: 0.7355 - label_out_auc: 0.5496 - return_out_metrics2: 0.6382 - val_loss: 1.2848 - val_label_out_loss: 0.6880 - val_return_out_loss: 0.5968 - val_label_out_auc: 0.5524 - val_return_out_metrics2: 0.5157\n",
      "Epoch 5/300\n",
      "384/384 [==============================] - 14s 35ms/step - loss: 1.4232 - label_out_loss: 0.6881 - return_out_loss: 0.7351 - label_out_auc: 0.5532 - return_out_metrics2: 0.7543 - val_loss: 1.2607 - val_label_out_loss: 0.6882 - val_return_out_loss: 0.5724 - val_label_out_auc: 0.5527 - val_return_out_metrics2: 0.6108\n",
      "Epoch 6/300\n",
      "384/384 [==============================] - 14s 35ms/step - loss: 1.4360 - label_out_loss: 0.6875 - return_out_loss: 0.7485 - label_out_auc: 0.5552 - return_out_metrics2: 0.7977 - val_loss: 1.3024 - val_label_out_loss: 0.6880 - val_return_out_loss: 0.6144 - val_label_out_auc: 0.5521 - val_return_out_metrics2: 0.4666\n",
      "Epoch 7/300\n",
      "384/384 [==============================] - 13s 35ms/step - loss: 1.4078 - label_out_loss: 0.6869 - return_out_loss: 0.7209 - label_out_auc: 0.5576 - return_out_metrics2: 0.8633 - val_loss: 1.3148 - val_label_out_loss: 0.6883 - val_return_out_loss: 0.6264 - val_label_out_auc: 0.5506 - val_return_out_metrics2: 0.4148\n",
      "Epoch 8/300\n",
      "384/384 [==============================] - 14s 37ms/step - loss: 1.3807 - label_out_loss: 0.6862 - return_out_loss: 0.6945 - label_out_auc: 0.5607 - return_out_metrics2: 0.9812 - val_loss: 1.3151 - val_label_out_loss: 0.6889 - val_return_out_loss: 0.6262 - val_label_out_auc: 0.5497 - val_return_out_metrics2: 0.3528\n",
      "Epoch 9/300\n",
      "384/384 [==============================] - 14s 35ms/step - loss: 1.4045 - label_out_loss: 0.6855 - return_out_loss: 0.7190 - label_out_auc: 0.5629 - return_out_metrics2: 0.9898 - val_loss: 1.3034 - val_label_out_loss: 0.6892 - val_return_out_loss: 0.6142 - val_label_out_auc: 0.5492 - val_return_out_metrics2: 0.4248\n",
      "Epoch 10/300\n",
      "384/384 [==============================] - 13s 35ms/step - loss: 1.3980 - label_out_loss: 0.6847 - return_out_loss: 0.7133 - label_out_auc: 0.5658 - return_out_metrics2: 1.1576 - val_loss: 1.3081 - val_label_out_loss: 0.6891 - val_return_out_loss: 0.6190 - val_label_out_auc: 0.5497 - val_return_out_metrics2: 0.3914\n",
      "Epoch 11/300\n",
      "384/384 [==============================] - 13s 35ms/step - loss: 1.3441 - label_out_loss: 0.6837 - return_out_loss: 0.6604 - label_out_auc: 0.5688 - return_out_metrics2: 1.1643 - val_loss: 1.2825 - val_label_out_loss: 0.6893 - val_return_out_loss: 0.5932 - val_label_out_auc: 0.5497 - val_return_out_metrics2: 0.4748\n",
      "Epoch 12/300\n",
      "384/384 [==============================] - 14s 35ms/step - loss: 1.3416 - label_out_loss: 0.6828 - return_out_loss: 0.6587 - label_out_auc: 0.5708 - return_out_metrics2: 1.1963 - val_loss: 1.3176 - val_label_out_loss: 0.6909 - val_return_out_loss: 0.6267 - val_label_out_auc: 0.5486 - val_return_out_metrics2: 0.3531\n",
      "Epoch 13/300\n",
      "384/384 [==============================] - 13s 35ms/step - loss: 1.3805 - label_out_loss: 0.6819 - return_out_loss: 0.6986 - label_out_auc: 0.5737 - return_out_metrics2: 1.3750 - val_loss: 1.3031 - val_label_out_loss: 0.6907 - val_return_out_loss: 0.6124 - val_label_out_auc: 0.5470 - val_return_out_metrics2: 0.4119\n",
      "Epoch 14/300\n",
      "384/384 [==============================] - 14s 36ms/step - loss: 1.3245 - label_out_loss: 0.6809 - return_out_loss: 0.6436 - label_out_auc: 0.5769 - return_out_metrics2: 1.4044 - val_loss: 1.2965 - val_label_out_loss: 0.6912 - val_return_out_loss: 0.6053 - val_label_out_auc: 0.5486 - val_return_out_metrics2: 0.3493\n",
      "Epoch 15/300\n",
      "384/384 [==============================] - 14s 36ms/step - loss: 1.3264 - label_out_loss: 0.6798 - return_out_loss: 0.6466 - label_out_auc: 0.5797 - return_out_metrics2: 1.5300 - val_loss: 1.2823 - val_label_out_loss: 0.6909 - val_return_out_loss: 0.5913 - val_label_out_auc: 0.5498 - val_return_out_metrics2: 0.4544\n"
     ]
    }
   ],
   "source": [
    "model.fit([X_train, wr_train], [y_train, Y_train], validation_data = ([X_test, wr_test], [y_test, Y_test]), epochs = 300, batch_size = 4000, callbacks = [EarlyStopping('val_label_out_auc',mode='max',patience=10,restore_best_weights=True)], verbose = 1)\n",
    "model.save_weights(f'transformer_no_imputer_{f}2.hdf5')"
   ]
  },
  {
   "cell_type": "code",
   "execution_count": 19,
   "metadata": {
    "execution": {
     "iopub.execute_input": "2021-02-02T15:18:34.882305Z",
     "iopub.status.busy": "2021-02-02T15:18:34.881587Z",
     "iopub.status.idle": "2021-02-02T15:18:36.629715Z",
     "shell.execute_reply": "2021-02-02T15:18:36.628490Z"
    },
    "papermill": {
     "duration": 3.303906,
     "end_time": "2021-02-02T15:18:36.629898",
     "exception": false,
     "start_time": "2021-02-02T15:18:33.325992",
     "status": "completed"
    },
    "tags": []
   },
   "outputs": [],
   "source": [
    "with tpu_strategy.scope():\n",
    "    model = transformer_model(130 + 64 +88, 16, 128, 0.25, 3, 256, 4, 5)\n",
    "    model.compile(optimizer = Adam(learning_rate = 0.0005), loss = {'label_out':'binary_crossentropy', 'return_out': custom_loss}, metrics = {'label_out':AUC(name = 'auc'), 'return_out': metrics2})"
   ]
  },
  {
   "cell_type": "code",
   "execution_count": 20,
   "metadata": {
    "execution": {
     "iopub.execute_input": "2021-02-02T15:18:39.539338Z",
     "iopub.status.busy": "2021-02-02T15:18:39.538476Z",
     "iopub.status.idle": "2021-02-02T15:23:58.158185Z",
     "shell.execute_reply": "2021-02-02T15:23:58.158757Z"
    },
    "papermill": {
     "duration": 320.081991,
     "end_time": "2021-02-02T15:23:58.159018",
     "exception": false,
     "start_time": "2021-02-02T15:18:38.077027",
     "status": "completed"
    },
    "tags": []
   },
   "outputs": [
    {
     "name": "stdout",
     "output_type": "stream",
     "text": [
      "Epoch 1/300\n",
      "384/384 [==============================] - 34s 57ms/step - loss: 1.4964 - label_out_loss: 0.7315 - return_out_loss: 0.7649 - label_out_auc: 0.5186 - return_out_metrics2: 0.2644 - val_loss: 1.2748 - val_label_out_loss: 0.6899 - val_return_out_loss: 0.5850 - val_label_out_auc: 0.5444 - val_return_out_metrics2: 0.5106\n",
      "Epoch 2/300\n",
      "384/384 [==============================] - 14s 35ms/step - loss: 1.4403 - label_out_loss: 0.6937 - return_out_loss: 0.7467 - label_out_auc: 0.5401 - return_out_metrics2: 0.5714 - val_loss: 1.2801 - val_label_out_loss: 0.6889 - val_return_out_loss: 0.5912 - val_label_out_auc: 0.5494 - val_return_out_metrics2: 0.5677\n",
      "Epoch 3/300\n",
      "384/384 [==============================] - 14s 35ms/step - loss: 1.4561 - label_out_loss: 0.6904 - return_out_loss: 0.7656 - label_out_auc: 0.5458 - return_out_metrics2: 0.6997 - val_loss: 1.2653 - val_label_out_loss: 0.6885 - val_return_out_loss: 0.5767 - val_label_out_auc: 0.5518 - val_return_out_metrics2: 0.5691\n",
      "Epoch 4/300\n",
      "384/384 [==============================] - 13s 35ms/step - loss: 1.4104 - label_out_loss: 0.6891 - return_out_loss: 0.7213 - label_out_auc: 0.5493 - return_out_metrics2: 0.6889 - val_loss: 1.2926 - val_label_out_loss: 0.6882 - val_return_out_loss: 0.6045 - val_label_out_auc: 0.5522 - val_return_out_metrics2: 0.4803\n",
      "Epoch 5/300\n",
      "384/384 [==============================] - 13s 35ms/step - loss: 1.4594 - label_out_loss: 0.6882 - return_out_loss: 0.7712 - label_out_auc: 0.5527 - return_out_metrics2: 0.7030 - val_loss: 1.2832 - val_label_out_loss: 0.6879 - val_return_out_loss: 0.5953 - val_label_out_auc: 0.5528 - val_return_out_metrics2: 0.5623\n",
      "Epoch 6/300\n",
      "384/384 [==============================] - 13s 35ms/step - loss: 1.3982 - label_out_loss: 0.6875 - return_out_loss: 0.7107 - label_out_auc: 0.5552 - return_out_metrics2: 0.8047 - val_loss: 1.2903 - val_label_out_loss: 0.6881 - val_return_out_loss: 0.6021 - val_label_out_auc: 0.5519 - val_return_out_metrics2: 0.5402\n",
      "Epoch 7/300\n",
      "384/384 [==============================] - 14s 35ms/step - loss: 1.3922 - label_out_loss: 0.6870 - return_out_loss: 0.7052 - label_out_auc: 0.5573 - return_out_metrics2: 0.8568 - val_loss: 1.2907 - val_label_out_loss: 0.6880 - val_return_out_loss: 0.6027 - val_label_out_auc: 0.5525 - val_return_out_metrics2: 0.5123\n",
      "Epoch 8/300\n",
      "384/384 [==============================] - 13s 35ms/step - loss: 1.3919 - label_out_loss: 0.6862 - return_out_loss: 0.7056 - label_out_auc: 0.5603 - return_out_metrics2: 0.9443 - val_loss: 1.3198 - val_label_out_loss: 0.6880 - val_return_out_loss: 0.6318 - val_label_out_auc: 0.5513 - val_return_out_metrics2: 0.4080\n",
      "Epoch 9/300\n",
      "384/384 [==============================] - 14s 35ms/step - loss: 1.4059 - label_out_loss: 0.6858 - return_out_loss: 0.7202 - label_out_auc: 0.5620 - return_out_metrics2: 0.9783 - val_loss: 1.2861 - val_label_out_loss: 0.6884 - val_return_out_loss: 0.5977 - val_label_out_auc: 0.5521 - val_return_out_metrics2: 0.5508\n",
      "Epoch 10/300\n",
      "384/384 [==============================] - 14s 35ms/step - loss: 1.3678 - label_out_loss: 0.6852 - return_out_loss: 0.6827 - label_out_auc: 0.5637 - return_out_metrics2: 1.0730 - val_loss: 1.3030 - val_label_out_loss: 0.6886 - val_return_out_loss: 0.6144 - val_label_out_auc: 0.5506 - val_return_out_metrics2: 0.4568\n",
      "Epoch 11/300\n",
      "384/384 [==============================] - 14s 35ms/step - loss: 1.3946 - label_out_loss: 0.6844 - return_out_loss: 0.7102 - label_out_auc: 0.5665 - return_out_metrics2: 1.0637 - val_loss: 1.2899 - val_label_out_loss: 0.6887 - val_return_out_loss: 0.6011 - val_label_out_auc: 0.5529 - val_return_out_metrics2: 0.5425\n",
      "Epoch 12/300\n",
      "384/384 [==============================] - 14s 35ms/step - loss: 1.3819 - label_out_loss: 0.6836 - return_out_loss: 0.6983 - label_out_auc: 0.5686 - return_out_metrics2: 1.1343 - val_loss: 1.3062 - val_label_out_loss: 0.6894 - val_return_out_loss: 0.6168 - val_label_out_auc: 0.5516 - val_return_out_metrics2: 0.4615\n",
      "Epoch 13/300\n",
      "384/384 [==============================] - 13s 35ms/step - loss: 1.3401 - label_out_loss: 0.6829 - return_out_loss: 0.6572 - label_out_auc: 0.5708 - return_out_metrics2: 1.2491 - val_loss: 1.3005 - val_label_out_loss: 0.6897 - val_return_out_loss: 0.6107 - val_label_out_auc: 0.5511 - val_return_out_metrics2: 0.4670\n",
      "Epoch 14/300\n",
      "384/384 [==============================] - 13s 35ms/step - loss: 1.3411 - label_out_loss: 0.6818 - return_out_loss: 0.6592 - label_out_auc: 0.5738 - return_out_metrics2: 1.3743 - val_loss: 1.2759 - val_label_out_loss: 0.6898 - val_return_out_loss: 0.5861 - val_label_out_auc: 0.5508 - val_return_out_metrics2: 0.5506\n",
      "Epoch 15/300\n",
      "384/384 [==============================] - 13s 35ms/step - loss: 1.3171 - label_out_loss: 0.6811 - return_out_loss: 0.6361 - label_out_auc: 0.5760 - return_out_metrics2: 1.3606 - val_loss: 1.2938 - val_label_out_loss: 0.6900 - val_return_out_loss: 0.6038 - val_label_out_auc: 0.5501 - val_return_out_metrics2: 0.4800\n",
      "Epoch 16/300\n",
      "384/384 [==============================] - 14s 35ms/step - loss: 1.3235 - label_out_loss: 0.6803 - return_out_loss: 0.6431 - label_out_auc: 0.5781 - return_out_metrics2: 1.4862 - val_loss: 1.2966 - val_label_out_loss: 0.6910 - val_return_out_loss: 0.6056 - val_label_out_auc: 0.5489 - val_return_out_metrics2: 0.4893\n",
      "Epoch 17/300\n",
      "384/384 [==============================] - 14s 36ms/step - loss: 1.3088 - label_out_loss: 0.6793 - return_out_loss: 0.6295 - label_out_auc: 0.5810 - return_out_metrics2: 1.5330 - val_loss: 1.3242 - val_label_out_loss: 0.6914 - val_return_out_loss: 0.6328 - val_label_out_auc: 0.5484 - val_return_out_metrics2: 0.4138\n",
      "Epoch 18/300\n",
      "384/384 [==============================] - 14s 35ms/step - loss: 1.3258 - label_out_loss: 0.6785 - return_out_loss: 0.6473 - label_out_auc: 0.5829 - return_out_metrics2: 1.5806 - val_loss: 1.3076 - val_label_out_loss: 0.6914 - val_return_out_loss: 0.6162 - val_label_out_auc: 0.5504 - val_return_out_metrics2: 0.4390\n",
      "Epoch 19/300\n",
      "384/384 [==============================] - 13s 35ms/step - loss: 1.2951 - label_out_loss: 0.6775 - return_out_loss: 0.6176 - label_out_auc: 0.5857 - return_out_metrics2: 1.6930 - val_loss: 1.3140 - val_label_out_loss: 0.6916 - val_return_out_loss: 0.6223 - val_label_out_auc: 0.5502 - val_return_out_metrics2: 0.4363\n",
      "Epoch 20/300\n",
      "384/384 [==============================] - 14s 36ms/step - loss: 1.2763 - label_out_loss: 0.6766 - return_out_loss: 0.5996 - label_out_auc: 0.5875 - return_out_metrics2: 1.6605 - val_loss: 1.3211 - val_label_out_loss: 0.6921 - val_return_out_loss: 0.6289 - val_label_out_auc: 0.5491 - val_return_out_metrics2: 0.4302\n",
      "Epoch 21/300\n",
      "384/384 [==============================] - 14s 36ms/step - loss: 1.2949 - label_out_loss: 0.6757 - return_out_loss: 0.6193 - label_out_auc: 0.5899 - return_out_metrics2: 1.6940 - val_loss: 1.3235 - val_label_out_loss: 0.6934 - val_return_out_loss: 0.6300 - val_label_out_auc: 0.5487 - val_return_out_metrics2: 0.3782\n"
     ]
    }
   ],
   "source": [
    "model.fit([X_train, wr_train], [y_train, Y_train], validation_data = ([X_test, wr_test], [y_test, Y_test]), epochs = 300, batch_size = 4000, callbacks = [EarlyStopping('val_label_out_auc',mode='max',patience=10,restore_best_weights=True)], verbose = 1)\n",
    "model.save_weights(f'transformer_no_imputer_{f}3.hdf5')"
   ]
  },
  {
   "cell_type": "code",
   "execution_count": 21,
   "metadata": {
    "execution": {
     "iopub.execute_input": "2021-02-02T15:24:03.530737Z",
     "iopub.status.busy": "2021-02-02T15:24:03.529607Z",
     "iopub.status.idle": "2021-02-02T15:24:05.295119Z",
     "shell.execute_reply": "2021-02-02T15:24:05.294416Z"
    },
    "papermill": {
     "duration": 4.467482,
     "end_time": "2021-02-02T15:24:05.295267",
     "exception": false,
     "start_time": "2021-02-02T15:24:00.827785",
     "status": "completed"
    },
    "tags": []
   },
   "outputs": [],
   "source": [
    "with tpu_strategy.scope():\n",
    "    model = transformer_model(130 + 64 +88, 16, 128, 0.3, 3, 256, 4, 5)\n",
    "    model.compile(optimizer = Adam(learning_rate = 0.0005), loss = {'label_out':'binary_crossentropy', 'return_out': custom_loss}, metrics = {'label_out':AUC(name = 'auc'), 'return_out': metrics2})"
   ]
  },
  {
   "cell_type": "code",
   "execution_count": 22,
   "metadata": {
    "execution": {
     "iopub.execute_input": "2021-02-02T15:24:10.787375Z",
     "iopub.status.busy": "2021-02-02T15:24:10.786359Z",
     "iopub.status.idle": "2021-02-02T15:27:52.563785Z",
     "shell.execute_reply": "2021-02-02T15:27:52.564317Z"
    },
    "papermill": {
     "duration": 224.472809,
     "end_time": "2021-02-02T15:27:52.564536",
     "exception": false,
     "start_time": "2021-02-02T15:24:08.091727",
     "status": "completed"
    },
    "tags": []
   },
   "outputs": [
    {
     "name": "stdout",
     "output_type": "stream",
     "text": [
      "Epoch 1/300\n",
      "384/384 [==============================] - 34s 56ms/step - loss: 1.4876 - label_out_loss: 0.7384 - return_out_loss: 0.7492 - label_out_auc: 0.5165 - return_out_metrics2: 0.2896 - val_loss: 1.3007 - val_label_out_loss: 0.6902 - val_return_out_loss: 0.6105 - val_label_out_auc: 0.5434 - val_return_out_metrics2: 0.4268\n",
      "Epoch 2/300\n",
      "384/384 [==============================] - 13s 35ms/step - loss: 1.4606 - label_out_loss: 0.6951 - return_out_loss: 0.7655 - label_out_auc: 0.5386 - return_out_metrics2: 0.5393 - val_loss: 1.2437 - val_label_out_loss: 0.6896 - val_return_out_loss: 0.5541 - val_label_out_auc: 0.5461 - val_return_out_metrics2: 0.6037\n",
      "Epoch 3/300\n",
      "384/384 [==============================] - 14s 35ms/step - loss: 1.4062 - label_out_loss: 0.6911 - return_out_loss: 0.7151 - label_out_auc: 0.5439 - return_out_metrics2: 0.6800 - val_loss: 1.2802 - val_label_out_loss: 0.6885 - val_return_out_loss: 0.5916 - val_label_out_auc: 0.5505 - val_return_out_metrics2: 0.5626\n",
      "Epoch 4/300\n",
      "384/384 [==============================] - 13s 35ms/step - loss: 1.4182 - label_out_loss: 0.6895 - return_out_loss: 0.7287 - label_out_auc: 0.5481 - return_out_metrics2: 0.7479 - val_loss: 1.2742 - val_label_out_loss: 0.6880 - val_return_out_loss: 0.5862 - val_label_out_auc: 0.5529 - val_return_out_metrics2: 0.5559\n",
      "Epoch 5/300\n",
      "384/384 [==============================] - 14s 35ms/step - loss: 1.3972 - label_out_loss: 0.6886 - return_out_loss: 0.7086 - label_out_auc: 0.5505 - return_out_metrics2: 0.7249 - val_loss: 1.3020 - val_label_out_loss: 0.6879 - val_return_out_loss: 0.6141 - val_label_out_auc: 0.5524 - val_return_out_metrics2: 0.4666\n",
      "Epoch 6/300\n",
      "384/384 [==============================] - 13s 35ms/step - loss: 1.4055 - label_out_loss: 0.6879 - return_out_loss: 0.7175 - label_out_auc: 0.5531 - return_out_metrics2: 0.7791 - val_loss: 1.2828 - val_label_out_loss: 0.6883 - val_return_out_loss: 0.5944 - val_label_out_auc: 0.5516 - val_return_out_metrics2: 0.5932\n",
      "Epoch 7/300\n",
      "384/384 [==============================] - 14s 35ms/step - loss: 1.3863 - label_out_loss: 0.6875 - return_out_loss: 0.6988 - label_out_auc: 0.5552 - return_out_metrics2: 0.8077 - val_loss: 1.2741 - val_label_out_loss: 0.6883 - val_return_out_loss: 0.5858 - val_label_out_auc: 0.5526 - val_return_out_metrics2: 0.4630\n",
      "Epoch 8/300\n",
      "384/384 [==============================] - 14s 35ms/step - loss: 1.4285 - label_out_loss: 0.6871 - return_out_loss: 0.7414 - label_out_auc: 0.5567 - return_out_metrics2: 0.8676 - val_loss: 1.3016 - val_label_out_loss: 0.6880 - val_return_out_loss: 0.6135 - val_label_out_auc: 0.5519 - val_return_out_metrics2: 0.4515\n",
      "Epoch 9/300\n",
      "384/384 [==============================] - 13s 35ms/step - loss: 1.3960 - label_out_loss: 0.6866 - return_out_loss: 0.7094 - label_out_auc: 0.5588 - return_out_metrics2: 0.8752 - val_loss: 1.2827 - val_label_out_loss: 0.6883 - val_return_out_loss: 0.5944 - val_label_out_auc: 0.5504 - val_return_out_metrics2: 0.4912\n",
      "Epoch 10/300\n",
      "384/384 [==============================] - 14s 37ms/step - loss: 1.3672 - label_out_loss: 0.6859 - return_out_loss: 0.6813 - label_out_auc: 0.5614 - return_out_metrics2: 0.9911 - val_loss: 1.3115 - val_label_out_loss: 0.6887 - val_return_out_loss: 0.6228 - val_label_out_auc: 0.5504 - val_return_out_metrics2: 0.4046\n",
      "Epoch 11/300\n",
      "384/384 [==============================] - 14s 36ms/step - loss: 1.3882 - label_out_loss: 0.6854 - return_out_loss: 0.7028 - label_out_auc: 0.5629 - return_out_metrics2: 1.0280 - val_loss: 1.3080 - val_label_out_loss: 0.6892 - val_return_out_loss: 0.6188 - val_label_out_auc: 0.5495 - val_return_out_metrics2: 0.4007\n",
      "Epoch 12/300\n",
      "384/384 [==============================] - 14s 35ms/step - loss: 1.3569 - label_out_loss: 0.6846 - return_out_loss: 0.6724 - label_out_auc: 0.5656 - return_out_metrics2: 1.1011 - val_loss: 1.3018 - val_label_out_loss: 0.6890 - val_return_out_loss: 0.6127 - val_label_out_auc: 0.5493 - val_return_out_metrics2: 0.4186\n",
      "Epoch 13/300\n",
      "384/384 [==============================] - 14s 35ms/step - loss: 1.3633 - label_out_loss: 0.6838 - return_out_loss: 0.6795 - label_out_auc: 0.5677 - return_out_metrics2: 1.1645 - val_loss: 1.3034 - val_label_out_loss: 0.6896 - val_return_out_loss: 0.6139 - val_label_out_auc: 0.5486 - val_return_out_metrics2: 0.4321\n",
      "Epoch 14/300\n",
      "384/384 [==============================] - 14s 35ms/step - loss: 1.3499 - label_out_loss: 0.6831 - return_out_loss: 0.6668 - label_out_auc: 0.5700 - return_out_metrics2: 1.1506 - val_loss: 1.3036 - val_label_out_loss: 0.6905 - val_return_out_loss: 0.6131 - val_label_out_auc: 0.5490 - val_return_out_metrics2: 0.4386\n"
     ]
    }
   ],
   "source": [
    "model.fit([X_train, wr_train], [y_train, Y_train], validation_data = ([X_test, wr_test], [y_test, Y_test]), epochs = 300, batch_size = 4000, callbacks = [EarlyStopping('val_label_out_auc',mode='max',patience=10,restore_best_weights=True)], verbose = 1)\n",
    "model.save_weights(f'transformer_no_imputer_{f}4.hdf5')"
   ]
  },
  {
   "cell_type": "code",
   "execution_count": 23,
   "metadata": {
    "execution": {
     "iopub.execute_input": "2021-02-02T15:27:59.680289Z",
     "iopub.status.busy": "2021-02-02T15:27:59.679232Z",
     "iopub.status.idle": "2021-02-02T15:28:01.441456Z",
     "shell.execute_reply": "2021-02-02T15:28:01.440666Z"
    },
    "papermill": {
     "duration": 5.335122,
     "end_time": "2021-02-02T15:28:01.441615",
     "exception": false,
     "start_time": "2021-02-02T15:27:56.106493",
     "status": "completed"
    },
    "tags": []
   },
   "outputs": [],
   "source": [
    "with tpu_strategy.scope():\n",
    "    model = transformer_model(130 + 64 +88, 16, 128, 0.35, 3, 256, 4, 5)\n",
    "    model.compile(optimizer = Adam(learning_rate = 0.0005), loss = {'label_out':'binary_crossentropy', 'return_out': custom_loss}, metrics = {'label_out':AUC(name = 'auc'), 'return_out': metrics2})"
   ]
  },
  {
   "cell_type": "code",
   "execution_count": 24,
   "metadata": {
    "execution": {
     "iopub.execute_input": "2021-02-02T15:28:08.611492Z",
     "iopub.status.busy": "2021-02-02T15:28:08.610615Z",
     "iopub.status.idle": "2021-02-02T15:33:14.500052Z",
     "shell.execute_reply": "2021-02-02T15:33:14.500603Z"
    },
    "papermill": {
     "duration": 309.534633,
     "end_time": "2021-02-02T15:33:14.500837",
     "exception": false,
     "start_time": "2021-02-02T15:28:04.966204",
     "status": "completed"
    },
    "tags": []
   },
   "outputs": [
    {
     "name": "stdout",
     "output_type": "stream",
     "text": [
      "Epoch 1/300\n",
      "384/384 [==============================] - 34s 57ms/step - loss: 1.4968 - label_out_loss: 0.7450 - return_out_loss: 0.7517 - label_out_auc: 0.5144 - return_out_metrics2: 0.2446 - val_loss: 1.2985 - val_label_out_loss: 0.6905 - val_return_out_loss: 0.6080 - val_label_out_auc: 0.5416 - val_return_out_metrics2: 0.3841\n",
      "Epoch 2/300\n",
      "384/384 [==============================] - 14s 36ms/step - loss: 1.4432 - label_out_loss: 0.6956 - return_out_loss: 0.7476 - label_out_auc: 0.5364 - return_out_metrics2: 0.5270 - val_loss: 1.2772 - val_label_out_loss: 0.6896 - val_return_out_loss: 0.5876 - val_label_out_auc: 0.5457 - val_return_out_metrics2: 0.5411\n",
      "Epoch 3/300\n",
      "384/384 [==============================] - 14s 36ms/step - loss: 1.4421 - label_out_loss: 0.6914 - return_out_loss: 0.7506 - label_out_auc: 0.5416 - return_out_metrics2: 0.6286 - val_loss: 1.2572 - val_label_out_loss: 0.6889 - val_return_out_loss: 0.5683 - val_label_out_auc: 0.5490 - val_return_out_metrics2: 0.5744\n",
      "Epoch 4/300\n",
      "384/384 [==============================] - 13s 35ms/step - loss: 1.3892 - label_out_loss: 0.6898 - return_out_loss: 0.6994 - label_out_auc: 0.5462 - return_out_metrics2: 0.6809 - val_loss: 1.2583 - val_label_out_loss: 0.6887 - val_return_out_loss: 0.5696 - val_label_out_auc: 0.5507 - val_return_out_metrics2: 0.5436\n",
      "Epoch 5/300\n",
      "384/384 [==============================] - 13s 35ms/step - loss: 1.3868 - label_out_loss: 0.6888 - return_out_loss: 0.6980 - label_out_auc: 0.5495 - return_out_metrics2: 0.7056 - val_loss: 1.2923 - val_label_out_loss: 0.6884 - val_return_out_loss: 0.6039 - val_label_out_auc: 0.5515 - val_return_out_metrics2: 0.4991\n",
      "Epoch 6/300\n",
      "384/384 [==============================] - 14s 36ms/step - loss: 1.3857 - label_out_loss: 0.6881 - return_out_loss: 0.6976 - label_out_auc: 0.5522 - return_out_metrics2: 0.7867 - val_loss: 1.2861 - val_label_out_loss: 0.6881 - val_return_out_loss: 0.5980 - val_label_out_auc: 0.5513 - val_return_out_metrics2: 0.4981\n",
      "Epoch 7/300\n",
      "384/384 [==============================] - 13s 35ms/step - loss: 1.4155 - label_out_loss: 0.6875 - return_out_loss: 0.7280 - label_out_auc: 0.5546 - return_out_metrics2: 0.7575 - val_loss: 1.3035 - val_label_out_loss: 0.6881 - val_return_out_loss: 0.6153 - val_label_out_auc: 0.5509 - val_return_out_metrics2: 0.4238\n",
      "Epoch 8/300\n",
      "384/384 [==============================] - 14s 35ms/step - loss: 1.4081 - label_out_loss: 0.6871 - return_out_loss: 0.7210 - label_out_auc: 0.5564 - return_out_metrics2: 0.8360 - val_loss: 1.3016 - val_label_out_loss: 0.6882 - val_return_out_loss: 0.6134 - val_label_out_auc: 0.5515 - val_return_out_metrics2: 0.4908\n",
      "Epoch 9/300\n",
      "384/384 [==============================] - 14s 36ms/step - loss: 1.3900 - label_out_loss: 0.6866 - return_out_loss: 0.7034 - label_out_auc: 0.5589 - return_out_metrics2: 0.9481 - val_loss: 1.2995 - val_label_out_loss: 0.6885 - val_return_out_loss: 0.6110 - val_label_out_auc: 0.5516 - val_return_out_metrics2: 0.4391\n",
      "Epoch 10/300\n",
      "384/384 [==============================] - 14s 35ms/step - loss: 1.3716 - label_out_loss: 0.6861 - return_out_loss: 0.6855 - label_out_auc: 0.5603 - return_out_metrics2: 0.9571 - val_loss: 1.3117 - val_label_out_loss: 0.6886 - val_return_out_loss: 0.6231 - val_label_out_auc: 0.5520 - val_return_out_metrics2: 0.4397\n",
      "Epoch 11/300\n",
      "384/384 [==============================] - 14s 35ms/step - loss: 1.4195 - label_out_loss: 0.6855 - return_out_loss: 0.7340 - label_out_auc: 0.5623 - return_out_metrics2: 0.9893 - val_loss: 1.2956 - val_label_out_loss: 0.6882 - val_return_out_loss: 0.6073 - val_label_out_auc: 0.5512 - val_return_out_metrics2: 0.4703\n",
      "Epoch 12/300\n",
      "384/384 [==============================] - 14s 35ms/step - loss: 1.3501 - label_out_loss: 0.6849 - return_out_loss: 0.6652 - label_out_auc: 0.5648 - return_out_metrics2: 1.0454 - val_loss: 1.3137 - val_label_out_loss: 0.6888 - val_return_out_loss: 0.6248 - val_label_out_auc: 0.5508 - val_return_out_metrics2: 0.4274\n",
      "Epoch 13/300\n",
      "384/384 [==============================] - 14s 35ms/step - loss: 1.3903 - label_out_loss: 0.6842 - return_out_loss: 0.7061 - label_out_auc: 0.5666 - return_out_metrics2: 1.1186 - val_loss: 1.3137 - val_label_out_loss: 0.6903 - val_return_out_loss: 0.6235 - val_label_out_auc: 0.5507 - val_return_out_metrics2: 0.3683\n",
      "Epoch 14/300\n",
      "384/384 [==============================] - 14s 36ms/step - loss: 1.3947 - label_out_loss: 0.6836 - return_out_loss: 0.7111 - label_out_auc: 0.5682 - return_out_metrics2: 1.1329 - val_loss: 1.2948 - val_label_out_loss: 0.6900 - val_return_out_loss: 0.6048 - val_label_out_auc: 0.5495 - val_return_out_metrics2: 0.4462\n",
      "Epoch 15/300\n",
      "384/384 [==============================] - 13s 35ms/step - loss: 1.3746 - label_out_loss: 0.6826 - return_out_loss: 0.6920 - label_out_auc: 0.5711 - return_out_metrics2: 1.2252 - val_loss: 1.3128 - val_label_out_loss: 0.6899 - val_return_out_loss: 0.6229 - val_label_out_auc: 0.5499 - val_return_out_metrics2: 0.3860\n",
      "Epoch 16/300\n",
      "384/384 [==============================] - 14s 35ms/step - loss: 1.3444 - label_out_loss: 0.6820 - return_out_loss: 0.6624 - label_out_auc: 0.5729 - return_out_metrics2: 1.2816 - val_loss: 1.3119 - val_label_out_loss: 0.6901 - val_return_out_loss: 0.6218 - val_label_out_auc: 0.5491 - val_return_out_metrics2: 0.3609\n",
      "Epoch 17/300\n",
      "384/384 [==============================] - 13s 35ms/step - loss: 1.3516 - label_out_loss: 0.6812 - return_out_loss: 0.6704 - label_out_auc: 0.5749 - return_out_metrics2: 1.2935 - val_loss: 1.3123 - val_label_out_loss: 0.6899 - val_return_out_loss: 0.6225 - val_label_out_auc: 0.5487 - val_return_out_metrics2: 0.3837\n",
      "Epoch 18/300\n",
      "384/384 [==============================] - 13s 35ms/step - loss: 1.3743 - label_out_loss: 0.6806 - return_out_loss: 0.6938 - label_out_auc: 0.5764 - return_out_metrics2: 1.3531 - val_loss: 1.3157 - val_label_out_loss: 0.6915 - val_return_out_loss: 0.6242 - val_label_out_auc: 0.5488 - val_return_out_metrics2: 0.3782\n",
      "Epoch 19/300\n",
      "384/384 [==============================] - 14s 36ms/step - loss: 1.3342 - label_out_loss: 0.6800 - return_out_loss: 0.6542 - label_out_auc: 0.5782 - return_out_metrics2: 1.4751 - val_loss: 1.3165 - val_label_out_loss: 0.6912 - val_return_out_loss: 0.6253 - val_label_out_auc: 0.5476 - val_return_out_metrics2: 0.3727\n",
      "Epoch 20/300\n",
      "384/384 [==============================] - 14s 36ms/step - loss: 1.3381 - label_out_loss: 0.6789 - return_out_loss: 0.6592 - label_out_auc: 0.5810 - return_out_metrics2: 1.5073 - val_loss: 1.3213 - val_label_out_loss: 0.6915 - val_return_out_loss: 0.6298 - val_label_out_auc: 0.5481 - val_return_out_metrics2: 0.3733\n"
     ]
    }
   ],
   "source": [
    "model.fit([X_train, wr_train], [y_train, Y_train], validation_data = ([X_test, wr_test], [y_test, Y_test]), epochs = 300, batch_size = 4000, callbacks = [EarlyStopping('val_label_out_auc',mode='max',patience=10,restore_best_weights=True)], verbose = 1)\n",
    "model.save_weights(f'transformer_no_imputer_{f}5.hdf5')"
   ]
  }
 ],
 "metadata": {
  "kernelspec": {
   "display_name": "Python 3",
   "language": "python",
   "name": "python3"
  },
  "language_info": {
   "codemirror_mode": {
    "name": "ipython",
    "version": 3
   },
   "file_extension": ".py",
   "mimetype": "text/x-python",
   "name": "python",
   "nbconvert_exporter": "python",
   "pygments_lexer": "ipython3",
   "version": "3.7.9"
  },
  "papermill": {
   "default_parameters": {},
   "duration": 1489.507176,
   "end_time": "2021-02-02T15:33:21.807234",
   "environment_variables": {},
   "exception": null,
   "input_path": "__notebook__.ipynb",
   "output_path": "__notebook__.ipynb",
   "parameters": {},
   "start_time": "2021-02-02T15:08:32.300058",
   "version": "2.2.2"
  }
 },
 "nbformat": 4,
 "nbformat_minor": 4
}
