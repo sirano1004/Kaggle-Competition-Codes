{
 "cells": [
  {
   "cell_type": "markdown",
   "metadata": {
    "papermill": {
     "duration": 0.011914,
     "end_time": "2021-02-02T11:09:36.192497",
     "exception": false,
     "start_time": "2021-02-02T11:09:36.180583",
     "status": "completed"
    },
    "tags": []
   },
   "source": [
    "# Jane Street: Neural Network Starter\n",
    "\n",
    "I try implementing a simple Tensorflow Keras neural network here. Train in Version 17.\n",
    "\n",
    "**Caution:** The GroupCV method applied in this notebook may cause time leakage problem. Please use [Purged Time-Series CV][1] instead.\n",
    "\n",
    "[1]: https://www.kaggle.com/marketneutral/purged-time-series-cv-xgboost-optuna"
   ]
  },
  {
   "cell_type": "code",
   "execution_count": 1,
   "metadata": {
    "execution": {
     "iopub.execute_input": "2021-02-02T11:09:36.219831Z",
     "iopub.status.busy": "2021-02-02T11:09:36.219003Z",
     "iopub.status.idle": "2021-02-02T11:09:36.222568Z",
     "shell.execute_reply": "2021-02-02T11:09:36.223073Z"
    },
    "papermill": {
     "duration": 0.020076,
     "end_time": "2021-02-02T11:09:36.223412",
     "exception": false,
     "start_time": "2021-02-02T11:09:36.203336",
     "status": "completed"
    },
    "tags": []
   },
   "outputs": [],
   "source": [
    "#import sys\n",
    "#!cp ../input/rapids/rapids.0.17.0 /opt/conda/envs/rapids.tar.gz\n",
    "#!cd /opt/conda/envs/ && tar -xzvf rapids.tar.gz > /dev/null\n",
    "#sys.path = [\"/opt/conda/envs/rapids/lib/python3.7/site-packages\"] + sys.path\n",
    "#sys.path = [\"/opt/conda/envs/rapids/lib/python3.7\"] + sys.path\n",
    "#sys.path = [\"/opt/conda/envs/rapids/lib\"] + sys.path \n",
    "#!cp /opt/conda/envs/rapids/lib/libxgboost.so /opt/conda/lib/"
   ]
  },
  {
   "cell_type": "markdown",
   "metadata": {
    "papermill": {
     "duration": 0.01081,
     "end_time": "2021-02-02T11:09:36.245528",
     "exception": false,
     "start_time": "2021-02-02T11:09:36.234718",
     "status": "completed"
    },
    "tags": []
   },
   "source": [
    "# Preprocessing"
   ]
  },
  {
   "cell_type": "code",
   "execution_count": 2,
   "metadata": {
    "execution": {
     "iopub.execute_input": "2021-02-02T11:09:36.271060Z",
     "iopub.status.busy": "2021-02-02T11:09:36.270466Z",
     "iopub.status.idle": "2021-02-02T11:09:36.274645Z",
     "shell.execute_reply": "2021-02-02T11:09:36.275196Z"
    },
    "papermill": {
     "duration": 0.018654,
     "end_time": "2021-02-02T11:09:36.275355",
     "exception": false,
     "start_time": "2021-02-02T11:09:36.256701",
     "status": "completed"
    },
    "tags": []
   },
   "outputs": [],
   "source": [
    "TRAINING = True\n",
    "USE_FINETUNE = False"
   ]
  },
  {
   "cell_type": "code",
   "execution_count": 3,
   "metadata": {
    "execution": {
     "iopub.execute_input": "2021-02-02T11:09:36.300570Z",
     "iopub.status.busy": "2021-02-02T11:09:36.299934Z",
     "iopub.status.idle": "2021-02-02T11:09:44.520691Z",
     "shell.execute_reply": "2021-02-02T11:09:44.519373Z"
    },
    "papermill": {
     "duration": 8.234503,
     "end_time": "2021-02-02T11:09:44.520849",
     "exception": false,
     "start_time": "2021-02-02T11:09:36.286346",
     "status": "completed"
    },
    "tags": []
   },
   "outputs": [],
   "source": [
    "import warnings\n",
    "warnings.filterwarnings('ignore')\n",
    "\n",
    "#if TRAINING:\n",
    "#    import cudf\n",
    "#    import cupy as cp\n",
    "\n",
    "import os, gc\n",
    "import pandas as pd\n",
    "import numpy as np\n",
    "import xgboost as xgb\n",
    "from hyperopt import hp, fmin, tpe, Trials\n",
    "from hyperopt.pyll.base import scope\n",
    "from sklearn.metrics import roc_auc_score, roc_curve\n",
    "from sklearn.model_selection import GroupKFold\n",
    "import matplotlib.pyplot as plt\n",
    "from tqdm.notebook import tqdm, trange\n",
    "from joblib import dump, load\n",
    "\n",
    "import tensorflow as tf\n",
    "import tensorflow.keras.backend as K\n",
    "import tensorflow.keras.layers as layers\n",
    "from tensorflow.keras.layers import Multiply, multiply, add, Input, Dense, BatchNormalization, Dropout, Concatenate, Lambda, GaussianNoise, Activation\n",
    "from tensorflow.keras.callbacks import Callback, ReduceLROnPlateau, ModelCheckpoint, EarlyStopping\n",
    "from tensorflow.keras.models import Model, Sequential\n",
    "from tensorflow.keras.losses import BinaryCrossentropy\n",
    "from tensorflow.keras.optimizers import Adam\n",
    "from tensorflow.keras.layers.experimental.preprocessing import Normalization\n",
    "from tensorflow.keras.metrics import AUC\n",
    "\n",
    "import numpy as np\n",
    "from sklearn.model_selection import KFold\n",
    "from sklearn.model_selection._split import _BaseKFold, indexable, _num_samples\n",
    "from sklearn.utils.validation import _deprecate_positional_args\n",
    "\n",
    "\n",
    "import numpy as np\n",
    "from sklearn.model_selection import KFold\n",
    "from sklearn.model_selection._split import _BaseKFold, indexable, _num_samples\n",
    "from sklearn.utils.validation import _deprecate_positional_args\n",
    "import kerastuner as kt"
   ]
  },
  {
   "cell_type": "code",
   "execution_count": 4,
   "metadata": {
    "execution": {
     "iopub.execute_input": "2021-02-02T11:09:44.549048Z",
     "iopub.status.busy": "2021-02-02T11:09:44.548383Z",
     "iopub.status.idle": "2021-02-02T11:09:44.551323Z",
     "shell.execute_reply": "2021-02-02T11:09:44.550837Z"
    },
    "papermill": {
     "duration": 0.019267,
     "end_time": "2021-02-02T11:09:44.551505",
     "exception": false,
     "start_time": "2021-02-02T11:09:44.532238",
     "status": "completed"
    },
    "tags": []
   },
   "outputs": [],
   "source": [
    "TARGET = 'action'\n",
    "FEATS = ['feature_{}'.format(int(i)) for i in range(130)]\n",
    "#FIX_FEAT = ['feature_53', 'feature_45', 'feature_69', 'feature_101', 'feature_84', 'feature_121', 'feature_48', 'feature_89', 'feature_93', 'feature_106', 'feature_108', 'feature_99', 'feature_100', 'feature_87', 'feature_120', 'feature_98', 'feature_46', 'feature_128', 'feature_50', 'feature_116', 'feature_71', 'feature_111', 'feature_55', 'feature_49', 'feature_56', 'feature_1', 'feature_51', 'feature_57', 'feature_107', 'feature_41', 'feature_109', 'feature_113', 'feature_123', 'feature_103', 'feature_90', 'feature_91', 'feature_114', 'feature_42', 'feature_54', 'feature_47', 'feature_95', 'feature_96']\n",
    "#FIX_FEAT = ['feature_101', 'feature_108', 'feature_127', 'feature_96', 'feature_86', 'feature_56', 'feature_106', 'feature_45', 'feature_84', 'feature_93', 'feature_88', 'feature_57', 'feature_41', 'feature_2', 'feature_50', 'feature_125', 'feature_54', 'feature_109', 'feature_111', 'feature_128', 'feature_55', 'feature_70', 'feature_115', 'feature_1', 'feature_98', 'feature_113', 'feature_120', 'feature_91', 'feature_105', 'feature_48', 'feature_110', 'feature_116', 'feature_89', 'feature_107', 'feature_69', 'feature_92', 'feature_123', 'feature_119', 'feature_58', 'feature_59', 'feature_97', 'feature_47', 'feature_90', 'feature_71', 'feature_49', 'feature_100', 'feature_87', 'feature_103', 'feature_95', 'feature_121', 'feature_51', 'feature_114', 'feature_126', 'feature_53', 'feature_46', 'feature_42', 'feature_99']\n",
    "#FIX_FEAT = ['feature_53', 'feature_45', 'feature_69', 'feature_101', 'feature_84', 'feature_121', 'feature_48', 'feature_89', 'feature_93', 'feature_106', 'feature_108', 'feature_99', 'feature_100', 'feature_87', 'feature_120', 'feature_98', 'feature_46', 'feature_128', 'feature_50', 'feature_116', 'feature_71', 'feature_111', 'feature_55', 'feature_49', 'feature_56', 'feature_1', 'feature_51', 'feature_57', 'feature_107', 'feature_41', 'feature_109', 'feature_113', 'feature_123', 'feature_103', 'feature_90', 'feature_91', 'feature_114', 'feature_42', 'feature_54', 'feature_47', 'feature_95', 'feature_96']\n",
    "#FIX_FEAT = ['feature_1','feature_2','feature_41','feature_42','feature_44','feature_45','feature_46','feature_47','feature_48','feature_49','feature_50','feature_51','feature_53','feature_54','feature_55','feature_56','feature_57','feature_58','feature_59','feature_69','feature_70','feature_71','feature_84','feature_85','feature_86','feature_87','feature_88','feature_89','feature_90','feature_91','feature_92','feature_93','feature_94','feature_95','feature_96','feature_97','feature_98','feature_99','feature_100','feature_101','feature_102','feature_103','feature_104','feature_105','feature_106','feature_107','feature_108','feature_109','feature_110','feature_111','feature_112','feature_113','feature_114','feature_115','feature_116','feature_117','feature_118','feature_119','feature_120','feature_121','feature_122','feature_123','feature_124','feature_125','feature_126','feature_127','feature_128','feature_129']"
   ]
  },
  {
   "cell_type": "code",
   "execution_count": 5,
   "metadata": {
    "execution": {
     "iopub.execute_input": "2021-02-02T11:09:44.583553Z",
     "iopub.status.busy": "2021-02-02T11:09:44.582729Z",
     "iopub.status.idle": "2021-02-02T11:12:27.250228Z",
     "shell.execute_reply": "2021-02-02T11:12:27.250753Z"
    },
    "papermill": {
     "duration": 162.688087,
     "end_time": "2021-02-02T11:12:27.250942",
     "exception": false,
     "start_time": "2021-02-02T11:09:44.562855",
     "status": "completed"
    },
    "tags": []
   },
   "outputs": [
    {
     "name": "stdout",
     "output_type": "stream",
     "text": [
      "Loading...\n",
      "Filling...\n",
      "Finish.\n"
     ]
    }
   ],
   "source": [
    "if TRAINING:\n",
    "    print('Loading...')\n",
    "    train = pd.read_csv('/kaggle/input/jane-street-market-prediction/train.csv')\n",
    "    TARGET = 'action'\n",
    "    FEATS = ['feature_{}'.format(int(i)) for i in range(130)]\n",
    "\n",
    "    print('Filling...')\n",
    "    train = train.query('weight > 0').reset_index(drop = True)\n",
    "    resp_cols = ['resp_1', 'resp_2', 'resp_3', 'resp', 'resp_4']\n",
    "    y = np.stack([(train[c] > 0.00000).astype('int') for c in resp_cols]).T #Multitarget\n",
    "\n",
    "    X = train[FEATS].to_numpy()\n",
    "    wr = train.weight*train['resp'].to_numpy()\n",
    "    Y = wr*y[:,3]\n",
    "    X = train[FEATS].to_numpy()\n",
    "    print('Finish.')"
   ]
  },
  {
   "cell_type": "code",
   "execution_count": 6,
   "metadata": {
    "execution": {
     "iopub.execute_input": "2021-02-02T11:12:27.901108Z",
     "iopub.status.busy": "2021-02-02T11:12:27.899890Z",
     "iopub.status.idle": "2021-02-02T11:12:35.219579Z",
     "shell.execute_reply": "2021-02-02T11:12:35.218863Z"
    },
    "papermill": {
     "duration": 7.956468,
     "end_time": "2021-02-02T11:12:35.219729",
     "exception": false,
     "start_time": "2021-02-02T11:12:27.263261",
     "status": "completed"
    },
    "tags": []
   },
   "outputs": [],
   "source": [
    "if TRAINING:\n",
    "    nan_feat = (train[FEATS].isnull().sum()>0)\n",
    "    NAN_FEAT = nan_feat[nan_feat == True].index\n",
    "    nan_feat_bool = nan_feat.values\n",
    "    with open('../input/js-cv-split2/f_mean.npy', 'rb') as f:\n",
    "        f_mean = np.load(f)\n",
    "    \n",
    "    mask2 = np.isnan(X[:,nan_feat_bool]).astype(int)\n",
    "    X = np.nan_to_num(X) + np.isnan(X).astype(int) * f_mean\n",
    "    del(train)\n",
    "    _= gc.collect()\n",
    "    pd.to_pickle(nan_feat_bool, 'nfb.pkl')"
   ]
  },
  {
   "cell_type": "markdown",
   "metadata": {
    "papermill": {
     "duration": 0.012035,
     "end_time": "2021-02-02T11:12:35.246583",
     "exception": false,
     "start_time": "2021-02-02T11:12:35.234548",
     "status": "completed"
    },
    "tags": []
   },
   "source": [
    "# Training"
   ]
  },
  {
   "cell_type": "code",
   "execution_count": 7,
   "metadata": {
    "execution": {
     "iopub.execute_input": "2021-02-02T11:12:35.278559Z",
     "iopub.status.busy": "2021-02-02T11:12:35.277682Z",
     "iopub.status.idle": "2021-02-02T11:12:35.281499Z",
     "shell.execute_reply": "2021-02-02T11:12:35.280804Z"
    },
    "papermill": {
     "duration": 0.022741,
     "end_time": "2021-02-02T11:12:35.281644",
     "exception": false,
     "start_time": "2021-02-02T11:12:35.258903",
     "status": "completed"
    },
    "tags": []
   },
   "outputs": [],
   "source": [
    "\n",
    "def create_autoencoder(input_dim,output_dim,noise=0.1):\n",
    "    i = Input(130)\n",
    "    mask = Input(130)\n",
    "    encoded = BatchNormalization()(i)\n",
    "    encoded = GaussianNoise(noise)(encoded)\n",
    "    \n",
    "    encoded = Dense(96, activation = 'elu')(encoded)\n",
    "    encoded = Dense(64,activation='linear')(encoded)\n",
    "    encoder = Model(inputs=i,outputs=encoded)\n",
    "    \n",
    "    return encoder"
   ]
  },
  {
   "cell_type": "code",
   "execution_count": 8,
   "metadata": {
    "execution": {
     "iopub.execute_input": "2021-02-02T11:12:35.314878Z",
     "iopub.status.busy": "2021-02-02T11:12:35.313916Z",
     "iopub.status.idle": "2021-02-02T11:12:35.317239Z",
     "shell.execute_reply": "2021-02-02T11:12:35.316723Z"
    },
    "papermill": {
     "duration": 0.02295,
     "end_time": "2021-02-02T11:12:35.317380",
     "exception": false,
     "start_time": "2021-02-02T11:12:35.294430",
     "status": "completed"
    },
    "tags": []
   },
   "outputs": [],
   "source": [
    "def custom_loss(y_true, y_pred):\n",
    "    return 100 * tf.keras.losses.MSE(y_true,y_pred)\n",
    "\n",
    "def metrics2(y_true, y_pred):\n",
    "    return K.sum(y_pred)\n",
    "\n",
    "def metrics(y_true, y_pred):\n",
    "    Pi = np.bincount(y_true, y_pred)\n",
    "    t = np.sum(Pi) / np.sqrt(np.sum(Pi ** 2)) * np.sqrt(250 / len(Pi))\n",
    "    u = min(max(t, 0), 6) * np.sum(Pi)\n",
    "    print('\\n', round(u,5))\n",
    "    return u"
   ]
  },
  {
   "cell_type": "code",
   "execution_count": 9,
   "metadata": {
    "execution": {
     "iopub.execute_input": "2021-02-02T11:12:35.347836Z",
     "iopub.status.busy": "2021-02-02T11:12:35.347138Z",
     "iopub.status.idle": "2021-02-02T11:12:35.548549Z",
     "shell.execute_reply": "2021-02-02T11:12:35.549210Z"
    },
    "papermill": {
     "duration": 0.219313,
     "end_time": "2021-02-02T11:12:35.549391",
     "exception": false,
     "start_time": "2021-02-02T11:12:35.330078",
     "status": "completed"
    },
    "tags": []
   },
   "outputs": [],
   "source": [
    "encoder = create_autoencoder(130, 5, noise=0.1)\n",
    "encoder.load_weights('../input/js-cv-split2/encoder.hdf5')\n",
    "encoder.trainable = False"
   ]
  },
  {
   "cell_type": "code",
   "execution_count": 10,
   "metadata": {
    "execution": {
     "iopub.execute_input": "2021-02-02T11:12:35.584460Z",
     "iopub.status.busy": "2021-02-02T11:12:35.583594Z",
     "iopub.status.idle": "2021-02-02T11:12:35.591601Z",
     "shell.execute_reply": "2021-02-02T11:12:35.592337Z"
    },
    "papermill": {
     "duration": 0.030261,
     "end_time": "2021-02-02T11:12:35.592606",
     "exception": false,
     "start_time": "2021-02-02T11:12:35.562345",
     "status": "completed"
    },
    "tags": []
   },
   "outputs": [],
   "source": [
    "def create_model(input_dim,output_dim):\n",
    "    inputs = Input(input_dim)\n",
    "    \n",
    "    #x = encoder(inputs)\n",
    "    #x = Concatenate()([x,inputs]) #use both raw and encoded features\n",
    "    x = BatchNormalization()(inputs)\n",
    "    \n",
    "    x = Dense(512)(x)\n",
    "    x = BatchNormalization()(x)\n",
    "    x = Lambda(tf.keras.activations.swish)(x)\n",
    "    x = Dropout(0.5)(x)    \n",
    "    \n",
    "    x = Dense(512)(x)\n",
    "    x = BatchNormalization()(x)\n",
    "    x = Lambda(tf.keras.activations.swish)(x)\n",
    "    x = Dropout(0.5)(x)\n",
    "    \n",
    "    x = Dense(300)(x)\n",
    "    x = BatchNormalization()(x)\n",
    "    x = Lambda(tf.keras.activations.swish)(x)\n",
    "    x = Dropout(0.42)(x)\n",
    "    \n",
    "    \n",
    "    x = Dense(64)(x)\n",
    "    x = BatchNormalization()(x)\n",
    "    x = Lambda(tf.keras.activations.swish)(x)\n",
    "    x = Dropout(0)(x)\n",
    "    \n",
    "    x = Dense(output_dim,activation='sigmoid', name = 'label_output')(x)\n",
    "    \n",
    "    y2 = tf.math.reduce_mean(x, axis = -1)\n",
    "    y2 = tf.where(y2 > 0.5, 1, 0)\n",
    "    y2 = tf.cast(y2, tf.float32)\n",
    "    wr = Input(1)\n",
    "    y2 = Multiply(name = 'return_out')([y2,wr])\n",
    "    \n",
    "    model = Model(inputs=[inputs,wr],outputs=[x,y2])\n",
    "    model.compile(optimizer=Adam(0.0005),loss={'label_output':BinaryCrossentropy(label_smoothing=0.0845), 'return_out': custom_loss}, metrics = {'label_output':AUC(name = 'auc'), 'return_out': metrics2})\n",
    "    return model"
   ]
  },
  {
   "cell_type": "code",
   "execution_count": 11,
   "metadata": {
    "execution": {
     "iopub.execute_input": "2021-02-02T11:12:35.630077Z",
     "iopub.status.busy": "2021-02-02T11:12:35.629421Z",
     "iopub.status.idle": "2021-02-02T11:12:35.636054Z",
     "shell.execute_reply": "2021-02-02T11:12:35.636990Z"
    },
    "papermill": {
     "duration": 0.02873,
     "end_time": "2021-02-02T11:12:35.637239",
     "exception": false,
     "start_time": "2021-02-02T11:12:35.608509",
     "status": "completed"
    },
    "tags": []
   },
   "outputs": [],
   "source": [
    "FOLDS = 6"
   ]
  },
  {
   "cell_type": "code",
   "execution_count": 12,
   "metadata": {
    "execution": {
     "iopub.execute_input": "2021-02-02T11:12:35.671324Z",
     "iopub.status.busy": "2021-02-02T11:12:35.670694Z",
     "iopub.status.idle": "2021-02-02T12:57:21.473194Z",
     "shell.execute_reply": "2021-02-02T12:57:21.472647Z"
    },
    "papermill": {
     "duration": 6285.821751,
     "end_time": "2021-02-02T12:57:21.473360",
     "exception": false,
     "start_time": "2021-02-02T11:12:35.651609",
     "status": "completed"
    },
    "tags": []
   },
   "outputs": [
    {
     "name": "stdout",
     "output_type": "stream",
     "text": [
      "Epoch 1/300\n",
      "392/392 [==============================] - 86s 214ms/step - loss: 1.4162 - label_output_loss: 0.7035 - return_out_loss: 0.7127 - label_output_auc: 0.5210 - return_out_metrics2: 2.7002 - val_loss: 1.3712 - val_label_output_loss: 0.6909 - val_return_out_loss: 0.6803 - val_label_output_auc: 0.5363 - val_return_out_metrics2: 1.2113\n",
      "Epoch 2/300\n",
      "392/392 [==============================] - 83s 212ms/step - loss: 1.3759 - label_output_loss: 0.6904 - return_out_loss: 0.6854 - label_output_auc: 0.5430 - return_out_metrics2: 4.5436 - val_loss: 1.3556 - val_label_output_loss: 0.6906 - val_return_out_loss: 0.6649 - val_label_output_auc: 0.5385 - val_return_out_metrics2: 1.7123\n",
      "Epoch 3/300\n",
      "392/392 [==============================] - 82s 210ms/step - loss: 1.4266 - label_output_loss: 0.6898 - return_out_loss: 0.7368 - label_output_auc: 0.5468 - return_out_metrics2: 5.3725 - val_loss: 1.3526 - val_label_output_loss: 0.6905 - val_return_out_loss: 0.6621 - val_label_output_auc: 0.5399 - val_return_out_metrics2: 2.0722\n",
      "Epoch 4/300\n",
      "392/392 [==============================] - 81s 207ms/step - loss: 1.3983 - label_output_loss: 0.6895 - return_out_loss: 0.7089 - label_output_auc: 0.5486 - return_out_metrics2: 5.3084 - val_loss: 1.3477 - val_label_output_loss: 0.6904 - val_return_out_loss: 0.6573 - val_label_output_auc: 0.5401 - val_return_out_metrics2: 1.9880\n",
      "Epoch 5/300\n",
      "392/392 [==============================] - 82s 210ms/step - loss: 1.3693 - label_output_loss: 0.6892 - return_out_loss: 0.6802 - label_output_auc: 0.5502 - return_out_metrics2: 5.6155 - val_loss: 1.3477 - val_label_output_loss: 0.6904 - val_return_out_loss: 0.6573 - val_label_output_auc: 0.5405 - val_return_out_metrics2: 2.1793\n",
      "Epoch 6/300\n",
      "392/392 [==============================] - 82s 210ms/step - loss: 1.4036 - label_output_loss: 0.6889 - return_out_loss: 0.7147 - label_output_auc: 0.5516 - return_out_metrics2: 5.5228 - val_loss: 1.3628 - val_label_output_loss: 0.6903 - val_return_out_loss: 0.6725 - val_label_output_auc: 0.5404 - val_return_out_metrics2: 1.8694\n",
      "Epoch 7/300\n",
      "392/392 [==============================] - 82s 208ms/step - loss: 1.4146 - label_output_loss: 0.6886 - return_out_loss: 0.7260 - label_output_auc: 0.5530 - return_out_metrics2: 5.5427 - val_loss: 1.3574 - val_label_output_loss: 0.6903 - val_return_out_loss: 0.6671 - val_label_output_auc: 0.5407 - val_return_out_metrics2: 1.8173\n",
      "Epoch 8/300\n",
      "392/392 [==============================] - 82s 208ms/step - loss: 1.3797 - label_output_loss: 0.6885 - return_out_loss: 0.6911 - label_output_auc: 0.5536 - return_out_metrics2: 5.8622 - val_loss: 1.3557 - val_label_output_loss: 0.6903 - val_return_out_loss: 0.6654 - val_label_output_auc: 0.5410 - val_return_out_metrics2: 1.7120\n",
      "Epoch 9/300\n",
      "392/392 [==============================] - 82s 209ms/step - loss: 1.3911 - label_output_loss: 0.6883 - return_out_loss: 0.7029 - label_output_auc: 0.5544 - return_out_metrics2: 6.2811 - val_loss: 1.3510 - val_label_output_loss: 0.6904 - val_return_out_loss: 0.6605 - val_label_output_auc: 0.5405 - val_return_out_metrics2: 1.9947\n",
      "Epoch 10/300\n",
      "392/392 [==============================] - 82s 209ms/step - loss: 1.3694 - label_output_loss: 0.6881 - return_out_loss: 0.6812 - label_output_auc: 0.5550 - return_out_metrics2: 6.1854 - val_loss: 1.3484 - val_label_output_loss: 0.6904 - val_return_out_loss: 0.6580 - val_label_output_auc: 0.5411 - val_return_out_metrics2: 2.0245\n",
      "Epoch 11/300\n",
      "392/392 [==============================] - 82s 208ms/step - loss: 1.3647 - label_output_loss: 0.6879 - return_out_loss: 0.6768 - label_output_auc: 0.5560 - return_out_metrics2: 6.3675 - val_loss: 1.3583 - val_label_output_loss: 0.6904 - val_return_out_loss: 0.6679 - val_label_output_auc: 0.5414 - val_return_out_metrics2: 1.9832\n",
      "Epoch 12/300\n",
      "392/392 [==============================] - 82s 210ms/step - loss: 1.3643 - label_output_loss: 0.6878 - return_out_loss: 0.6764 - label_output_auc: 0.5566 - return_out_metrics2: 6.1817 - val_loss: 1.3587 - val_label_output_loss: 0.6903 - val_return_out_loss: 0.6685 - val_label_output_auc: 0.5419 - val_return_out_metrics2: 1.9177\n",
      "Epoch 13/300\n",
      "392/392 [==============================] - 82s 210ms/step - loss: 1.3868 - label_output_loss: 0.6876 - return_out_loss: 0.6992 - label_output_auc: 0.5573 - return_out_metrics2: 6.5774 - val_loss: 1.3462 - val_label_output_loss: 0.6904 - val_return_out_loss: 0.6558 - val_label_output_auc: 0.5413 - val_return_out_metrics2: 2.1414\n",
      "Epoch 14/300\n",
      "392/392 [==============================] - 82s 210ms/step - loss: 1.3516 - label_output_loss: 0.6873 - return_out_loss: 0.6643 - label_output_auc: 0.5589 - return_out_metrics2: 7.0742 - val_loss: 1.3514 - val_label_output_loss: 0.6904 - val_return_out_loss: 0.6610 - val_label_output_auc: 0.5422 - val_return_out_metrics2: 2.0974\n",
      "Epoch 15/300\n",
      "392/392 [==============================] - 82s 209ms/step - loss: 1.3770 - label_output_loss: 0.6871 - return_out_loss: 0.6899 - label_output_auc: 0.5598 - return_out_metrics2: 7.6541 - val_loss: 1.3472 - val_label_output_loss: 0.6903 - val_return_out_loss: 0.6569 - val_label_output_auc: 0.5427 - val_return_out_metrics2: 2.4345\n",
      "Epoch 16/300\n",
      "392/392 [==============================] - 83s 212ms/step - loss: 1.3696 - label_output_loss: 0.6870 - return_out_loss: 0.6827 - label_output_auc: 0.5604 - return_out_metrics2: 6.9136 - val_loss: 1.3546 - val_label_output_loss: 0.6908 - val_return_out_loss: 0.6639 - val_label_output_auc: 0.5414 - val_return_out_metrics2: 2.0917\n",
      "Epoch 17/300\n",
      "392/392 [==============================] - 82s 210ms/step - loss: 1.3670 - label_output_loss: 0.6869 - return_out_loss: 0.6801 - label_output_auc: 0.5600 - return_out_metrics2: 7.0966 - val_loss: 1.3447 - val_label_output_loss: 0.6906 - val_return_out_loss: 0.6542 - val_label_output_auc: 0.5428 - val_return_out_metrics2: 2.4275\n",
      "Epoch 18/300\n",
      "392/392 [==============================] - 83s 211ms/step - loss: 1.3575 - label_output_loss: 0.6865 - return_out_loss: 0.6710 - label_output_auc: 0.5618 - return_out_metrics2: 7.6089 - val_loss: 1.3488 - val_label_output_loss: 0.6906 - val_return_out_loss: 0.6582 - val_label_output_auc: 0.5427 - val_return_out_metrics2: 2.3081\n",
      "Epoch 19/300\n",
      "392/392 [==============================] - 82s 210ms/step - loss: 1.3641 - label_output_loss: 0.6864 - return_out_loss: 0.6777 - label_output_auc: 0.5621 - return_out_metrics2: 7.2388 - val_loss: 1.3545 - val_label_output_loss: 0.6904 - val_return_out_loss: 0.6641 - val_label_output_auc: 0.5432 - val_return_out_metrics2: 2.1497\n",
      "Epoch 20/300\n",
      "392/392 [==============================] - 82s 210ms/step - loss: 1.3609 - label_output_loss: 0.6861 - return_out_loss: 0.6748 - label_output_auc: 0.5635 - return_out_metrics2: 7.8180 - val_loss: 1.3418 - val_label_output_loss: 0.6907 - val_return_out_loss: 0.6511 - val_label_output_auc: 0.5433 - val_return_out_metrics2: 2.4149\n",
      "Epoch 21/300\n",
      "392/392 [==============================] - 84s 214ms/step - loss: 1.3456 - label_output_loss: 0.6861 - return_out_loss: 0.6595 - label_output_auc: 0.5635 - return_out_metrics2: 8.1379 - val_loss: 1.3461 - val_label_output_loss: 0.6905 - val_return_out_loss: 0.6556 - val_label_output_auc: 0.5439 - val_return_out_metrics2: 2.3207\n",
      "Epoch 22/300\n",
      "392/392 [==============================] - 83s 211ms/step - loss: 1.3386 - label_output_loss: 0.6860 - return_out_loss: 0.6526 - label_output_auc: 0.5634 - return_out_metrics2: 8.0660 - val_loss: 1.3398 - val_label_output_loss: 0.6906 - val_return_out_loss: 0.6493 - val_label_output_auc: 0.5435 - val_return_out_metrics2: 2.6172\n",
      "Epoch 23/300\n",
      "392/392 [==============================] - 83s 212ms/step - loss: 1.3542 - label_output_loss: 0.6859 - return_out_loss: 0.6683 - label_output_auc: 0.5639 - return_out_metrics2: 8.3803 - val_loss: 1.3427 - val_label_output_loss: 0.6908 - val_return_out_loss: 0.6519 - val_label_output_auc: 0.5432 - val_return_out_metrics2: 2.4826\n",
      "Epoch 24/300\n",
      "392/392 [==============================] - 84s 214ms/step - loss: 1.3880 - label_output_loss: 0.6855 - return_out_loss: 0.7025 - label_output_auc: 0.5653 - return_out_metrics2: 8.2897 - val_loss: 1.3406 - val_label_output_loss: 0.6910 - val_return_out_loss: 0.6495 - val_label_output_auc: 0.5430 - val_return_out_metrics2: 2.2300\n",
      "Epoch 25/300\n",
      "392/392 [==============================] - 83s 212ms/step - loss: 1.3346 - label_output_loss: 0.6853 - return_out_loss: 0.6493 - label_output_auc: 0.5662 - return_out_metrics2: 8.6130 - val_loss: 1.3355 - val_label_output_loss: 0.6907 - val_return_out_loss: 0.6448 - val_label_output_auc: 0.5445 - val_return_out_metrics2: 2.7161\n",
      "Epoch 26/300\n",
      "392/392 [==============================] - 83s 211ms/step - loss: 1.3314 - label_output_loss: 0.6853 - return_out_loss: 0.6461 - label_output_auc: 0.5658 - return_out_metrics2: 8.5359 - val_loss: 1.3395 - val_label_output_loss: 0.6908 - val_return_out_loss: 0.6487 - val_label_output_auc: 0.5437 - val_return_out_metrics2: 2.3292\n",
      "Epoch 27/300\n",
      "392/392 [==============================] - 84s 216ms/step - loss: 1.2979 - label_output_loss: 0.6849 - return_out_loss: 0.6130 - label_output_auc: 0.5670 - return_out_metrics2: 9.0715 - val_loss: 1.3387 - val_label_output_loss: 0.6913 - val_return_out_loss: 0.6474 - val_label_output_auc: 0.5430 - val_return_out_metrics2: 2.4797\n",
      "Epoch 28/300\n",
      "392/392 [==============================] - 84s 213ms/step - loss: 1.3668 - label_output_loss: 0.6848 - return_out_loss: 0.6820 - label_output_auc: 0.5677 - return_out_metrics2: 9.0597 - val_loss: 1.3330 - val_label_output_loss: 0.6909 - val_return_out_loss: 0.6421 - val_label_output_auc: 0.5439 - val_return_out_metrics2: 2.6335\n",
      "Epoch 29/300\n",
      "392/392 [==============================] - 84s 213ms/step - loss: 1.3413 - label_output_loss: 0.6848 - return_out_loss: 0.6565 - label_output_auc: 0.5677 - return_out_metrics2: 9.2398 - val_loss: 1.3324 - val_label_output_loss: 0.6911 - val_return_out_loss: 0.6413 - val_label_output_auc: 0.5440 - val_return_out_metrics2: 2.5934\n",
      "Epoch 30/300\n",
      "392/392 [==============================] - 83s 212ms/step - loss: 1.3208 - label_output_loss: 0.6846 - return_out_loss: 0.6363 - label_output_auc: 0.5689 - return_out_metrics2: 9.3554 - val_loss: 1.3420 - val_label_output_loss: 0.6910 - val_return_out_loss: 0.6510 - val_label_output_auc: 0.5441 - val_return_out_metrics2: 2.2694\n",
      "Epoch 31/300\n",
      "392/392 [==============================] - 84s 213ms/step - loss: 1.3100 - label_output_loss: 0.6844 - return_out_loss: 0.6256 - label_output_auc: 0.5685 - return_out_metrics2: 9.6151 - val_loss: 1.3481 - val_label_output_loss: 0.6911 - val_return_out_loss: 0.6571 - val_label_output_auc: 0.5438 - val_return_out_metrics2: 2.3458\n",
      "Epoch 32/300\n",
      "392/392 [==============================] - 82s 210ms/step - loss: 1.3395 - label_output_loss: 0.6844 - return_out_loss: 0.6551 - label_output_auc: 0.5688 - return_out_metrics2: 9.1684 - val_loss: 1.3424 - val_label_output_loss: 0.6915 - val_return_out_loss: 0.6510 - val_label_output_auc: 0.5436 - val_return_out_metrics2: 2.3688\n",
      "Epoch 33/300\n",
      "392/392 [==============================] - 83s 212ms/step - loss: 1.3601 - label_output_loss: 0.6841 - return_out_loss: 0.6760 - label_output_auc: 0.5700 - return_out_metrics2: 9.2237 - val_loss: 1.3377 - val_label_output_loss: 0.6913 - val_return_out_loss: 0.6463 - val_label_output_auc: 0.5439 - val_return_out_metrics2: 2.3768\n",
      "Epoch 34/300\n",
      "392/392 [==============================] - 82s 208ms/step - loss: 1.3034 - label_output_loss: 0.6839 - return_out_loss: 0.6195 - label_output_auc: 0.5706 - return_out_metrics2: 9.5478 - val_loss: 1.3436 - val_label_output_loss: 0.6913 - val_return_out_loss: 0.6524 - val_label_output_auc: 0.5439 - val_return_out_metrics2: 2.3445\n",
      "Epoch 35/300\n",
      "392/392 [==============================] - 82s 210ms/step - loss: 1.3404 - label_output_loss: 0.6839 - return_out_loss: 0.6566 - label_output_auc: 0.5706 - return_out_metrics2: 9.7152 - val_loss: 1.3417 - val_label_output_loss: 0.6915 - val_return_out_loss: 0.6502 - val_label_output_auc: 0.5437 - val_return_out_metrics2: 2.2612\n",
      "Epoch 1/300\n",
      "384/384 [==============================] - 83s 211ms/step - loss: 1.4571 - label_output_loss: 0.7026 - return_out_loss: 0.7545 - label_output_auc: 0.5207 - return_out_metrics2: 2.9569 - val_loss: 1.2801 - val_label_output_loss: 0.6900 - val_return_out_loss: 0.5902 - val_label_output_auc: 0.5445 - val_return_out_metrics2: 3.9723\n",
      "Epoch 2/300\n",
      "384/384 [==============================] - 82s 214ms/step - loss: 1.4329 - label_output_loss: 0.6906 - return_out_loss: 0.7423 - label_output_auc: 0.5415 - return_out_metrics2: 4.3964 - val_loss: 1.2837 - val_label_output_loss: 0.6895 - val_return_out_loss: 0.5943 - val_label_output_auc: 0.5478 - val_return_out_metrics2: 4.2649\n",
      "Epoch 3/300\n",
      "384/384 [==============================] - 82s 212ms/step - loss: 1.4549 - label_output_loss: 0.6899 - return_out_loss: 0.7650 - label_output_auc: 0.5454 - return_out_metrics2: 5.3903 - val_loss: 1.2722 - val_label_output_loss: 0.6893 - val_return_out_loss: 0.5829 - val_label_output_auc: 0.5491 - val_return_out_metrics2: 4.5331\n",
      "Epoch 4/300\n",
      "384/384 [==============================] - 81s 212ms/step - loss: 1.4646 - label_output_loss: 0.6896 - return_out_loss: 0.7750 - label_output_auc: 0.5471 - return_out_metrics2: 5.1284 - val_loss: 1.2875 - val_label_output_loss: 0.6891 - val_return_out_loss: 0.5984 - val_label_output_auc: 0.5509 - val_return_out_metrics2: 4.2795\n",
      "Epoch 5/300\n",
      "384/384 [==============================] - 82s 212ms/step - loss: 1.3913 - label_output_loss: 0.6895 - return_out_loss: 0.7018 - label_output_auc: 0.5482 - return_out_metrics2: 5.3878 - val_loss: 1.2846 - val_label_output_loss: 0.6889 - val_return_out_loss: 0.5957 - val_label_output_auc: 0.5514 - val_return_out_metrics2: 4.3435\n",
      "Epoch 6/300\n",
      "384/384 [==============================] - 82s 213ms/step - loss: 1.4175 - label_output_loss: 0.6892 - return_out_loss: 0.7283 - label_output_auc: 0.5502 - return_out_metrics2: 5.5225 - val_loss: 1.2912 - val_label_output_loss: 0.6890 - val_return_out_loss: 0.6023 - val_label_output_auc: 0.5517 - val_return_out_metrics2: 4.0753\n",
      "Epoch 7/300\n",
      "384/384 [==============================] - 81s 212ms/step - loss: 1.4173 - label_output_loss: 0.6890 - return_out_loss: 0.7283 - label_output_auc: 0.5505 - return_out_metrics2: 5.5170 - val_loss: 1.2918 - val_label_output_loss: 0.6888 - val_return_out_loss: 0.6030 - val_label_output_auc: 0.5522 - val_return_out_metrics2: 3.9072\n",
      "Epoch 8/300\n",
      "384/384 [==============================] - 84s 218ms/step - loss: 1.4308 - label_output_loss: 0.6888 - return_out_loss: 0.7420 - label_output_auc: 0.5518 - return_out_metrics2: 5.9245 - val_loss: 1.2742 - val_label_output_loss: 0.6888 - val_return_out_loss: 0.5854 - val_label_output_auc: 0.5524 - val_return_out_metrics2: 4.5610\n",
      "Epoch 9/300\n",
      "384/384 [==============================] - 81s 212ms/step - loss: 1.4261 - label_output_loss: 0.6887 - return_out_loss: 0.7374 - label_output_auc: 0.5524 - return_out_metrics2: 5.5479 - val_loss: 1.2851 - val_label_output_loss: 0.6886 - val_return_out_loss: 0.5965 - val_label_output_auc: 0.5545 - val_return_out_metrics2: 4.6887\n",
      "Epoch 10/300\n",
      "384/384 [==============================] - 81s 211ms/step - loss: 1.4284 - label_output_loss: 0.6883 - return_out_loss: 0.7401 - label_output_auc: 0.5541 - return_out_metrics2: 6.0921 - val_loss: 1.2898 - val_label_output_loss: 0.6884 - val_return_out_loss: 0.6014 - val_label_output_auc: 0.5543 - val_return_out_metrics2: 4.2172\n",
      "Epoch 11/300\n",
      "384/384 [==============================] - 82s 214ms/step - loss: 1.4129 - label_output_loss: 0.6882 - return_out_loss: 0.7247 - label_output_auc: 0.5543 - return_out_metrics2: 5.8646 - val_loss: 1.2855 - val_label_output_loss: 0.6885 - val_return_out_loss: 0.5970 - val_label_output_auc: 0.5541 - val_return_out_metrics2: 4.7390\n",
      "Epoch 12/300\n",
      "384/384 [==============================] - 82s 213ms/step - loss: 1.4044 - label_output_loss: 0.6881 - return_out_loss: 0.7163 - label_output_auc: 0.5545 - return_out_metrics2: 6.3956 - val_loss: 1.2890 - val_label_output_loss: 0.6885 - val_return_out_loss: 0.6005 - val_label_output_auc: 0.5542 - val_return_out_metrics2: 4.4020\n",
      "Epoch 13/300\n",
      "384/384 [==============================] - 82s 214ms/step - loss: 1.4045 - label_output_loss: 0.6879 - return_out_loss: 0.7167 - label_output_auc: 0.5559 - return_out_metrics2: 6.7202 - val_loss: 1.2866 - val_label_output_loss: 0.6886 - val_return_out_loss: 0.5980 - val_label_output_auc: 0.5538 - val_return_out_metrics2: 4.5300\n",
      "Epoch 14/300\n",
      "384/384 [==============================] - 82s 214ms/step - loss: 1.3877 - label_output_loss: 0.6876 - return_out_loss: 0.7000 - label_output_auc: 0.5570 - return_out_metrics2: 7.1249 - val_loss: 1.2982 - val_label_output_loss: 0.6884 - val_return_out_loss: 0.6098 - val_label_output_auc: 0.5545 - val_return_out_metrics2: 4.2039\n",
      "Epoch 15/300\n",
      "384/384 [==============================] - 85s 222ms/step - loss: 1.3822 - label_output_loss: 0.6875 - return_out_loss: 0.6946 - label_output_auc: 0.5571 - return_out_metrics2: 6.9402 - val_loss: 1.2956 - val_label_output_loss: 0.6887 - val_return_out_loss: 0.6069 - val_label_output_auc: 0.5534 - val_return_out_metrics2: 4.2343\n",
      "Epoch 16/300\n",
      "384/384 [==============================] - 82s 213ms/step - loss: 1.4070 - label_output_loss: 0.6873 - return_out_loss: 0.7197 - label_output_auc: 0.5584 - return_out_metrics2: 7.2161 - val_loss: 1.2779 - val_label_output_loss: 0.6887 - val_return_out_loss: 0.5892 - val_label_output_auc: 0.5537 - val_return_out_metrics2: 4.8311\n",
      "Epoch 17/300\n",
      "384/384 [==============================] - 82s 214ms/step - loss: 1.4129 - label_output_loss: 0.6871 - return_out_loss: 0.7258 - label_output_auc: 0.5593 - return_out_metrics2: 7.0403 - val_loss: 1.2924 - val_label_output_loss: 0.6887 - val_return_out_loss: 0.6036 - val_label_output_auc: 0.5533 - val_return_out_metrics2: 4.2941\n",
      "Epoch 18/300\n",
      "384/384 [==============================] - 82s 213ms/step - loss: 1.4266 - label_output_loss: 0.6868 - return_out_loss: 0.7398 - label_output_auc: 0.5602 - return_out_metrics2: 7.5481 - val_loss: 1.3154 - val_label_output_loss: 0.6889 - val_return_out_loss: 0.6265 - val_label_output_auc: 0.5528 - val_return_out_metrics2: 3.4526\n",
      "Epoch 19/300\n",
      "384/384 [==============================] - 82s 214ms/step - loss: 1.3810 - label_output_loss: 0.6866 - return_out_loss: 0.6944 - label_output_auc: 0.5613 - return_out_metrics2: 7.4938 - val_loss: 1.2899 - val_label_output_loss: 0.6886 - val_return_out_loss: 0.6013 - val_label_output_auc: 0.5539 - val_return_out_metrics2: 4.4508\n",
      "Epoch 20/300\n",
      "384/384 [==============================] - 82s 214ms/step - loss: 1.4019 - label_output_loss: 0.6865 - return_out_loss: 0.7155 - label_output_auc: 0.5612 - return_out_metrics2: 8.0432 - val_loss: 1.2989 - val_label_output_loss: 0.6889 - val_return_out_loss: 0.6100 - val_label_output_auc: 0.5529 - val_return_out_metrics2: 3.9476\n",
      "Epoch 21/300\n",
      "384/384 [==============================] - 82s 214ms/step - loss: 1.3473 - label_output_loss: 0.6863 - return_out_loss: 0.6610 - label_output_auc: 0.5618 - return_out_metrics2: 7.8845 - val_loss: 1.2928 - val_label_output_loss: 0.6888 - val_return_out_loss: 0.6040 - val_label_output_auc: 0.5540 - val_return_out_metrics2: 4.2681\n",
      "Epoch 22/300\n",
      "384/384 [==============================] - 82s 215ms/step - loss: 1.3545 - label_output_loss: 0.6861 - return_out_loss: 0.6685 - label_output_auc: 0.5629 - return_out_metrics2: 8.4780 - val_loss: 1.3026 - val_label_output_loss: 0.6889 - val_return_out_loss: 0.6136 - val_label_output_auc: 0.5536 - val_return_out_metrics2: 3.8561\n",
      "Epoch 23/300\n",
      "384/384 [==============================] - 85s 222ms/step - loss: 1.4148 - label_output_loss: 0.6860 - return_out_loss: 0.7288 - label_output_auc: 0.5627 - return_out_metrics2: 7.4443 - val_loss: 1.2697 - val_label_output_loss: 0.6889 - val_return_out_loss: 0.5808 - val_label_output_auc: 0.5528 - val_return_out_metrics2: 4.7226\n",
      "Epoch 24/300\n",
      "384/384 [==============================] - 83s 217ms/step - loss: 1.3919 - label_output_loss: 0.6857 - return_out_loss: 0.7062 - label_output_auc: 0.5641 - return_out_metrics2: 8.4002 - val_loss: 1.2729 - val_label_output_loss: 0.6889 - val_return_out_loss: 0.5840 - val_label_output_auc: 0.5538 - val_return_out_metrics2: 4.3807\n",
      "Epoch 1/300\n",
      "378/378 [==============================] - 85s 219ms/step - loss: 1.4631 - label_output_loss: 0.7008 - return_out_loss: 0.7623 - label_output_auc: 0.5212 - return_out_metrics2: 1.8714 - val_loss: 1.4601 - val_label_output_loss: 0.6900 - val_return_out_loss: 0.7702 - val_label_output_auc: 0.5439 - val_return_out_metrics2: 6.4205\n",
      "Epoch 2/300\n",
      "378/378 [==============================] - 82s 217ms/step - loss: 1.3477 - label_output_loss: 0.6905 - return_out_loss: 0.6572 - label_output_auc: 0.5421 - return_out_metrics2: 3.9916 - val_loss: 1.4806 - val_label_output_loss: 0.6895 - val_return_out_loss: 0.7911 - val_label_output_auc: 0.5463 - val_return_out_metrics2: 6.0207\n",
      "Epoch 3/300\n",
      "378/378 [==============================] - 82s 217ms/step - loss: 1.3842 - label_output_loss: 0.6899 - return_out_loss: 0.6942 - label_output_auc: 0.5450 - return_out_metrics2: 3.9404 - val_loss: 1.4796 - val_label_output_loss: 0.6895 - val_return_out_loss: 0.7901 - val_label_output_auc: 0.5462 - val_return_out_metrics2: 5.8134\n",
      "Epoch 4/300\n",
      "378/378 [==============================] - 79s 208ms/step - loss: 1.3948 - label_output_loss: 0.6896 - return_out_loss: 0.7052 - label_output_auc: 0.5474 - return_out_metrics2: 4.6197 - val_loss: 1.4909 - val_label_output_loss: 0.6896 - val_return_out_loss: 0.8013 - val_label_output_auc: 0.5458 - val_return_out_metrics2: 6.0254\n",
      "Epoch 5/300\n",
      "378/378 [==============================] - 82s 217ms/step - loss: 1.3904 - label_output_loss: 0.6892 - return_out_loss: 0.7012 - label_output_auc: 0.5492 - return_out_metrics2: 4.8405 - val_loss: 1.4584 - val_label_output_loss: 0.6896 - val_return_out_loss: 0.7688 - val_label_output_auc: 0.5461 - val_return_out_metrics2: 5.8454\n",
      "Epoch 6/300\n",
      "378/378 [==============================] - 82s 218ms/step - loss: 1.3366 - label_output_loss: 0.6891 - return_out_loss: 0.6475 - label_output_auc: 0.5504 - return_out_metrics2: 5.2601 - val_loss: 1.4701 - val_label_output_loss: 0.6900 - val_return_out_loss: 0.7801 - val_label_output_auc: 0.5453 - val_return_out_metrics2: 5.3093\n",
      "Epoch 7/300\n",
      "378/378 [==============================] - 79s 208ms/step - loss: 1.3652 - label_output_loss: 0.6889 - return_out_loss: 0.6763 - label_output_auc: 0.5510 - return_out_metrics2: 5.0268 - val_loss: 1.4682 - val_label_output_loss: 0.6899 - val_return_out_loss: 0.7783 - val_label_output_auc: 0.5466 - val_return_out_metrics2: 5.8170\n",
      "Epoch 8/300\n",
      "378/378 [==============================] - 82s 216ms/step - loss: 1.3641 - label_output_loss: 0.6886 - return_out_loss: 0.6754 - label_output_auc: 0.5524 - return_out_metrics2: 5.2829 - val_loss: 1.4691 - val_label_output_loss: 0.6903 - val_return_out_loss: 0.7789 - val_label_output_auc: 0.5455 - val_return_out_metrics2: 5.2639\n",
      "Epoch 9/300\n",
      "378/378 [==============================] - 79s 208ms/step - loss: 1.4090 - label_output_loss: 0.6886 - return_out_loss: 0.7204 - label_output_auc: 0.5527 - return_out_metrics2: 5.6551 - val_loss: 1.4870 - val_label_output_loss: 0.6903 - val_return_out_loss: 0.7967 - val_label_output_auc: 0.5452 - val_return_out_metrics2: 4.8743\n",
      "Epoch 10/300\n",
      "378/378 [==============================] - 82s 218ms/step - loss: 1.3479 - label_output_loss: 0.6883 - return_out_loss: 0.6596 - label_output_auc: 0.5543 - return_out_metrics2: 5.7160 - val_loss: 1.5059 - val_label_output_loss: 0.6904 - val_return_out_loss: 0.8155 - val_label_output_auc: 0.5456 - val_return_out_metrics2: 4.7012\n",
      "Epoch 11/300\n",
      "378/378 [==============================] - 82s 217ms/step - loss: 1.3522 - label_output_loss: 0.6881 - return_out_loss: 0.6641 - label_output_auc: 0.5552 - return_out_metrics2: 5.9981 - val_loss: 1.4898 - val_label_output_loss: 0.6906 - val_return_out_loss: 0.7992 - val_label_output_auc: 0.5448 - val_return_out_metrics2: 4.7996\n",
      "Epoch 12/300\n",
      "378/378 [==============================] - 78s 207ms/step - loss: 1.3480 - label_output_loss: 0.6879 - return_out_loss: 0.6600 - label_output_auc: 0.5556 - return_out_metrics2: 6.4698 - val_loss: 1.4898 - val_label_output_loss: 0.6907 - val_return_out_loss: 0.7991 - val_label_output_auc: 0.5457 - val_return_out_metrics2: 5.0159\n",
      "Epoch 13/300\n",
      "378/378 [==============================] - 82s 217ms/step - loss: 1.3464 - label_output_loss: 0.6879 - return_out_loss: 0.6585 - label_output_auc: 0.5560 - return_out_metrics2: 6.5942 - val_loss: 1.4898 - val_label_output_loss: 0.6909 - val_return_out_loss: 0.7989 - val_label_output_auc: 0.5452 - val_return_out_metrics2: 4.9136\n",
      "Epoch 14/300\n",
      "378/378 [==============================] - 79s 208ms/step - loss: 1.3662 - label_output_loss: 0.6877 - return_out_loss: 0.6785 - label_output_auc: 0.5567 - return_out_metrics2: 6.0360 - val_loss: 1.4764 - val_label_output_loss: 0.6908 - val_return_out_loss: 0.7856 - val_label_output_auc: 0.5455 - val_return_out_metrics2: 5.3470\n",
      "Epoch 15/300\n",
      "378/378 [==============================] - 82s 217ms/step - loss: 1.3538 - label_output_loss: 0.6876 - return_out_loss: 0.6662 - label_output_auc: 0.5572 - return_out_metrics2: 6.3921 - val_loss: 1.5026 - val_label_output_loss: 0.6909 - val_return_out_loss: 0.8117 - val_label_output_auc: 0.5453 - val_return_out_metrics2: 4.6134\n",
      "Epoch 16/300\n",
      "378/378 [==============================] - 81s 213ms/step - loss: 1.3524 - label_output_loss: 0.6874 - return_out_loss: 0.6650 - label_output_auc: 0.5580 - return_out_metrics2: 6.0468 - val_loss: 1.4927 - val_label_output_loss: 0.6908 - val_return_out_loss: 0.8019 - val_label_output_auc: 0.5448 - val_return_out_metrics2: 4.8452\n",
      "Epoch 17/300\n",
      "378/378 [==============================] - 79s 209ms/step - loss: 1.3699 - label_output_loss: 0.6873 - return_out_loss: 0.6826 - label_output_auc: 0.5582 - return_out_metrics2: 6.0334 - val_loss: 1.4857 - val_label_output_loss: 0.6908 - val_return_out_loss: 0.7948 - val_label_output_auc: 0.5449 - val_return_out_metrics2: 4.9239\n"
     ]
    }
   ],
   "source": [
    "    #gkf = PurgedGroupTimeSeriesSplit(n_splits = FOLDS, group_gap=20)\n",
    "    splits = pd.read_pickle('../input/js-cv-split2/cross_validation.pkl')#list(gkf.split(y, groups=date))\n",
    "    \n",
    "    for fold, (train_indices, test_indices) in enumerate(splits):\n",
    "        if fold >= 3:\n",
    "            \n",
    "            model = create_model(130 + 64 + 88, 5)\n",
    "            \n",
    "            X_train, X_test = X[train_indices], X[test_indices]\n",
    "            y_train, y_test = y[train_indices], y[test_indices]\n",
    "            Y_train, Y_test = Y[train_indices], Y[test_indices]\n",
    "            encoded_X_train = encoder(X_train, training = False)\n",
    "            encoded_X_test = encoder(X_test, training = False)\n",
    "            \n",
    "            mask_train, mask_test = mask2[train_indices], mask2[test_indices]\n",
    "            X_train = tf.concat([X_train, encoded_X_train, mask_train], -1)\n",
    "            X_test = tf.concat([X_test, encoded_X_test, mask_test], -1)\n",
    "            del(encoded_X_train, encoded_X_test, mask_train, mask_test)\n",
    "            _=gc.collect()\n",
    "            wr_train, wr_test = wr[train_indices], wr[test_indices]\n",
    "            \n",
    "            model.fit([X_train, wr_train], [y_train, Y_train],validation_data=([X_test, wr_test],[y_test, Y_test]),epochs=300,batch_size=4000,callbacks= [EarlyStopping('val_label_output_auc',mode='max',patience=10,restore_best_weights=True)])\n",
    "            model.save_weights(f'./model_{fold}.hdf5')\n",
    "            del(wr_train, wr_test)\n",
    "            _=gc.collect()"
   ]
  },
  {
   "cell_type": "code",
   "execution_count": 13,
   "metadata": {
    "execution": {
     "iopub.execute_input": "2021-02-02T12:57:39.764257Z",
     "iopub.status.busy": "2021-02-02T12:57:39.763269Z",
     "iopub.status.idle": "2021-02-02T12:57:39.766070Z",
     "shell.execute_reply": "2021-02-02T12:57:39.765442Z"
    },
    "papermill": {
     "duration": 9.149194,
     "end_time": "2021-02-02T12:57:39.766213",
     "exception": false,
     "start_time": "2021-02-02T12:57:30.617019",
     "status": "completed"
    },
    "tags": []
   },
   "outputs": [],
   "source": [
    "def create_model(input_dim,output_dim):\n",
    "    inputs = Input(input_dim)\n",
    "\n",
    "    x = BatchNormalization()(inputs)\n",
    "\n",
    "    x = Dense(438)(x)\n",
    "    x = BatchNormalization()(x)\n",
    "    x = Lambda(tf.keras.activations.swish)(x)\n",
    "    x = Dropout(0.34554)(x)\n",
    "\n",
    "    x = Dense(420)(x)\n",
    "    x = BatchNormalization()(x)\n",
    "    x = Lambda(tf.keras.activations.swish)(x)\n",
    "    x = Dropout(0.47263)(x)\n",
    "\n",
    "    x = Dense(64)(x)\n",
    "    x = BatchNormalization()(x)\n",
    "    x = Lambda(tf.keras.activations.swish)(x)\n",
    "    x = Dropout(0.42533)(x)\n",
    "    \n",
    "    x = Dense(output_dim,activation='sigmoid', name = 'label_output')(x)\n",
    "    \n",
    "    y2 = tf.math.reduce_mean(x, axis = -1)\n",
    "    y2 = tf.where(y2 > 0.5, 1, 0)\n",
    "    y2 = tf.cast(y2, tf.float32)\n",
    "    wr = Input(1)\n",
    "    y2 = Multiply(name = 'return_out')([y2,wr])\n",
    "    \n",
    "    model = Model(inputs=[inputs,wr],outputs=[x,y2])\n",
    "    model.compile(optimizer=Adam(0.0072342),loss={'label_output': BinaryCrossentropy(label_smoothing=0.090004), 'return_out': custom_loss}, metrics = {'label_output':AUC(name = 'auc'), 'return_out': metrics2})\n",
    "    return model"
   ]
  },
  {
   "cell_type": "code",
   "execution_count": 14,
   "metadata": {
    "execution": {
     "iopub.execute_input": "2021-02-02T12:57:57.654817Z",
     "iopub.status.busy": "2021-02-02T12:57:57.654175Z",
     "iopub.status.idle": "2021-02-02T13:52:08.614075Z",
     "shell.execute_reply": "2021-02-02T13:52:08.614568Z"
    },
    "papermill": {
     "duration": 3259.855423,
     "end_time": "2021-02-02T13:52:08.614775",
     "exception": false,
     "start_time": "2021-02-02T12:57:48.759352",
     "status": "completed"
    },
    "tags": []
   },
   "outputs": [
    {
     "name": "stdout",
     "output_type": "stream",
     "text": [
      "Epoch 1/300\n",
      "392/392 [==============================] - 58s 145ms/step - loss: 1.3788 - label_output_loss: 0.6956 - return_out_loss: 0.6832 - label_output_auc: 0.5311 - return_out_metrics2: 3.4590 - val_loss: 1.3485 - val_label_output_loss: 0.6907 - val_return_out_loss: 0.6579 - val_label_output_auc: 0.5387 - val_return_out_metrics2: 1.7892\n",
      "Epoch 2/300\n",
      "392/392 [==============================] - 58s 148ms/step - loss: 1.3592 - label_output_loss: 0.6896 - return_out_loss: 0.6696 - label_output_auc: 0.5477 - return_out_metrics2: 5.3693 - val_loss: 1.3407 - val_label_output_loss: 0.6904 - val_return_out_loss: 0.6503 - val_label_output_auc: 0.5403 - val_return_out_metrics2: 2.0768\n",
      "Epoch 3/300\n",
      "392/392 [==============================] - 59s 149ms/step - loss: 1.3761 - label_output_loss: 0.6890 - return_out_loss: 0.6871 - label_output_auc: 0.5511 - return_out_metrics2: 5.4911 - val_loss: 1.3498 - val_label_output_loss: 0.6904 - val_return_out_loss: 0.6593 - val_label_output_auc: 0.5402 - val_return_out_metrics2: 2.2376\n",
      "Epoch 4/300\n",
      "392/392 [==============================] - 57s 145ms/step - loss: 1.3646 - label_output_loss: 0.6886 - return_out_loss: 0.6760 - label_output_auc: 0.5536 - return_out_metrics2: 6.4105 - val_loss: 1.3565 - val_label_output_loss: 0.6905 - val_return_out_loss: 0.6660 - val_label_output_auc: 0.5411 - val_return_out_metrics2: 1.8157\n",
      "Epoch 5/300\n",
      "392/392 [==============================] - 61s 155ms/step - loss: 1.3585 - label_output_loss: 0.6879 - return_out_loss: 0.6706 - label_output_auc: 0.5571 - return_out_metrics2: 7.4207 - val_loss: 1.3474 - val_label_output_loss: 0.6907 - val_return_out_loss: 0.6567 - val_label_output_auc: 0.5419 - val_return_out_metrics2: 2.4301\n",
      "Epoch 6/300\n",
      "392/392 [==============================] - 57s 146ms/step - loss: 1.3968 - label_output_loss: 0.6876 - return_out_loss: 0.7092 - label_output_auc: 0.5578 - return_out_metrics2: 7.2922 - val_loss: 1.3544 - val_label_output_loss: 0.6911 - val_return_out_loss: 0.6632 - val_label_output_auc: 0.5435 - val_return_out_metrics2: 2.2562\n",
      "Epoch 7/300\n",
      "392/392 [==============================] - 61s 155ms/step - loss: 1.3521 - label_output_loss: 0.6872 - return_out_loss: 0.6650 - label_output_auc: 0.5597 - return_out_metrics2: 7.2852 - val_loss: 1.3538 - val_label_output_loss: 0.6905 - val_return_out_loss: 0.6633 - val_label_output_auc: 0.5426 - val_return_out_metrics2: 2.3516\n",
      "Epoch 8/300\n",
      "392/392 [==============================] - 56s 144ms/step - loss: 1.3492 - label_output_loss: 0.6867 - return_out_loss: 0.6625 - label_output_auc: 0.5613 - return_out_metrics2: 7.6377 - val_loss: 1.3351 - val_label_output_loss: 0.6907 - val_return_out_loss: 0.6444 - val_label_output_auc: 0.5435 - val_return_out_metrics2: 2.8568\n",
      "Epoch 9/300\n",
      "392/392 [==============================] - 58s 147ms/step - loss: 1.3825 - label_output_loss: 0.6861 - return_out_loss: 0.6964 - label_output_auc: 0.5643 - return_out_metrics2: 7.6710 - val_loss: 1.3696 - val_label_output_loss: 0.6912 - val_return_out_loss: 0.6785 - val_label_output_auc: 0.5429 - val_return_out_metrics2: 1.7613\n",
      "Epoch 10/300\n",
      "392/392 [==============================] - 63s 161ms/step - loss: 1.3588 - label_output_loss: 0.6857 - return_out_loss: 0.6732 - label_output_auc: 0.5653 - return_out_metrics2: 8.0656 - val_loss: 1.3769 - val_label_output_loss: 0.6907 - val_return_out_loss: 0.6861 - val_label_output_auc: 0.5426 - val_return_out_metrics2: 1.6701\n",
      "Epoch 11/300\n",
      "392/392 [==============================] - 59s 151ms/step - loss: 1.3132 - label_output_loss: 0.6852 - return_out_loss: 0.6280 - label_output_auc: 0.5677 - return_out_metrics2: 8.8454 - val_loss: 1.3451 - val_label_output_loss: 0.6905 - val_return_out_loss: 0.6545 - val_label_output_auc: 0.5444 - val_return_out_metrics2: 2.2939\n",
      "Epoch 12/300\n",
      "392/392 [==============================] - 62s 158ms/step - loss: 1.3474 - label_output_loss: 0.6849 - return_out_loss: 0.6626 - label_output_auc: 0.5688 - return_out_metrics2: 8.7930 - val_loss: 1.3669 - val_label_output_loss: 0.6902 - val_return_out_loss: 0.6767 - val_label_output_auc: 0.5450 - val_return_out_metrics2: 1.9807\n",
      "Epoch 13/300\n",
      "392/392 [==============================] - 58s 147ms/step - loss: 1.3716 - label_output_loss: 0.6844 - return_out_loss: 0.6873 - label_output_auc: 0.5705 - return_out_metrics2: 9.1179 - val_loss: 1.3467 - val_label_output_loss: 0.6918 - val_return_out_loss: 0.6550 - val_label_output_auc: 0.5439 - val_return_out_metrics2: 2.7692\n",
      "Epoch 14/300\n",
      "392/392 [==============================] - 61s 156ms/step - loss: 1.3229 - label_output_loss: 0.6840 - return_out_loss: 0.6389 - label_output_auc: 0.5718 - return_out_metrics2: 10.2860 - val_loss: 1.3438 - val_label_output_loss: 0.6909 - val_return_out_loss: 0.6529 - val_label_output_auc: 0.5453 - val_return_out_metrics2: 2.2744\n",
      "Epoch 15/300\n",
      "392/392 [==============================] - 58s 148ms/step - loss: 1.3396 - label_output_loss: 0.6836 - return_out_loss: 0.6560 - label_output_auc: 0.5729 - return_out_metrics2: 9.7186 - val_loss: 1.3476 - val_label_output_loss: 0.6914 - val_return_out_loss: 0.6562 - val_label_output_auc: 0.5433 - val_return_out_metrics2: 2.4032\n",
      "Epoch 16/300\n",
      "392/392 [==============================] - 58s 147ms/step - loss: 1.3052 - label_output_loss: 0.6833 - return_out_loss: 0.6219 - label_output_auc: 0.5748 - return_out_metrics2: 10.5478 - val_loss: 1.3538 - val_label_output_loss: 0.6912 - val_return_out_loss: 0.6626 - val_label_output_auc: 0.5442 - val_return_out_metrics2: 2.3552\n",
      "Epoch 17/300\n",
      "392/392 [==============================] - 62s 158ms/step - loss: 1.2992 - label_output_loss: 0.6828 - return_out_loss: 0.6164 - label_output_auc: 0.5763 - return_out_metrics2: 10.7647 - val_loss: 1.3524 - val_label_output_loss: 0.6910 - val_return_out_loss: 0.6614 - val_label_output_auc: 0.5440 - val_return_out_metrics2: 1.9372\n",
      "Epoch 18/300\n",
      "392/392 [==============================] - 58s 147ms/step - loss: 1.3149 - label_output_loss: 0.6824 - return_out_loss: 0.6325 - label_output_auc: 0.5771 - return_out_metrics2: 11.4280 - val_loss: 1.3661 - val_label_output_loss: 0.6911 - val_return_out_loss: 0.6751 - val_label_output_auc: 0.5447 - val_return_out_metrics2: 2.1876\n",
      "Epoch 19/300\n",
      "392/392 [==============================] - 62s 157ms/step - loss: 1.3142 - label_output_loss: 0.6819 - return_out_loss: 0.6323 - label_output_auc: 0.5793 - return_out_metrics2: 11.4566 - val_loss: 1.3605 - val_label_output_loss: 0.6915 - val_return_out_loss: 0.6690 - val_label_output_auc: 0.5438 - val_return_out_metrics2: 2.1519\n",
      "Epoch 20/300\n",
      "392/392 [==============================] - 57s 145ms/step - loss: 1.2943 - label_output_loss: 0.6817 - return_out_loss: 0.6126 - label_output_auc: 0.5803 - return_out_metrics2: 11.8205 - val_loss: 1.3471 - val_label_output_loss: 0.6917 - val_return_out_loss: 0.6554 - val_label_output_auc: 0.5439 - val_return_out_metrics2: 2.2804\n",
      "Epoch 21/300\n",
      "392/392 [==============================] - 60s 153ms/step - loss: 1.2930 - label_output_loss: 0.6812 - return_out_loss: 0.6118 - label_output_auc: 0.5815 - return_out_metrics2: 12.4770 - val_loss: 1.3456 - val_label_output_loss: 0.6915 - val_return_out_loss: 0.6540 - val_label_output_auc: 0.5446 - val_return_out_metrics2: 2.4350\n",
      "Epoch 22/300\n",
      "392/392 [==============================] - 60s 153ms/step - loss: 1.2894 - label_output_loss: 0.6810 - return_out_loss: 0.6085 - label_output_auc: 0.5824 - return_out_metrics2: 12.3312 - val_loss: 1.3570 - val_label_output_loss: 0.6919 - val_return_out_loss: 0.6651 - val_label_output_auc: 0.5444 - val_return_out_metrics2: 2.4403\n",
      "Epoch 23/300\n",
      "392/392 [==============================] - 59s 150ms/step - loss: 1.2829 - label_output_loss: 0.6806 - return_out_loss: 0.6022 - label_output_auc: 0.5829 - return_out_metrics2: 12.3294 - val_loss: 1.3517 - val_label_output_loss: 0.6923 - val_return_out_loss: 0.6594 - val_label_output_auc: 0.5443 - val_return_out_metrics2: 2.2934\n",
      "Epoch 24/300\n",
      "392/392 [==============================] - 62s 157ms/step - loss: 1.2718 - label_output_loss: 0.6802 - return_out_loss: 0.5916 - label_output_auc: 0.5846 - return_out_metrics2: 12.7598 - val_loss: 1.3746 - val_label_output_loss: 0.6915 - val_return_out_loss: 0.6831 - val_label_output_auc: 0.5439 - val_return_out_metrics2: 1.7279\n",
      "Epoch 1/300\n",
      "384/384 [==============================] - 58s 147ms/step - loss: 1.4716 - label_output_loss: 0.6955 - return_out_loss: 0.7760 - label_output_auc: 0.5298 - return_out_metrics2: 3.1844 - val_loss: 1.2761 - val_label_output_loss: 0.6894 - val_return_out_loss: 0.5868 - val_label_output_auc: 0.5485 - val_return_out_metrics2: 4.5850\n",
      "Epoch 2/300\n",
      "384/384 [==============================] - 61s 158ms/step - loss: 1.4504 - label_output_loss: 0.6899 - return_out_loss: 0.7605 - label_output_auc: 0.5459 - return_out_metrics2: 4.6515 - val_loss: 1.2852 - val_label_output_loss: 0.6891 - val_return_out_loss: 0.5960 - val_label_output_auc: 0.5514 - val_return_out_metrics2: 4.1262\n",
      "Epoch 3/300\n",
      "384/384 [==============================] - 56s 144ms/step - loss: 1.4531 - label_output_loss: 0.6892 - return_out_loss: 0.7638 - label_output_auc: 0.5494 - return_out_metrics2: 5.4303 - val_loss: 1.3006 - val_label_output_loss: 0.6890 - val_return_out_loss: 0.6117 - val_label_output_auc: 0.5523 - val_return_out_metrics2: 3.6384\n",
      "Epoch 4/300\n",
      "384/384 [==============================] - 56s 145ms/step - loss: 1.4300 - label_output_loss: 0.6888 - return_out_loss: 0.7412 - label_output_auc: 0.5521 - return_out_metrics2: 6.1110 - val_loss: 1.2743 - val_label_output_loss: 0.6886 - val_return_out_loss: 0.5857 - val_label_output_auc: 0.5534 - val_return_out_metrics2: 4.9762\n",
      "Epoch 5/300\n",
      "384/384 [==============================] - 61s 158ms/step - loss: 1.4241 - label_output_loss: 0.6883 - return_out_loss: 0.7358 - label_output_auc: 0.5550 - return_out_metrics2: 6.1981 - val_loss: 1.3118 - val_label_output_loss: 0.6888 - val_return_out_loss: 0.6229 - val_label_output_auc: 0.5532 - val_return_out_metrics2: 3.6215\n",
      "Epoch 6/300\n",
      "384/384 [==============================] - 55s 144ms/step - loss: 1.3964 - label_output_loss: 0.6880 - return_out_loss: 0.7084 - label_output_auc: 0.5558 - return_out_metrics2: 7.2347 - val_loss: 1.2811 - val_label_output_loss: 0.6886 - val_return_out_loss: 0.5924 - val_label_output_auc: 0.5540 - val_return_out_metrics2: 4.8993\n",
      "Epoch 7/300\n",
      "384/384 [==============================] - 62s 160ms/step - loss: 1.4170 - label_output_loss: 0.6875 - return_out_loss: 0.7294 - label_output_auc: 0.5581 - return_out_metrics2: 6.9776 - val_loss: 1.3045 - val_label_output_loss: 0.6889 - val_return_out_loss: 0.6156 - val_label_output_auc: 0.5530 - val_return_out_metrics2: 3.6801\n",
      "Epoch 8/300\n",
      "384/384 [==============================] - 56s 145ms/step - loss: 1.4058 - label_output_loss: 0.6870 - return_out_loss: 0.7188 - label_output_auc: 0.5601 - return_out_metrics2: 7.2026 - val_loss: 1.3148 - val_label_output_loss: 0.6889 - val_return_out_loss: 0.6260 - val_label_output_auc: 0.5525 - val_return_out_metrics2: 3.1788\n",
      "Epoch 9/300\n",
      "384/384 [==============================] - 56s 145ms/step - loss: 1.4357 - label_output_loss: 0.6865 - return_out_loss: 0.7492 - label_output_auc: 0.5625 - return_out_metrics2: 8.6028 - val_loss: 1.3002 - val_label_output_loss: 0.6891 - val_return_out_loss: 0.6111 - val_label_output_auc: 0.5526 - val_return_out_metrics2: 3.6302\n",
      "Epoch 10/300\n",
      "384/384 [==============================] - 61s 158ms/step - loss: 1.4038 - label_output_loss: 0.6859 - return_out_loss: 0.7179 - label_output_auc: 0.5645 - return_out_metrics2: 8.5941 - val_loss: 1.2977 - val_label_output_loss: 0.6892 - val_return_out_loss: 0.6085 - val_label_output_auc: 0.5512 - val_return_out_metrics2: 3.8603\n",
      "Epoch 11/300\n",
      "384/384 [==============================] - 56s 146ms/step - loss: 1.4020 - label_output_loss: 0.6855 - return_out_loss: 0.7165 - label_output_auc: 0.5662 - return_out_metrics2: 9.0306 - val_loss: 1.2956 - val_label_output_loss: 0.6890 - val_return_out_loss: 0.6066 - val_label_output_auc: 0.5524 - val_return_out_metrics2: 3.8957\n",
      "Epoch 12/300\n",
      "384/384 [==============================] - 61s 159ms/step - loss: 1.3381 - label_output_loss: 0.6852 - return_out_loss: 0.6529 - label_output_auc: 0.5667 - return_out_metrics2: 9.3789 - val_loss: 1.3150 - val_label_output_loss: 0.6894 - val_return_out_loss: 0.6256 - val_label_output_auc: 0.5524 - val_return_out_metrics2: 3.4334\n",
      "Epoch 13/300\n",
      "384/384 [==============================] - 56s 145ms/step - loss: 1.3648 - label_output_loss: 0.6846 - return_out_loss: 0.6803 - label_output_auc: 0.5695 - return_out_metrics2: 10.3783 - val_loss: 1.3054 - val_label_output_loss: 0.6896 - val_return_out_loss: 0.6158 - val_label_output_auc: 0.5520 - val_return_out_metrics2: 3.3230\n",
      "Epoch 14/300\n",
      "384/384 [==============================] - 55s 144ms/step - loss: 1.3873 - label_output_loss: 0.6842 - return_out_loss: 0.7031 - label_output_auc: 0.5706 - return_out_metrics2: 9.8747 - val_loss: 1.2933 - val_label_output_loss: 0.6895 - val_return_out_loss: 0.6039 - val_label_output_auc: 0.5522 - val_return_out_metrics2: 3.9664\n",
      "Epoch 15/300\n",
      "384/384 [==============================] - 61s 158ms/step - loss: 1.3430 - label_output_loss: 0.6839 - return_out_loss: 0.6592 - label_output_auc: 0.5719 - return_out_metrics2: 10.2081 - val_loss: 1.3110 - val_label_output_loss: 0.6897 - val_return_out_loss: 0.6213 - val_label_output_auc: 0.5510 - val_return_out_metrics2: 3.3969\n",
      "Epoch 16/300\n",
      "384/384 [==============================] - 55s 144ms/step - loss: 1.3778 - label_output_loss: 0.6833 - return_out_loss: 0.6945 - label_output_auc: 0.5741 - return_out_metrics2: 10.7886 - val_loss: 1.3177 - val_label_output_loss: 0.6897 - val_return_out_loss: 0.6280 - val_label_output_auc: 0.5511 - val_return_out_metrics2: 3.2441\n",
      "Epoch 1/300\n",
      "378/378 [==============================] - 63s 162ms/step - loss: 1.3959 - label_output_loss: 0.6970 - return_out_loss: 0.6989 - label_output_auc: 0.5284 - return_out_metrics2: 2.5093 - val_loss: 1.4838 - val_label_output_loss: 0.6901 - val_return_out_loss: 0.7937 - val_label_output_auc: 0.5439 - val_return_out_metrics2: 5.6423\n",
      "Epoch 2/300\n",
      "378/378 [==============================] - 56s 148ms/step - loss: 1.3512 - label_output_loss: 0.6899 - return_out_loss: 0.6613 - label_output_auc: 0.5459 - return_out_metrics2: 4.7264 - val_loss: 1.4505 - val_label_output_loss: 0.6900 - val_return_out_loss: 0.7605 - val_label_output_auc: 0.5440 - val_return_out_metrics2: 5.4585\n",
      "Epoch 3/300\n",
      "378/378 [==============================] - 55s 147ms/step - loss: 1.4117 - label_output_loss: 0.6893 - return_out_loss: 0.7224 - label_output_auc: 0.5493 - return_out_metrics2: 5.4023 - val_loss: 1.4868 - val_label_output_loss: 0.6901 - val_return_out_loss: 0.7967 - val_label_output_auc: 0.5440 - val_return_out_metrics2: 5.0155\n",
      "Epoch 4/300\n",
      "378/378 [==============================] - 61s 161ms/step - loss: 1.3586 - label_output_loss: 0.6888 - return_out_loss: 0.6697 - label_output_auc: 0.5520 - return_out_metrics2: 5.7753 - val_loss: 1.4991 - val_label_output_loss: 0.6903 - val_return_out_loss: 0.8088 - val_label_output_auc: 0.5443 - val_return_out_metrics2: 4.7980\n",
      "Epoch 5/300\n",
      "378/378 [==============================] - 55s 147ms/step - loss: 1.3844 - label_output_loss: 0.6883 - return_out_loss: 0.6961 - label_output_auc: 0.5547 - return_out_metrics2: 6.3320 - val_loss: 1.4972 - val_label_output_loss: 0.6903 - val_return_out_loss: 0.8069 - val_label_output_auc: 0.5449 - val_return_out_metrics2: 4.4463\n",
      "Epoch 6/300\n",
      "378/378 [==============================] - 61s 162ms/step - loss: 1.3738 - label_output_loss: 0.6880 - return_out_loss: 0.6858 - label_output_auc: 0.5559 - return_out_metrics2: 5.8250 - val_loss: 1.5045 - val_label_output_loss: 0.6914 - val_return_out_loss: 0.8131 - val_label_output_auc: 0.5435 - val_return_out_metrics2: 4.6221\n",
      "Epoch 7/300\n",
      "378/378 [==============================] - 56s 147ms/step - loss: 1.3567 - label_output_loss: 0.6876 - return_out_loss: 0.6691 - label_output_auc: 0.5578 - return_out_metrics2: 6.7724 - val_loss: 1.5027 - val_label_output_loss: 0.6925 - val_return_out_loss: 0.8102 - val_label_output_auc: 0.5437 - val_return_out_metrics2: 4.2912\n",
      "Epoch 8/300\n",
      "378/378 [==============================] - 55s 146ms/step - loss: 1.3471 - label_output_loss: 0.6873 - return_out_loss: 0.6598 - label_output_auc: 0.5592 - return_out_metrics2: 6.5726 - val_loss: 1.4769 - val_label_output_loss: 0.6925 - val_return_out_loss: 0.7845 - val_label_output_auc: 0.5416 - val_return_out_metrics2: 4.6443\n",
      "Epoch 9/300\n",
      "378/378 [==============================] - 61s 161ms/step - loss: 1.3543 - label_output_loss: 0.6868 - return_out_loss: 0.6675 - label_output_auc: 0.5609 - return_out_metrics2: 6.8973 - val_loss: 1.4998 - val_label_output_loss: 0.6927 - val_return_out_loss: 0.8071 - val_label_output_auc: 0.5411 - val_return_out_metrics2: 3.9928\n",
      "Epoch 10/300\n",
      "378/378 [==============================] - 55s 147ms/step - loss: 1.3754 - label_output_loss: 0.6867 - return_out_loss: 0.6887 - label_output_auc: 0.5618 - return_out_metrics2: 6.4673 - val_loss: 1.4828 - val_label_output_loss: 0.6920 - val_return_out_loss: 0.7908 - val_label_output_auc: 0.5439 - val_return_out_metrics2: 4.9289\n",
      "Epoch 11/300\n",
      "378/378 [==============================] - 59s 155ms/step - loss: 1.3387 - label_output_loss: 0.6862 - return_out_loss: 0.6525 - label_output_auc: 0.5636 - return_out_metrics2: 7.8697 - val_loss: 1.4987 - val_label_output_loss: 0.6922 - val_return_out_loss: 0.8065 - val_label_output_auc: 0.5420 - val_return_out_metrics2: 4.1669\n",
      "Epoch 12/300\n",
      "378/378 [==============================] - 58s 153ms/step - loss: 1.3176 - label_output_loss: 0.6856 - return_out_loss: 0.6320 - label_output_auc: 0.5661 - return_out_metrics2: 7.4282 - val_loss: 1.4789 - val_label_output_loss: 0.6927 - val_return_out_loss: 0.7861 - val_label_output_auc: 0.5422 - val_return_out_metrics2: 4.5918\n",
      "Epoch 13/300\n",
      "378/378 [==============================] - 56s 147ms/step - loss: 1.3500 - label_output_loss: 0.6854 - return_out_loss: 0.6646 - label_output_auc: 0.5664 - return_out_metrics2: 7.7911 - val_loss: 1.4743 - val_label_output_loss: 0.6930 - val_return_out_loss: 0.7813 - val_label_output_auc: 0.5421 - val_return_out_metrics2: 4.6370\n",
      "Epoch 14/300\n",
      "378/378 [==============================] - 61s 162ms/step - loss: 1.3352 - label_output_loss: 0.6851 - return_out_loss: 0.6501 - label_output_auc: 0.5676 - return_out_metrics2: 7.9491 - val_loss: 1.4726 - val_label_output_loss: 0.6935 - val_return_out_loss: 0.7791 - val_label_output_auc: 0.5412 - val_return_out_metrics2: 3.9403\n",
      "Epoch 15/300\n",
      "378/378 [==============================] - 55s 146ms/step - loss: 1.3221 - label_output_loss: 0.6847 - return_out_loss: 0.6374 - label_output_auc: 0.5696 - return_out_metrics2: 8.8220 - val_loss: 1.4688 - val_label_output_loss: 0.6941 - val_return_out_loss: 0.7747 - val_label_output_auc: 0.5398 - val_return_out_metrics2: 4.6388\n"
     ]
    }
   ],
   "source": [
    "    #gkf = PurgedGroupTimeSeriesSplit(n_splits = FOLDS, group_gap=20)\n",
    "    #splits = list(gkf.split(y, groups=date))\n",
    "    \n",
    "    for fold, (train_indices, test_indices) in enumerate(splits):\n",
    "        if fold >= 3:\n",
    "            model = create_model(130 + 64 + 88, 5)\n",
    "            \n",
    "            X_train, X_test = X[train_indices], X[test_indices]\n",
    "            y_train, y_test = y[train_indices], y[test_indices]\n",
    "            Y_train, Y_test = Y[train_indices], Y[test_indices]\n",
    "            encoded_X_train = encoder(X_train, training = False)\n",
    "            encoded_X_test = encoder(X_test, training = False)\n",
    "            \n",
    "            mask_train, mask_test = mask2[train_indices], mask2[test_indices]\n",
    "            X_train = tf.concat([X_train, encoded_X_train, mask_train], -1)\n",
    "            X_test = tf.concat([X_test, encoded_X_test, mask_test], -1)\n",
    "            del(encoded_X_train, encoded_X_test, mask_train, mask_test)\n",
    "            _=gc.collect()\n",
    "            wr_train, wr_test = wr[train_indices], wr[test_indices]\n",
    "            \n",
    "            model.fit([X_train, wr_train], [y_train, Y_train],validation_data=([X_test, wr_test],[y_test, Y_test]),epochs=300,batch_size=4000,callbacks=[EarlyStopping('val_label_output_auc',mode='max',patience=10,restore_best_weights=True)])\n",
    "            model.save_weights(f'./model2_{fold}.hdf5')\n",
    "            del(wr_train, wr_test)\n",
    "            _=gc.collect()"
   ]
  }
 ],
 "metadata": {
  "kernelspec": {
   "display_name": "Python 3",
   "language": "python",
   "name": "python3"
  },
  "language_info": {
   "codemirror_mode": {
    "name": "ipython",
    "version": 3
   },
   "file_extension": ".py",
   "mimetype": "text/x-python",
   "name": "python",
   "nbconvert_exporter": "python",
   "pygments_lexer": "ipython3",
   "version": "3.7.9"
  },
  "papermill": {
   "default_parameters": {},
   "duration": 9776.545349,
   "end_time": "2021-02-02T13:52:26.644017",
   "environment_variables": {},
   "exception": null,
   "input_path": "__notebook__.ipynb",
   "output_path": "__notebook__.ipynb",
   "parameters": {},
   "start_time": "2021-02-02T11:09:30.098668",
   "version": "2.2.2"
  }
 },
 "nbformat": 4,
 "nbformat_minor": 4
}
