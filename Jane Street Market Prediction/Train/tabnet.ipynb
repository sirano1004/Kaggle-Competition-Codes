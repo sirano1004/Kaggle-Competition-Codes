{
 "cells": [
  {
   "cell_type": "markdown",
   "metadata": {
    "papermill": {
     "duration": 0.017822,
     "end_time": "2021-02-02T11:19:38.129833",
     "exception": false,
     "start_time": "2021-02-02T11:19:38.112011",
     "status": "completed"
    },
    "tags": []
   },
   "source": [
    "# Jane Street: Neural Network Starter\n",
    "\n",
    "I try implementing a simple Tensorflow Keras neural network here. Train in Version 17.\n",
    "\n",
    "**Caution:** The GroupCV method applied in this notebook may cause time leakage problem. Please use [Purged Time-Series CV][1] instead.\n",
    "\n",
    "[1]: https://www.kaggle.com/marketneutral/purged-time-series-cv-xgboost-optuna"
   ]
  },
  {
   "cell_type": "code",
   "execution_count": 1,
   "metadata": {
    "execution": {
     "iopub.execute_input": "2021-02-02T11:19:38.171451Z",
     "iopub.status.busy": "2021-02-02T11:19:38.170325Z",
     "iopub.status.idle": "2021-02-02T11:19:38.173331Z",
     "shell.execute_reply": "2021-02-02T11:19:38.172597Z"
    },
    "papermill": {
     "duration": 0.026209,
     "end_time": "2021-02-02T11:19:38.173519",
     "exception": false,
     "start_time": "2021-02-02T11:19:38.147310",
     "status": "completed"
    },
    "tags": []
   },
   "outputs": [],
   "source": [
    "#import sys\n",
    "#!cp ../input/rapids/rapids.0.17.0 /opt/conda/envs/rapids.tar.gz\n",
    "#!cd /opt/conda/envs/ && tar -xzvf rapids.tar.gz > /dev/null\n",
    "#sys.path = [\"/opt/conda/envs/rapids/lib/python3.7/site-packages\"] + sys.path\n",
    "#sys.path = [\"/opt/conda/envs/rapids/lib/python3.7\"] + sys.path\n",
    "#sys.path = [\"/opt/conda/envs/rapids/lib\"] + sys.path \n",
    "#!cp /opt/conda/envs/rapids/lib/libxgboost.so /opt/conda/lib/"
   ]
  },
  {
   "cell_type": "code",
   "execution_count": 2,
   "metadata": {
    "execution": {
     "iopub.execute_input": "2021-02-02T11:19:38.201976Z",
     "iopub.status.busy": "2021-02-02T11:19:38.201263Z",
     "iopub.status.idle": "2021-02-02T11:19:38.205856Z",
     "shell.execute_reply": "2021-02-02T11:19:38.205049Z"
    },
    "papermill": {
     "duration": 0.020716,
     "end_time": "2021-02-02T11:19:38.206054",
     "exception": false,
     "start_time": "2021-02-02T11:19:38.185338",
     "status": "completed"
    },
    "tags": []
   },
   "outputs": [],
   "source": [
    "TRAINING = True\n",
    "USE_FINETUNE = False"
   ]
  },
  {
   "cell_type": "code",
   "execution_count": 3,
   "metadata": {
    "_kg_hide-output": true,
    "execution": {
     "iopub.execute_input": "2021-02-02T11:19:38.254022Z",
     "iopub.status.busy": "2021-02-02T11:19:38.251231Z",
     "iopub.status.idle": "2021-02-02T11:19:48.054766Z",
     "shell.execute_reply": "2021-02-02T11:19:48.053909Z"
    },
    "papermill": {
     "duration": 9.831216,
     "end_time": "2021-02-02T11:19:48.054965",
     "exception": false,
     "start_time": "2021-02-02T11:19:38.223749",
     "status": "completed"
    },
    "tags": []
   },
   "outputs": [],
   "source": [
    "import warnings\n",
    "warnings.filterwarnings('ignore')\n",
    "\n",
    "#if TRAINING:\n",
    "#    import cudf\n",
    "#    import cupy as cp\n",
    "\n",
    "import os, gc\n",
    "import pandas as pd\n",
    "import numpy as np\n",
    "import xgboost as xgb\n",
    "from hyperopt import hp, fmin, tpe, Trials\n",
    "from hyperopt.pyll.base import scope\n",
    "\n",
    "from sklearn.metrics import roc_auc_score, roc_curve\n",
    "from sklearn.model_selection import GroupKFold\n",
    "import matplotlib.pyplot as plt\n",
    "from tqdm.notebook import tqdm, trange\n",
    "from joblib import dump, load\n",
    "\n",
    "import tensorflow as tf\n",
    "tf.random.set_seed(42)\n",
    "import tensorflow.keras.backend as K\n",
    "import tensorflow.keras.layers as layers\n",
    "from tensorflow.keras.layers import Input, Dense, BatchNormalization, Dropout, Concatenate, Lambda, GaussianNoise, Activation\n",
    "from tensorflow.keras.callbacks import Callback, ReduceLROnPlateau, ModelCheckpoint, EarlyStopping\n",
    "from tensorflow.keras.models import Model, Sequential\n",
    "from tensorflow.keras.losses import BinaryCrossentropy\n",
    "from tensorflow.keras.optimizers import Adam\n",
    "from tensorflow.keras.layers.experimental.preprocessing import Normalization\n",
    "\n",
    "\n",
    "import numpy as np\n",
    "from sklearn.model_selection import KFold\n",
    "from sklearn.model_selection._split import _BaseKFold, indexable, _num_samples\n",
    "from sklearn.utils.validation import _deprecate_positional_args\n",
    "\n",
    "\n",
    "import numpy as np\n",
    "from sklearn.model_selection import KFold\n",
    "from sklearn.model_selection._split import _BaseKFold, indexable, _num_samples\n",
    "from sklearn.utils.validation import _deprecate_positional_args\n",
    "import kerastuner as kt"
   ]
  },
  {
   "cell_type": "markdown",
   "metadata": {
    "papermill": {
     "duration": 0.016972,
     "end_time": "2021-02-02T11:19:48.089662",
     "exception": false,
     "start_time": "2021-02-02T11:19:48.072690",
     "status": "completed"
    },
    "tags": []
   },
   "source": [
    "# Preprocessing"
   ]
  },
  {
   "cell_type": "code",
   "execution_count": 4,
   "metadata": {
    "execution": {
     "iopub.execute_input": "2021-02-02T11:19:48.132401Z",
     "iopub.status.busy": "2021-02-02T11:19:48.130843Z",
     "iopub.status.idle": "2021-02-02T11:19:48.136997Z",
     "shell.execute_reply": "2021-02-02T11:19:48.136411Z"
    },
    "papermill": {
     "duration": 0.029991,
     "end_time": "2021-02-02T11:19:48.137144",
     "exception": false,
     "start_time": "2021-02-02T11:19:48.107153",
     "status": "completed"
    },
    "tags": []
   },
   "outputs": [],
   "source": [
    "TARGET = 'action'\n",
    "FEATS = ['feature_{}'.format(int(i)) for i in range(130)]\n",
    "#FIX_FEAT = ['feature_53', 'feature_45', 'feature_69', 'feature_101', 'feature_84', 'feature_121', 'feature_48', 'feature_89', 'feature_93', 'feature_106', 'feature_108', 'feature_99', 'feature_100', 'feature_87', 'feature_120', 'feature_98', 'feature_46', 'feature_128', 'feature_50', 'feature_116', 'feature_71', 'feature_111', 'feature_55', 'feature_49', 'feature_56', 'feature_1', 'feature_51', 'feature_57', 'feature_107', 'feature_41', 'feature_109', 'feature_113', 'feature_123', 'feature_103', 'feature_90', 'feature_91', 'feature_114', 'feature_42', 'feature_54', 'feature_47', 'feature_95', 'feature_96']\n",
    "\n",
    "#FIX_FEAT = ['feature_1','feature_2','feature_41','feature_42','feature_44','feature_45','feature_46','feature_47','feature_48','feature_49','feature_50','feature_51','feature_53','feature_54','feature_55','feature_56','feature_57','feature_58','feature_59','feature_69','feature_70','feature_71','feature_84','feature_85','feature_86','feature_87','feature_88','feature_89','feature_90','feature_91','feature_92','feature_93','feature_94','feature_95','feature_96','feature_97','feature_98','feature_99','feature_100','feature_101','feature_102','feature_103','feature_104','feature_105','feature_106','feature_107','feature_108','feature_109','feature_110','feature_111','feature_112','feature_113','feature_114','feature_115','feature_116','feature_117','feature_118','feature_119','feature_120','feature_121','feature_122','feature_123','feature_124','feature_125','feature_126','feature_127','feature_128','feature_129']"
   ]
  },
  {
   "cell_type": "code",
   "execution_count": 5,
   "metadata": {
    "_kg_hide-output": false,
    "execution": {
     "iopub.execute_input": "2021-02-02T11:19:48.190727Z",
     "iopub.status.busy": "2021-02-02T11:19:48.188186Z",
     "iopub.status.idle": "2021-02-02T11:22:41.403406Z",
     "shell.execute_reply": "2021-02-02T11:22:41.402622Z"
    },
    "papermill": {
     "duration": 173.24569,
     "end_time": "2021-02-02T11:22:41.403546",
     "exception": false,
     "start_time": "2021-02-02T11:19:48.157856",
     "status": "completed"
    },
    "tags": []
   },
   "outputs": [
    {
     "name": "stdout",
     "output_type": "stream",
     "text": [
      "Loading...\n",
      "Filling...\n",
      "Finish.\n"
     ]
    }
   ],
   "source": [
    "if TRAINING:\n",
    "    print('Loading...')\n",
    "    train = pd.read_csv('/kaggle/input/jane-street-market-prediction/train.csv')\n",
    "    TARGET = 'action'\n",
    "    FEATS = ['feature_{}'.format(int(i)) for i in range(130)]\n",
    "\n",
    "    print('Filling...')\n",
    "    train = train.query('weight > 0').reset_index(drop = True)\n",
    "    resp_cols = ['resp_1', 'resp_2', 'resp_3', 'resp', 'resp_4']\n",
    "    y = np.stack([(train[c] > 0.00000).astype('int') for c in resp_cols]).T #Multitarget\n",
    "\n",
    "    X = train[FEATS].to_numpy()\n",
    "    wr = train.weight*train['resp'].to_numpy()\n",
    "    Y = wr*y[:,3]\n",
    "    X = train[FEATS].to_numpy()\n",
    "    print('Finish.')"
   ]
  },
  {
   "cell_type": "code",
   "execution_count": 6,
   "metadata": {
    "execution": {
     "iopub.execute_input": "2021-02-02T11:22:41.748150Z",
     "iopub.status.busy": "2021-02-02T11:22:41.747460Z",
     "iopub.status.idle": "2021-02-02T11:22:46.739215Z",
     "shell.execute_reply": "2021-02-02T11:22:46.738483Z"
    },
    "papermill": {
     "duration": 5.323042,
     "end_time": "2021-02-02T11:22:46.739361",
     "exception": false,
     "start_time": "2021-02-02T11:22:41.416319",
     "status": "completed"
    },
    "tags": []
   },
   "outputs": [],
   "source": [
    "if TRAINING:\n",
    "    nan_feat = (train[FEATS].isnull().sum()>0)\n",
    "    NAN_FEAT = nan_feat[nan_feat == True].index\n",
    "    nan_feat_bool = nan_feat.values\n",
    "    with open('../input/js-cv-split2/f_mean.npy', 'rb') as f:\n",
    "        f_mean = np.load(f)\n",
    "    \n",
    "    mask2 = np.isnan(X[:,nan_feat_bool]).astype(int)\n",
    "    X = np.nan_to_num(X) + np.isnan(X).astype(int) * f_mean\n",
    "    del(train)\n",
    "    _= gc.collect()\n",
    "    pd.to_pickle(nan_feat_bool, 'nfb.pkl')"
   ]
  },
  {
   "cell_type": "markdown",
   "metadata": {
    "papermill": {
     "duration": 0.012609,
     "end_time": "2021-02-02T11:22:46.766721",
     "exception": false,
     "start_time": "2021-02-02T11:22:46.754112",
     "status": "completed"
    },
    "tags": []
   },
   "source": [
    "# Training"
   ]
  },
  {
   "cell_type": "code",
   "execution_count": 7,
   "metadata": {
    "execution": {
     "iopub.execute_input": "2021-02-02T11:22:46.808028Z",
     "iopub.status.busy": "2021-02-02T11:22:46.806067Z",
     "iopub.status.idle": "2021-02-02T11:22:46.811015Z",
     "shell.execute_reply": "2021-02-02T11:22:46.811941Z"
    },
    "papermill": {
     "duration": 0.032258,
     "end_time": "2021-02-02T11:22:46.812158",
     "exception": false,
     "start_time": "2021-02-02T11:22:46.779900",
     "status": "completed"
    },
    "tags": []
   },
   "outputs": [],
   "source": [
    "import tensorflow as tf\n",
    "from tensorflow.keras import optimizers\n",
    "from tensorflow.keras.models import Sequential, Model\n",
    "from tensorflow.keras.layers import Activation, Dense, Dropout, LSTM, Masking, Embedding, Concatenate, Input, Reshape,Flatten, AveragePooling1D\n",
    "from tensorflow.keras.layers import concatenate\n",
    "from tensorflow.keras.regularizers import l1, l2, l1_l2\n",
    "from tensorflow.keras.metrics import AUC\n",
    "from tensorflow.keras import backend as K\n",
    "from tensorflow.keras.layers import Lambda\n",
    "#from tensorflow.keras.layers import merge\n",
    "from tensorflow.keras.layers import multiply, Reshape\n",
    "import pandas as pd\n",
    "import numpy as np\n",
    "import gc\n",
    "from sklearn.metrics import roc_auc_score\n",
    "from collections import defaultdict\n",
    "from tqdm import tqdm\n",
    "from tqdm import trange\n",
    "from tensorflow.keras.utils import Sequence\n",
    "from tensorflow.keras.preprocessing.sequence import pad_sequences"
   ]
  },
  {
   "cell_type": "code",
   "execution_count": 8,
   "metadata": {
    "execution": {
     "iopub.execute_input": "2021-02-02T11:22:46.846275Z",
     "iopub.status.busy": "2021-02-02T11:22:46.845418Z",
     "iopub.status.idle": "2021-02-02T11:22:46.854722Z",
     "shell.execute_reply": "2021-02-02T11:22:46.855275Z"
    },
    "papermill": {
     "duration": 0.0292,
     "end_time": "2021-02-02T11:22:46.855474",
     "exception": false,
     "start_time": "2021-02-02T11:22:46.826274",
     "status": "completed"
    },
    "tags": []
   },
   "outputs": [],
   "source": [
    "def create_autoencoder(input_dim,output_dim,noise=0.1):\n",
    "    i = Input(130)\n",
    "    mask = Input(130)\n",
    "    encoded = BatchNormalization()(i)\n",
    "    encoded = GaussianNoise(noise)(encoded)\n",
    "    \n",
    "    encoded = Dense(96, activation = 'elu')(encoded)\n",
    "    encoded = Dense(64,activation='linear')(encoded)\n",
    "    encoder = Model(inputs=i,outputs=encoded)\n",
    "    \n",
    "    return encoder"
   ]
  },
  {
   "cell_type": "code",
   "execution_count": 9,
   "metadata": {
    "execution": {
     "iopub.execute_input": "2021-02-02T11:22:46.888218Z",
     "iopub.status.busy": "2021-02-02T11:22:46.887402Z",
     "iopub.status.idle": "2021-02-02T11:22:47.138309Z",
     "shell.execute_reply": "2021-02-02T11:22:47.137388Z"
    },
    "papermill": {
     "duration": 0.267744,
     "end_time": "2021-02-02T11:22:47.138450",
     "exception": false,
     "start_time": "2021-02-02T11:22:46.870706",
     "status": "completed"
    },
    "tags": []
   },
   "outputs": [],
   "source": [
    "encoder = create_autoencoder(130, 5, noise=0.1)\n",
    "encoder.load_weights('../input/js-cv-split2/encoder.hdf5')\n",
    "encoder.trainable = False"
   ]
  },
  {
   "cell_type": "code",
   "execution_count": 10,
   "metadata": {
    "execution": {
     "iopub.execute_input": "2021-02-02T11:22:47.173413Z",
     "iopub.status.busy": "2021-02-02T11:22:47.172320Z",
     "iopub.status.idle": "2021-02-02T11:22:47.177432Z",
     "shell.execute_reply": "2021-02-02T11:22:47.176577Z"
    },
    "papermill": {
     "duration": 0.025403,
     "end_time": "2021-02-02T11:22:47.177602",
     "exception": false,
     "start_time": "2021-02-02T11:22:47.152199",
     "status": "completed"
    },
    "tags": []
   },
   "outputs": [],
   "source": [
    "if False:\n",
    "    # detect and init the TPU\n",
    "    tpu = tf.distribute.cluster_resolver.TPUClusterResolver()\n",
    "    tf.config.experimental_connect_to_cluster(tpu)\n",
    "    tf.tpu.experimental.initialize_tpu_system(tpu)\n",
    "\n",
    "    # instantiate a distribution strategy\n",
    "    tpu_strategy = tf.distribute.experimental.TPUStrategy(tpu)"
   ]
  },
  {
   "cell_type": "code",
   "execution_count": 11,
   "metadata": {
    "execution": {
     "iopub.execute_input": "2021-02-02T11:22:47.226201Z",
     "iopub.status.busy": "2021-02-02T11:22:47.225567Z",
     "iopub.status.idle": "2021-02-02T11:22:47.230398Z",
     "shell.execute_reply": "2021-02-02T11:22:47.229801Z"
    },
    "papermill": {
     "duration": 0.032375,
     "end_time": "2021-02-02T11:22:47.230546",
     "exception": false,
     "start_time": "2021-02-02T11:22:47.198171",
     "status": "completed"
    },
    "tags": []
   },
   "outputs": [],
   "source": [
    "def custom_loss(y_true, y_pred):\n",
    "    return 100 * tf.keras.losses.MSE(y_true,y_pred)\n",
    "\n",
    "def metrics2(y_true, y_pred):\n",
    "    return K.sum(y_pred)\n",
    "\n",
    "def metrics(y_true, y_pred):\n",
    "    Pi = np.bincount(y_true, y_pred)\n",
    "    t = np.sum(Pi) / np.sqrt(np.sum(Pi ** 2)) * np.sqrt(250 / len(Pi))\n",
    "    u = min(max(t, 0), 6) * np.sum(Pi)\n",
    "    print('\\n', round(u,5))\n",
    "    return u"
   ]
  },
  {
   "cell_type": "code",
   "execution_count": 12,
   "metadata": {
    "execution": {
     "iopub.execute_input": "2021-02-02T11:22:47.269729Z",
     "iopub.status.busy": "2021-02-02T11:22:47.268835Z",
     "iopub.status.idle": "2021-02-02T11:22:47.509196Z",
     "shell.execute_reply": "2021-02-02T11:22:47.509669Z"
    },
    "papermill": {
     "duration": 0.265638,
     "end_time": "2021-02-02T11:22:47.509890",
     "exception": false,
     "start_time": "2021-02-02T11:22:47.244252",
     "status": "completed"
    },
    "tags": []
   },
   "outputs": [],
   "source": [
    "import tensorflow as tf\n",
    "from tensorflow.keras.layers import Dense, BatchNormalization, Input, Multiply, Add, Concatenate\n",
    "from tensorflow.keras.activations import sigmoid, relu\n",
    "import tensorflow.keras.backend as K\n",
    "from tensorflow.keras.models import Model\n",
    "from tensorflow.keras.metrics import AUC\n",
    "from tensorflow.keras.losses import binary_crossentropy\n",
    "import tensorflow_addons as tfa\n",
    "from tensorflow.keras.optimizers import Adam, SGD\n",
    "from tensorflow.keras.optimizers.schedules import ExponentialDecay\n",
    "from tensorflow.keras.activations import softmax\n",
    "\n",
    "\n",
    "def build_tabnet_model(input_dim, transform_dim, N_a, N_d, num_decision_step, gamma, output_dim, B_v, m_d, Lambda, multiplier):\n",
    "    # Initialization\n",
    "    inputs = Input(input_dim)\n",
    "    #x2 = encoder(x1)\n",
    "    #x = Concatenate()([x1, x2])\n",
    "    #P = tf.ones([tf.shape(x)[0], tf.shape(x)[1]]) #\n",
    "    #d_out = tf.zeros([tf.shape(x)[0], N_d])\n",
    "    entropy = 0\n",
    "    # pre-encoding\n",
    "    \n",
    "    x = BatchNormalization(virtual_batch_size=B_v, momentum = m_d)(inputs)\n",
    "    feat_trans1 = Dense(transform_dim * 2, use_bias= False)(x)\n",
    "    feat_trans1 = Dropout(0.1)(feat_trans1)\n",
    "    feat_trans1 = BatchNormalization(virtual_batch_size=B_v, momentum = m_d)(feat_trans1)\n",
    "    feat_trans1 = Multiply()([feat_trans1[:,:transform_dim], sigmoid(feat_trans1[:,transform_dim:])])\n",
    "    \n",
    "    feat_trans2 = Dense(transform_dim * 2, use_bias = False)(feat_trans1)\n",
    "    feat_trans2 = Dropout(0.1)(feat_trans2)\n",
    "    feat_trans2 = BatchNormalization(virtual_batch_size=B_v, momentum = m_d)(feat_trans2)\n",
    "    feat_trans2 = Multiply()([feat_trans2[:,:transform_dim], sigmoid(feat_trans2[:,transform_dim:])])\n",
    "    feat_trans2 = Add()([feat_trans2, feat_trans1])\n",
    "    feat_trans2 *= tf.math.sqrt(0.5)\n",
    "    \n",
    "    feat_trans3 = Dense(transform_dim * 2, use_bias = False)(feat_trans2)\n",
    "    feat_trans3 = Dropout(0.1)(feat_trans3)\n",
    "    feat_trans3 = BatchNormalization(virtual_batch_size=B_v, momentum = m_d)(feat_trans3)\n",
    "    feat_trans3 = Multiply()([feat_trans3[:,:transform_dim], sigmoid(feat_trans3[:,transform_dim:])])\n",
    "    feat_trans3 = Add()([feat_trans3, feat_trans2])\n",
    "    feat_trans3 *= tf.math.sqrt(0.5)\n",
    "    \n",
    "    feat_trans4 = Dense(transform_dim * 2, use_bias = False)(feat_trans3)\n",
    "    feat_trans4 = Dropout(0.1)(feat_trans4)\n",
    "    feat_trans4 = BatchNormalization(virtual_batch_size=B_v, momentum = m_d)(feat_trans4)\n",
    "    feat_trans4 = Multiply()([feat_trans4[:,:transform_dim], sigmoid(feat_trans4[:,transform_dim:])])\n",
    "    feat_trans4 = Add()([feat_trans4, feat_trans3])\n",
    "    feat_trans4 *= tf.math.sqrt(0.5)\n",
    "    \n",
    "    for step in range(num_decision_step):\n",
    "        #Attentive transform\n",
    "        \n",
    "        mask_value = Dense(input_dim, use_bias= False)(feat_trans4[:,-N_a:])\n",
    "        mask_value = BatchNormalization(virtual_batch_size=B_v, momentum = m_d)(mask_value)\n",
    "        if step == 0:\n",
    "            mask_value = softmax(multiplier * mask_value)\n",
    "            P = (gamma - mask_value)\n",
    "        else:\n",
    "            mask_value *= P\n",
    "            mask_value = softmax(multiplier * mask_value)\n",
    "            P *= (gamma - mask_value)\n",
    "\n",
    "        masked_feature = Multiply()([mask_value, inputs])\n",
    "        \n",
    "        \n",
    "        # Entropy is used to penalize the amount of sparsity in feature\n",
    "        # selection.\n",
    "        entropy += tf.reduce_mean(tf.reduce_sum(-mask_value * tf.math.log(mask_value + 0.01), axis=1)) / (num_decision_step)\n",
    "        \n",
    "        \n",
    "        # feature_transform\n",
    "        feat_trans1 = Dense(transform_dim * 2, use_bias= False)(masked_feature)\n",
    "        feat_trans1 = Dropout(0.1)(feat_trans1)\n",
    "        feat_trans1 = BatchNormalization(virtual_batch_size=B_v, momentum = m_d)(feat_trans1)\n",
    "        feat_trans1 = Multiply()([feat_trans1[:,:transform_dim], sigmoid(feat_trans1[:,transform_dim:])])\n",
    "    \n",
    "        feat_trans2 = Dense(transform_dim * 2, use_bias = False)(feat_trans1)\n",
    "        feat_trans2 = Dropout(0.1)(feat_trans2)\n",
    "        feat_trans2 = BatchNormalization(virtual_batch_size=B_v, momentum = m_d)(feat_trans2)\n",
    "        feat_trans2 = Multiply()([feat_trans2[:,:transform_dim], sigmoid(feat_trans2[:,transform_dim:])])\n",
    "        feat_trans2 = Add()([feat_trans2, feat_trans1])\n",
    "        feat_trans2 *= tf.math.sqrt(0.5)\n",
    "    \n",
    "        feat_trans3 = Dense(transform_dim * 2, use_bias = False)(feat_trans2)\n",
    "        feat_trans3 = Dropout(0.1)(feat_trans3)\n",
    "        feat_trans3 = BatchNormalization(virtual_batch_size=B_v, momentum = m_d)(feat_trans3)\n",
    "        feat_trans3 = Multiply()([feat_trans3[:,:transform_dim], sigmoid(feat_trans3[:,transform_dim:])])\n",
    "        feat_trans3 = Add()([feat_trans3, feat_trans2])\n",
    "        feat_trans3 *= tf.math.sqrt(0.5)\n",
    "        \n",
    "        feat_trans4 = Dense(transform_dim * 2, use_bias = False)(feat_trans3)\n",
    "        feat_trans4 = Dropout(0.1)(feat_trans4)\n",
    "        feat_trans4 = BatchNormalization(virtual_batch_size=B_v, momentum = m_d)(feat_trans4)\n",
    "        feat_trans4 = Multiply()([feat_trans4[:,:transform_dim], sigmoid(feat_trans4[:,transform_dim:])])\n",
    "        feat_trans4 = Add()([feat_trans4, feat_trans3])\n",
    "        feat_trans4 *= tf.math.sqrt(0.5)\n",
    "        \n",
    "        # ouput\n",
    "        if step == 0:\n",
    "            d_out = relu(feat_trans4[:,:N_d])\n",
    "        else:\n",
    "            d_out += relu(feat_trans4[:,:N_d])\n",
    "        \n",
    "    y1 = Dense(output_dim, activation = 'sigmoid', name = 'label_out')(d_out)\n",
    "    \n",
    "    y2 = tf.math.reduce_mean(y1, axis = -1)\n",
    "    y2 = tf.where(y2 > 0.5, 1, 0)\n",
    "    y2 = tf.cast(y2, tf.float32)\n",
    "    wr = Input(1)\n",
    "    y2 = Multiply(name = 'return_out')([y2,wr])\n",
    "    \n",
    "    lr_schedule = ExponentialDecay(0.01, decay_steps=2000,decay_rate=0.95,staircase=False)\n",
    "    model = Model(inputs = [inputs,wr], outputs = [y1,y2])\n",
    "    model.add_loss(Lambda * entropy)\n",
    "    model.compile(optimizer = Adam(learning_rate = lr_schedule), loss = {'label_out':'binary_crossentropy', 'return_out': custom_loss}, metrics = {'label_out':AUC(name = 'auc'), 'return_out': metrics2})\n",
    "    return model"
   ]
  },
  {
   "cell_type": "code",
   "execution_count": 13,
   "metadata": {
    "execution": {
     "iopub.execute_input": "2021-02-02T11:22:47.545170Z",
     "iopub.status.busy": "2021-02-02T11:22:47.544280Z",
     "iopub.status.idle": "2021-02-02T11:22:47.549862Z",
     "shell.execute_reply": "2021-02-02T11:22:47.549096Z"
    },
    "papermill": {
     "duration": 0.024806,
     "end_time": "2021-02-02T11:22:47.550051",
     "exception": false,
     "start_time": "2021-02-02T11:22:47.525245",
     "status": "completed"
    },
    "tags": []
   },
   "outputs": [],
   "source": [
    "#with tpu_strategy.scope():\n",
    "#    model = build_tabnet_model(130, 78, 16, 8, 8, 3, 1.2, 5, None, 0.9, 0.0001, encoder)\n",
    "#    model.compile(optimizer = 'adam', loss = 'binary_crossentropy', metrics = AUC(name = 'auc'))"
   ]
  },
  {
   "cell_type": "code",
   "execution_count": 14,
   "metadata": {
    "execution": {
     "iopub.execute_input": "2021-02-02T11:22:47.597852Z",
     "iopub.status.busy": "2021-02-02T11:22:47.596942Z",
     "iopub.status.idle": "2021-02-02T13:54:32.966898Z",
     "shell.execute_reply": "2021-02-02T13:54:32.968120Z"
    },
    "papermill": {
     "duration": 9105.396353,
     "end_time": "2021-02-02T13:54:32.968426",
     "exception": false,
     "start_time": "2021-02-02T11:22:47.572073",
     "status": "completed"
    },
    "tags": []
   },
   "outputs": [
    {
     "name": "stdout",
     "output_type": "stream",
     "text": [
      "Epoch 1/300\n",
      "378/378 [==============================] - 121s 300ms/step - loss: 1.4181 - label_out_loss: 0.6986 - return_out_loss: 0.7195 - label_out_auc: 0.5194 - return_out_metrics2: -0.0890 - val_loss: 1.4594 - val_label_out_loss: 0.6907 - val_return_out_loss: 0.7687 - val_label_out_auc: 0.5402 - val_return_out_metrics2: 5.1773\n",
      "Epoch 2/300\n",
      "378/378 [==============================] - 113s 299ms/step - loss: 1.4243 - label_out_loss: 0.6901 - return_out_loss: 0.7342 - label_out_auc: 0.5398 - return_out_metrics2: 2.9563 - val_loss: 1.4810 - val_label_out_loss: 0.6897 - val_return_out_loss: 0.7914 - val_label_out_auc: 0.5428 - val_return_out_metrics2: 5.5909\n",
      "Epoch 3/300\n",
      "378/378 [==============================] - 110s 291ms/step - loss: 1.4127 - label_out_loss: 0.6893 - return_out_loss: 0.7234 - label_out_auc: 0.5449 - return_out_metrics2: 3.6504 - val_loss: 1.4637 - val_label_out_loss: 0.6891 - val_return_out_loss: 0.7746 - val_label_out_auc: 0.5440 - val_return_out_metrics2: 5.3107\n",
      "Epoch 4/300\n",
      "378/378 [==============================] - 111s 295ms/step - loss: 1.4051 - label_out_loss: 0.6889 - return_out_loss: 0.7162 - label_out_auc: 0.5473 - return_out_metrics2: 4.4775 - val_loss: 1.4921 - val_label_out_loss: 0.6889 - val_return_out_loss: 0.8032 - val_label_out_auc: 0.5458 - val_return_out_metrics2: 5.0774\n",
      "Epoch 5/300\n",
      "378/378 [==============================] - 112s 298ms/step - loss: 1.3901 - label_out_loss: 0.6884 - return_out_loss: 0.7017 - label_out_auc: 0.5495 - return_out_metrics2: 4.4509 - val_loss: 1.4769 - val_label_out_loss: 0.6893 - val_return_out_loss: 0.7876 - val_label_out_auc: 0.5445 - val_return_out_metrics2: 5.1534\n",
      "Epoch 6/300\n",
      "378/378 [==============================] - 113s 300ms/step - loss: 1.3728 - label_out_loss: 0.6878 - return_out_loss: 0.6849 - label_out_auc: 0.5518 - return_out_metrics2: 5.2446 - val_loss: 1.4587 - val_label_out_loss: 0.6904 - val_return_out_loss: 0.7683 - val_label_out_auc: 0.5446 - val_return_out_metrics2: 5.7937\n",
      "Epoch 7/300\n",
      "378/378 [==============================] - 112s 296ms/step - loss: 1.4057 - label_out_loss: 0.6872 - return_out_loss: 0.7185 - label_out_auc: 0.5547 - return_out_metrics2: 5.7737 - val_loss: 1.4828 - val_label_out_loss: 0.6895 - val_return_out_loss: 0.7933 - val_label_out_auc: 0.5439 - val_return_out_metrics2: 4.8461\n",
      "Epoch 8/300\n",
      "378/378 [==============================] - 113s 299ms/step - loss: 1.3897 - label_out_loss: 0.6869 - return_out_loss: 0.7028 - label_out_auc: 0.5554 - return_out_metrics2: 5.9469 - val_loss: 1.4930 - val_label_out_loss: 0.6925 - val_return_out_loss: 0.8006 - val_label_out_auc: 0.5432 - val_return_out_metrics2: 4.4118\n",
      "Epoch 9/300\n",
      "378/378 [==============================] - 111s 293ms/step - loss: 1.3814 - label_out_loss: 0.6865 - return_out_loss: 0.6949 - label_out_auc: 0.5566 - return_out_metrics2: 5.9006 - val_loss: 1.4726 - val_label_out_loss: 0.6901 - val_return_out_loss: 0.7825 - val_label_out_auc: 0.5441 - val_return_out_metrics2: 4.9764\n",
      "Epoch 10/300\n",
      "378/378 [==============================] - 110s 291ms/step - loss: 1.3631 - label_out_loss: 0.6862 - return_out_loss: 0.6769 - label_out_auc: 0.5576 - return_out_metrics2: 6.4758 - val_loss: 1.5508 - val_label_out_loss: 0.6920 - val_return_out_loss: 0.8588 - val_label_out_auc: 0.5433 - val_return_out_metrics2: 3.8842\n",
      "Epoch 11/300\n",
      "378/378 [==============================] - 112s 295ms/step - loss: 1.3866 - label_out_loss: 0.6858 - return_out_loss: 0.7008 - label_out_auc: 0.5584 - return_out_metrics2: 6.5805 - val_loss: 1.5087 - val_label_out_loss: 0.6913 - val_return_out_loss: 0.8174 - val_label_out_auc: 0.5428 - val_return_out_metrics2: 3.9865\n",
      "Epoch 12/300\n",
      "378/378 [==============================] - 112s 297ms/step - loss: 1.3407 - label_out_loss: 0.6855 - return_out_loss: 0.6552 - label_out_auc: 0.5598 - return_out_metrics2: 7.2962 - val_loss: 1.4930 - val_label_out_loss: 0.6932 - val_return_out_loss: 0.7998 - val_label_out_auc: 0.5430 - val_return_out_metrics2: 4.4745\n",
      "Epoch 13/300\n",
      "378/378 [==============================] - 112s 295ms/step - loss: 1.3389 - label_out_loss: 0.6849 - return_out_loss: 0.6540 - label_out_auc: 0.5611 - return_out_metrics2: 7.1030 - val_loss: 1.4926 - val_label_out_loss: 0.6949 - val_return_out_loss: 0.7977 - val_label_out_auc: 0.5407 - val_return_out_metrics2: 4.1926\n",
      "Epoch 14/300\n",
      "378/378 [==============================] - 111s 295ms/step - loss: 1.3516 - label_out_loss: 0.6847 - return_out_loss: 0.6669 - label_out_auc: 0.5621 - return_out_metrics2: 6.7922 - val_loss: 1.4848 - val_label_out_loss: 0.6919 - val_return_out_loss: 0.7929 - val_label_out_auc: 0.5416 - val_return_out_metrics2: 4.6104\n",
      "Epoch 1/300\n",
      "378/378 [==============================] - 120s 299ms/step - loss: 1.4361 - label_out_loss: 0.7001 - return_out_loss: 0.7360 - label_out_auc: 0.5174 - return_out_metrics2: -0.4434 - val_loss: 1.4963 - val_label_out_loss: 0.6898 - val_return_out_loss: 0.8066 - val_label_out_auc: 0.5397 - val_return_out_metrics2: 4.6727\n",
      "Epoch 2/300\n",
      "378/378 [==============================] - 111s 295ms/step - loss: 1.4173 - label_out_loss: 0.6903 - return_out_loss: 0.7270 - label_out_auc: 0.5386 - return_out_metrics2: 2.7982 - val_loss: 1.4305 - val_label_out_loss: 0.6898 - val_return_out_loss: 0.7407 - val_label_out_auc: 0.5423 - val_return_out_metrics2: 5.2131\n",
      "Epoch 3/300\n",
      "378/378 [==============================] - 112s 296ms/step - loss: 1.4169 - label_out_loss: 0.6896 - return_out_loss: 0.7273 - label_out_auc: 0.5432 - return_out_metrics2: 3.4024 - val_loss: 1.4344 - val_label_out_loss: 0.6890 - val_return_out_loss: 0.7454 - val_label_out_auc: 0.5455 - val_return_out_metrics2: 5.8456\n",
      "Epoch 4/300\n",
      "378/378 [==============================] - 110s 290ms/step - loss: 1.4034 - label_out_loss: 0.6891 - return_out_loss: 0.7143 - label_out_auc: 0.5455 - return_out_metrics2: 4.0644 - val_loss: 1.4547 - val_label_out_loss: 0.6890 - val_return_out_loss: 0.7658 - val_label_out_auc: 0.5469 - val_return_out_metrics2: 5.7854\n",
      "Epoch 5/300\n",
      "378/378 [==============================] - 111s 294ms/step - loss: 1.3703 - label_out_loss: 0.6886 - return_out_loss: 0.6817 - label_out_auc: 0.5484 - return_out_metrics2: 4.7296 - val_loss: 1.4651 - val_label_out_loss: 0.6894 - val_return_out_loss: 0.7757 - val_label_out_auc: 0.5449 - val_return_out_metrics2: 5.5486\n",
      "Epoch 6/300\n",
      "378/378 [==============================] - 112s 296ms/step - loss: 1.3896 - label_out_loss: 0.6882 - return_out_loss: 0.7014 - label_out_auc: 0.5500 - return_out_metrics2: 5.0084 - val_loss: 1.4795 - val_label_out_loss: 0.6899 - val_return_out_loss: 0.7896 - val_label_out_auc: 0.5443 - val_return_out_metrics2: 4.8941\n",
      "Epoch 7/300\n",
      "378/378 [==============================] - 111s 293ms/step - loss: 1.4151 - label_out_loss: 0.6878 - return_out_loss: 0.7274 - label_out_auc: 0.5520 - return_out_metrics2: 5.4316 - val_loss: 1.4769 - val_label_out_loss: 0.6892 - val_return_out_loss: 0.7878 - val_label_out_auc: 0.5450 - val_return_out_metrics2: 4.7942\n",
      "Epoch 8/300\n",
      "378/378 [==============================] - 111s 294ms/step - loss: 1.3779 - label_out_loss: 0.6875 - return_out_loss: 0.6904 - label_out_auc: 0.5530 - return_out_metrics2: 5.5085 - val_loss: 1.5294 - val_label_out_loss: 0.6898 - val_return_out_loss: 0.8396 - val_label_out_auc: 0.5430 - val_return_out_metrics2: 3.9425\n",
      "Epoch 9/300\n",
      "378/378 [==============================] - 111s 294ms/step - loss: 1.3578 - label_out_loss: 0.6873 - return_out_loss: 0.6705 - label_out_auc: 0.5537 - return_out_metrics2: 5.7137 - val_loss: 1.4588 - val_label_out_loss: 0.6901 - val_return_out_loss: 0.7687 - val_label_out_auc: 0.5433 - val_return_out_metrics2: 4.6514\n",
      "Epoch 10/300\n",
      "378/378 [==============================] - 110s 291ms/step - loss: 1.3855 - label_out_loss: 0.6872 - return_out_loss: 0.6984 - label_out_auc: 0.5544 - return_out_metrics2: 5.7937 - val_loss: 1.5264 - val_label_out_loss: 0.6900 - val_return_out_loss: 0.8364 - val_label_out_auc: 0.5445 - val_return_out_metrics2: 4.2639\n",
      "Epoch 11/300\n",
      "378/378 [==============================] - 112s 296ms/step - loss: 1.3500 - label_out_loss: 0.6867 - return_out_loss: 0.6633 - label_out_auc: 0.5563 - return_out_metrics2: 6.3690 - val_loss: 1.4767 - val_label_out_loss: 0.6906 - val_return_out_loss: 0.7861 - val_label_out_auc: 0.5438 - val_return_out_metrics2: 4.6846\n",
      "Epoch 12/300\n",
      "378/378 [==============================] - 111s 293ms/step - loss: 1.3528 - label_out_loss: 0.6865 - return_out_loss: 0.6662 - label_out_auc: 0.5564 - return_out_metrics2: 6.8092 - val_loss: 1.4821 - val_label_out_loss: 0.6917 - val_return_out_loss: 0.7904 - val_label_out_auc: 0.5444 - val_return_out_metrics2: 4.6251\n",
      "Epoch 13/300\n",
      "378/378 [==============================] - 111s 292ms/step - loss: 1.3350 - label_out_loss: 0.6860 - return_out_loss: 0.6491 - label_out_auc: 0.5583 - return_out_metrics2: 6.6178 - val_loss: 1.5149 - val_label_out_loss: 0.6919 - val_return_out_loss: 0.8230 - val_label_out_auc: 0.5420 - val_return_out_metrics2: 3.3874\n",
      "Epoch 14/300\n",
      "378/378 [==============================] - 111s 293ms/step - loss: 1.3275 - label_out_loss: 0.6857 - return_out_loss: 0.6418 - label_out_auc: 0.5588 - return_out_metrics2: 6.4384 - val_loss: 1.5025 - val_label_out_loss: 0.6930 - val_return_out_loss: 0.8096 - val_label_out_auc: 0.5434 - val_return_out_metrics2: 4.2482\n",
      "Epoch 1/300\n",
      "378/378 [==============================] - 121s 301ms/step - loss: 1.3960 - label_out_loss: 0.6991 - return_out_loss: 0.6969 - label_out_auc: 0.5193 - return_out_metrics2: 1.0434 - val_loss: 1.4355 - val_label_out_loss: 0.6901 - val_return_out_loss: 0.7453 - val_label_out_auc: 0.5397 - val_return_out_metrics2: 4.6627\n",
      "Epoch 2/300\n",
      "378/378 [==============================] - 111s 293ms/step - loss: 1.4182 - label_out_loss: 0.6905 - return_out_loss: 0.7277 - label_out_auc: 0.5371 - return_out_metrics2: 2.3973 - val_loss: 1.4646 - val_label_out_loss: 0.6895 - val_return_out_loss: 0.7750 - val_label_out_auc: 0.5431 - val_return_out_metrics2: 5.9761\n",
      "Epoch 3/300\n",
      "378/378 [==============================] - 111s 295ms/step - loss: 1.3935 - label_out_loss: 0.6897 - return_out_loss: 0.7038 - label_out_auc: 0.5425 - return_out_metrics2: 3.7751 - val_loss: 1.4539 - val_label_out_loss: 0.6893 - val_return_out_loss: 0.7647 - val_label_out_auc: 0.5423 - val_return_out_metrics2: 5.9798\n",
      "Epoch 4/300\n",
      "378/378 [==============================] - 111s 294ms/step - loss: 1.3893 - label_out_loss: 0.6890 - return_out_loss: 0.7003 - label_out_auc: 0.5458 - return_out_metrics2: 3.9375 - val_loss: 1.4455 - val_label_out_loss: 0.6898 - val_return_out_loss: 0.7558 - val_label_out_auc: 0.5431 - val_return_out_metrics2: 4.8546\n",
      "Epoch 5/300\n",
      "378/378 [==============================] - 112s 296ms/step - loss: 1.3726 - label_out_loss: 0.6886 - return_out_loss: 0.6840 - label_out_auc: 0.5479 - return_out_metrics2: 4.4136 - val_loss: 1.4517 - val_label_out_loss: 0.6907 - val_return_out_loss: 0.7610 - val_label_out_auc: 0.5427 - val_return_out_metrics2: 5.3562\n",
      "Epoch 6/300\n",
      "378/378 [==============================] - 112s 296ms/step - loss: 1.3875 - label_out_loss: 0.6881 - return_out_loss: 0.6994 - label_out_auc: 0.5502 - return_out_metrics2: 4.9228 - val_loss: 1.4603 - val_label_out_loss: 0.6909 - val_return_out_loss: 0.7694 - val_label_out_auc: 0.5435 - val_return_out_metrics2: 5.5633\n",
      "Epoch 7/300\n",
      "378/378 [==============================] - 111s 293ms/step - loss: 1.3703 - label_out_loss: 0.6876 - return_out_loss: 0.6827 - label_out_auc: 0.5528 - return_out_metrics2: 5.9848 - val_loss: 1.4656 - val_label_out_loss: 0.6898 - val_return_out_loss: 0.7758 - val_label_out_auc: 0.5436 - val_return_out_metrics2: 4.8987\n",
      "Epoch 8/300\n",
      "378/378 [==============================] - 112s 297ms/step - loss: 1.3619 - label_out_loss: 0.6875 - return_out_loss: 0.6744 - label_out_auc: 0.5531 - return_out_metrics2: 5.8640 - val_loss: 1.4842 - val_label_out_loss: 0.6902 - val_return_out_loss: 0.7940 - val_label_out_auc: 0.5433 - val_return_out_metrics2: 4.6086\n",
      "Epoch 9/300\n",
      "378/378 [==============================] - 112s 296ms/step - loss: 1.3413 - label_out_loss: 0.6872 - return_out_loss: 0.6541 - label_out_auc: 0.5540 - return_out_metrics2: 5.8456 - val_loss: 1.4638 - val_label_out_loss: 0.6906 - val_return_out_loss: 0.7733 - val_label_out_auc: 0.5427 - val_return_out_metrics2: 4.6254\n",
      "Epoch 10/300\n",
      "378/378 [==============================] - 111s 294ms/step - loss: 1.3370 - label_out_loss: 0.6871 - return_out_loss: 0.6499 - label_out_auc: 0.5542 - return_out_metrics2: 6.1856 - val_loss: 1.4827 - val_label_out_loss: 0.6912 - val_return_out_loss: 0.7915 - val_label_out_auc: 0.5432 - val_return_out_metrics2: 4.7408\n",
      "Epoch 11/300\n",
      "378/378 [==============================] - 112s 296ms/step - loss: 1.3512 - label_out_loss: 0.6868 - return_out_loss: 0.6644 - label_out_auc: 0.5553 - return_out_metrics2: 6.4124 - val_loss: 1.4804 - val_label_out_loss: 0.6914 - val_return_out_loss: 0.7889 - val_label_out_auc: 0.5427 - val_return_out_metrics2: 4.5951\n",
      "Epoch 12/300\n",
      "378/378 [==============================] - 111s 295ms/step - loss: 1.3629 - label_out_loss: 0.6865 - return_out_loss: 0.6763 - label_out_auc: 0.5568 - return_out_metrics2: 6.5613 - val_loss: 1.4881 - val_label_out_loss: 0.6933 - val_return_out_loss: 0.7948 - val_label_out_auc: 0.5419 - val_return_out_metrics2: 4.2212\n",
      "Epoch 13/300\n",
      "378/378 [==============================] - 109s 290ms/step - loss: 1.3240 - label_out_loss: 0.6863 - return_out_loss: 0.6377 - label_out_auc: 0.5569 - return_out_metrics2: 6.3216 - val_loss: 1.4573 - val_label_out_loss: 0.6908 - val_return_out_loss: 0.7665 - val_label_out_auc: 0.5427 - val_return_out_metrics2: 4.6643\n",
      "Epoch 14/300\n",
      "378/378 [==============================] - 112s 296ms/step - loss: 1.3621 - label_out_loss: 0.6863 - return_out_loss: 0.6758 - label_out_auc: 0.5569 - return_out_metrics2: 5.9895 - val_loss: 1.5097 - val_label_out_loss: 0.6929 - val_return_out_loss: 0.8168 - val_label_out_auc: 0.5423 - val_return_out_metrics2: 4.1605\n",
      "Epoch 15/300\n",
      "378/378 [==============================] - 111s 294ms/step - loss: 1.3472 - label_out_loss: 0.6864 - return_out_loss: 0.6608 - label_out_auc: 0.5569 - return_out_metrics2: 6.0073 - val_loss: 1.4881 - val_label_out_loss: 0.6934 - val_return_out_loss: 0.7947 - val_label_out_auc: 0.5396 - val_return_out_metrics2: 3.8342\n",
      "Epoch 16/300\n",
      "378/378 [==============================] - 110s 292ms/step - loss: 1.3328 - label_out_loss: 0.6861 - return_out_loss: 0.6468 - label_out_auc: 0.5582 - return_out_metrics2: 6.7818 - val_loss: 1.5401 - val_label_out_loss: 0.6930 - val_return_out_loss: 0.8471 - val_label_out_auc: 0.5408 - val_return_out_metrics2: 3.8159\n",
      "Epoch 17/300\n",
      "378/378 [==============================] - 112s 297ms/step - loss: 1.3714 - label_out_loss: 0.6861 - return_out_loss: 0.6853 - label_out_auc: 0.5577 - return_out_metrics2: 6.7775 - val_loss: 1.4923 - val_label_out_loss: 0.6935 - val_return_out_loss: 0.7988 - val_label_out_auc: 0.5410 - val_return_out_metrics2: 4.1153\n",
      "Epoch 1/300\n",
      "378/378 [==============================] - 119s 298ms/step - loss: 1.3771 - label_out_loss: 0.6985 - return_out_loss: 0.6786 - label_out_auc: 0.5166 - return_out_metrics2: 0.5180 - val_loss: 1.4675 - val_label_out_loss: 0.6908 - val_return_out_loss: 0.7768 - val_label_out_auc: 0.5358 - val_return_out_metrics2: 4.5661\n",
      "Epoch 2/300\n",
      "378/378 [==============================] - 112s 295ms/step - loss: 1.3851 - label_out_loss: 0.6907 - return_out_loss: 0.6944 - label_out_auc: 0.5357 - return_out_metrics2: 2.7591 - val_loss: 1.4563 - val_label_out_loss: 0.6902 - val_return_out_loss: 0.7661 - val_label_out_auc: 0.5387 - val_return_out_metrics2: 5.2585\n",
      "Epoch 3/300\n",
      "378/378 [==============================] - 113s 299ms/step - loss: 1.4104 - label_out_loss: 0.6899 - return_out_loss: 0.7205 - label_out_auc: 0.5409 - return_out_metrics2: 3.1107 - val_loss: 1.4534 - val_label_out_loss: 0.6896 - val_return_out_loss: 0.7638 - val_label_out_auc: 0.5424 - val_return_out_metrics2: 5.6227\n",
      "Epoch 4/300\n",
      "378/378 [==============================] - 110s 292ms/step - loss: 1.4055 - label_out_loss: 0.6893 - return_out_loss: 0.7162 - label_out_auc: 0.5442 - return_out_metrics2: 3.8438 - val_loss: 1.4320 - val_label_out_loss: 0.6899 - val_return_out_loss: 0.7421 - val_label_out_auc: 0.5426 - val_return_out_metrics2: 5.6010\n",
      "Epoch 5/300\n",
      "378/378 [==============================] - 111s 294ms/step - loss: 1.3922 - label_out_loss: 0.6889 - return_out_loss: 0.7033 - label_out_auc: 0.5463 - return_out_metrics2: 4.1125 - val_loss: 1.4586 - val_label_out_loss: 0.6900 - val_return_out_loss: 0.7685 - val_label_out_auc: 0.5421 - val_return_out_metrics2: 4.9865\n",
      "Epoch 6/300\n",
      "378/378 [==============================] - 112s 297ms/step - loss: 1.3861 - label_out_loss: 0.6885 - return_out_loss: 0.6976 - label_out_auc: 0.5482 - return_out_metrics2: 4.7516 - val_loss: 1.4833 - val_label_out_loss: 0.6920 - val_return_out_loss: 0.7914 - val_label_out_auc: 0.5417 - val_return_out_metrics2: 5.6566\n",
      "Epoch 7/300\n",
      "378/378 [==============================] - 110s 291ms/step - loss: 1.3953 - label_out_loss: 0.6882 - return_out_loss: 0.7071 - label_out_auc: 0.5500 - return_out_metrics2: 5.3315 - val_loss: 1.4681 - val_label_out_loss: 0.6899 - val_return_out_loss: 0.7782 - val_label_out_auc: 0.5433 - val_return_out_metrics2: 5.1472\n",
      "Epoch 8/300\n",
      "378/378 [==============================] - 112s 297ms/step - loss: 1.3511 - label_out_loss: 0.6879 - return_out_loss: 0.6632 - label_out_auc: 0.5509 - return_out_metrics2: 5.4002 - val_loss: 1.5260 - val_label_out_loss: 0.6917 - val_return_out_loss: 0.8344 - val_label_out_auc: 0.5421 - val_return_out_metrics2: 4.7316\n",
      "Epoch 9/300\n",
      "378/378 [==============================] - 110s 292ms/step - loss: 1.3423 - label_out_loss: 0.6875 - return_out_loss: 0.6548 - label_out_auc: 0.5524 - return_out_metrics2: 5.5505 - val_loss: 1.4921 - val_label_out_loss: 0.6909 - val_return_out_loss: 0.8012 - val_label_out_auc: 0.5436 - val_return_out_metrics2: 4.5281\n",
      "Epoch 10/300\n",
      "378/378 [==============================] - 111s 295ms/step - loss: 1.3502 - label_out_loss: 0.6875 - return_out_loss: 0.6626 - label_out_auc: 0.5528 - return_out_metrics2: 5.7804 - val_loss: 1.5024 - val_label_out_loss: 0.6909 - val_return_out_loss: 0.8115 - val_label_out_auc: 0.5436 - val_return_out_metrics2: 4.1824\n",
      "Epoch 11/300\n",
      "378/378 [==============================] - 112s 296ms/step - loss: 1.3540 - label_out_loss: 0.6872 - return_out_loss: 0.6668 - label_out_auc: 0.5542 - return_out_metrics2: 6.0979 - val_loss: 1.4947 - val_label_out_loss: 0.6909 - val_return_out_loss: 0.8038 - val_label_out_auc: 0.5433 - val_return_out_metrics2: 4.8083\n",
      "Epoch 12/300\n",
      "378/378 [==============================] - 110s 292ms/step - loss: 1.3564 - label_out_loss: 0.6870 - return_out_loss: 0.6695 - label_out_auc: 0.5552 - return_out_metrics2: 6.2448 - val_loss: 1.4965 - val_label_out_loss: 0.6926 - val_return_out_loss: 0.8039 - val_label_out_auc: 0.5429 - val_return_out_metrics2: 4.5448\n",
      "Epoch 13/300\n",
      "378/378 [==============================] - 112s 297ms/step - loss: 1.3397 - label_out_loss: 0.6867 - return_out_loss: 0.6530 - label_out_auc: 0.5561 - return_out_metrics2: 6.1123 - val_loss: 1.5034 - val_label_out_loss: 0.6925 - val_return_out_loss: 0.8109 - val_label_out_auc: 0.5401 - val_return_out_metrics2: 3.9170\n",
      "Epoch 14/300\n",
      "378/378 [==============================] - 113s 300ms/step - loss: 1.3451 - label_out_loss: 0.6865 - return_out_loss: 0.6585 - label_out_auc: 0.5562 - return_out_metrics2: 5.6801 - val_loss: 1.4959 - val_label_out_loss: 0.6915 - val_return_out_loss: 0.8043 - val_label_out_auc: 0.5426 - val_return_out_metrics2: 4.0747\n",
      "Epoch 15/300\n",
      "378/378 [==============================] - 110s 290ms/step - loss: 1.3534 - label_out_loss: 0.6863 - return_out_loss: 0.6671 - label_out_auc: 0.5574 - return_out_metrics2: 6.1522 - val_loss: 1.4721 - val_label_out_loss: 0.6919 - val_return_out_loss: 0.7803 - val_label_out_auc: 0.5410 - val_return_out_metrics2: 4.3917\n",
      "Epoch 16/300\n",
      "378/378 [==============================] - 110s 291ms/step - loss: 1.3176 - label_out_loss: 0.6863 - return_out_loss: 0.6313 - label_out_auc: 0.5579 - return_out_metrics2: 6.7429 - val_loss: 1.5273 - val_label_out_loss: 0.6918 - val_return_out_loss: 0.8355 - val_label_out_auc: 0.5416 - val_return_out_metrics2: 4.2112\n",
      "Epoch 17/300\n",
      "378/378 [==============================] - 112s 297ms/step - loss: 1.3747 - label_out_loss: 0.6861 - return_out_loss: 0.6885 - label_out_auc: 0.5581 - return_out_metrics2: 6.8599 - val_loss: 1.4966 - val_label_out_loss: 0.6917 - val_return_out_loss: 0.8050 - val_label_out_auc: 0.5422 - val_return_out_metrics2: 4.2680\n",
      "Epoch 18/300\n",
      "378/378 [==============================] - 111s 294ms/step - loss: 1.3370 - label_out_loss: 0.6859 - return_out_loss: 0.6511 - label_out_auc: 0.5586 - return_out_metrics2: 6.5590 - val_loss: 1.5034 - val_label_out_loss: 0.6930 - val_return_out_loss: 0.8104 - val_label_out_auc: 0.5428 - val_return_out_metrics2: 4.2332\n",
      "Epoch 19/300\n",
      "378/378 [==============================] - 111s 293ms/step - loss: 1.4141 - label_out_loss: 0.6857 - return_out_loss: 0.7284 - label_out_auc: 0.5596 - return_out_metrics2: 6.1626 - val_loss: 1.4866 - val_label_out_loss: 0.6918 - val_return_out_loss: 0.7947 - val_label_out_auc: 0.5420 - val_return_out_metrics2: 4.1477\n",
      "Epoch 1/300\n",
      "378/378 [==============================] - 124s 302ms/step - loss: 1.4298 - label_out_loss: 0.6981 - return_out_loss: 0.7316 - label_out_auc: 0.5172 - return_out_metrics2: -0.0333 - val_loss: 1.4197 - val_label_out_loss: 0.6905 - val_return_out_loss: 0.7292 - val_label_out_auc: 0.5370 - val_return_out_metrics2: 4.6456\n",
      "Epoch 2/300\n",
      "378/378 [==============================] - 111s 292ms/step - loss: 1.4142 - label_out_loss: 0.6905 - return_out_loss: 0.7237 - label_out_auc: 0.5360 - return_out_metrics2: 2.3895 - val_loss: 1.4901 - val_label_out_loss: 0.6897 - val_return_out_loss: 0.8005 - val_label_out_auc: 0.5408 - val_return_out_metrics2: 5.3576\n",
      "Epoch 3/300\n",
      "378/378 [==============================] - 113s 299ms/step - loss: 1.4164 - label_out_loss: 0.6897 - return_out_loss: 0.7267 - label_out_auc: 0.5422 - return_out_metrics2: 3.2299 - val_loss: 1.4515 - val_label_out_loss: 0.6894 - val_return_out_loss: 0.7622 - val_label_out_auc: 0.5423 - val_return_out_metrics2: 5.5979\n",
      "Epoch 4/300\n",
      "378/378 [==============================] - 112s 296ms/step - loss: 1.4200 - label_out_loss: 0.6893 - return_out_loss: 0.7307 - label_out_auc: 0.5438 - return_out_metrics2: 3.5857 - val_loss: 1.4654 - val_label_out_loss: 0.6892 - val_return_out_loss: 0.7762 - val_label_out_auc: 0.5437 - val_return_out_metrics2: 5.9405\n",
      "Epoch 5/300\n",
      "378/378 [==============================] - 112s 297ms/step - loss: 1.3829 - label_out_loss: 0.6889 - return_out_loss: 0.6940 - label_out_auc: 0.5458 - return_out_metrics2: 4.1654 - val_loss: 1.4562 - val_label_out_loss: 0.6900 - val_return_out_loss: 0.7662 - val_label_out_auc: 0.5436 - val_return_out_metrics2: 5.6989\n",
      "Epoch 6/300\n",
      "378/378 [==============================] - 113s 300ms/step - loss: 1.3933 - label_out_loss: 0.6886 - return_out_loss: 0.7047 - label_out_auc: 0.5473 - return_out_metrics2: 4.7230 - val_loss: 1.4278 - val_label_out_loss: 0.6907 - val_return_out_loss: 0.7371 - val_label_out_auc: 0.5426 - val_return_out_metrics2: 5.6715\n",
      "Epoch 7/300\n",
      "378/378 [==============================] - 111s 294ms/step - loss: 1.3881 - label_out_loss: 0.6883 - return_out_loss: 0.6997 - label_out_auc: 0.5491 - return_out_metrics2: 4.8497 - val_loss: 1.4356 - val_label_out_loss: 0.6891 - val_return_out_loss: 0.7465 - val_label_out_auc: 0.5459 - val_return_out_metrics2: 6.4000\n",
      "Epoch 8/300\n",
      "378/378 [==============================] - 111s 294ms/step - loss: 1.3764 - label_out_loss: 0.6881 - return_out_loss: 0.6882 - label_out_auc: 0.5498 - return_out_metrics2: 5.0929 - val_loss: 1.4637 - val_label_out_loss: 0.6901 - val_return_out_loss: 0.7736 - val_label_out_auc: 0.5442 - val_return_out_metrics2: 5.4830\n",
      "Epoch 9/300\n",
      "378/378 [==============================] - 113s 300ms/step - loss: 1.3764 - label_out_loss: 0.6878 - return_out_loss: 0.6886 - label_out_auc: 0.5513 - return_out_metrics2: 4.8764 - val_loss: 1.4538 - val_label_out_loss: 0.6895 - val_return_out_loss: 0.7643 - val_label_out_auc: 0.5434 - val_return_out_metrics2: 4.9892\n",
      "Epoch 10/300\n",
      "378/378 [==============================] - 112s 296ms/step - loss: 1.3594 - label_out_loss: 0.6877 - return_out_loss: 0.6717 - label_out_auc: 0.5517 - return_out_metrics2: 5.4579 - val_loss: 1.5026 - val_label_out_loss: 0.6904 - val_return_out_loss: 0.8122 - val_label_out_auc: 0.5432 - val_return_out_metrics2: 4.0793\n",
      "Epoch 11/300\n",
      "378/378 [==============================] - 113s 298ms/step - loss: 1.3647 - label_out_loss: 0.6876 - return_out_loss: 0.6772 - label_out_auc: 0.5524 - return_out_metrics2: 5.8457 - val_loss: 1.4992 - val_label_out_loss: 0.6904 - val_return_out_loss: 0.8088 - val_label_out_auc: 0.5429 - val_return_out_metrics2: 4.3973\n",
      "Epoch 12/300\n",
      "378/378 [==============================] - 112s 297ms/step - loss: 1.3610 - label_out_loss: 0.6873 - return_out_loss: 0.6738 - label_out_auc: 0.5538 - return_out_metrics2: 6.2613 - val_loss: 1.4905 - val_label_out_loss: 0.6931 - val_return_out_loss: 0.7974 - val_label_out_auc: 0.5418 - val_return_out_metrics2: 4.3665\n",
      "Epoch 13/300\n",
      "378/378 [==============================] - 111s 295ms/step - loss: 1.3105 - label_out_loss: 0.6870 - return_out_loss: 0.6235 - label_out_auc: 0.5548 - return_out_metrics2: 6.1487 - val_loss: 1.5190 - val_label_out_loss: 0.6926 - val_return_out_loss: 0.8264 - val_label_out_auc: 0.5413 - val_return_out_metrics2: 4.0539\n",
      "Epoch 14/300\n",
      "378/378 [==============================] - 112s 296ms/step - loss: 1.3457 - label_out_loss: 0.6871 - return_out_loss: 0.6586 - label_out_auc: 0.5539 - return_out_metrics2: 5.2774 - val_loss: 1.5069 - val_label_out_loss: 0.6913 - val_return_out_loss: 0.8157 - val_label_out_auc: 0.5421 - val_return_out_metrics2: 3.8526\n",
      "Epoch 15/300\n",
      "378/378 [==============================] - 112s 297ms/step - loss: 1.3958 - label_out_loss: 0.6868 - return_out_loss: 0.7091 - label_out_auc: 0.5555 - return_out_metrics2: 5.3419 - val_loss: 1.5028 - val_label_out_loss: 0.6916 - val_return_out_loss: 0.8112 - val_label_out_auc: 0.5413 - val_return_out_metrics2: 3.9787\n",
      "Epoch 16/300\n",
      "378/378 [==============================] - 111s 293ms/step - loss: 1.3409 - label_out_loss: 0.6867 - return_out_loss: 0.6542 - label_out_auc: 0.5558 - return_out_metrics2: 6.2125 - val_loss: 1.5397 - val_label_out_loss: 0.6908 - val_return_out_loss: 0.8489 - val_label_out_auc: 0.5424 - val_return_out_metrics2: 3.8136\n",
      "Epoch 17/300\n",
      "378/378 [==============================] - 112s 295ms/step - loss: 1.3712 - label_out_loss: 0.6866 - return_out_loss: 0.6846 - label_out_auc: 0.5560 - return_out_metrics2: 6.4120 - val_loss: 1.5153 - val_label_out_loss: 0.6922 - val_return_out_loss: 0.8230 - val_label_out_auc: 0.5433 - val_return_out_metrics2: 4.0405\n"
     ]
    }
   ],
   "source": [
    "FOLDS = 6\n",
    "SEED = 42\n",
    "f = 5\n",
    "#tf.random.set_seed(SEED)\n",
    "multiplier = [3,4,5,6,7]\n",
    "if TRAINING:\n",
    "    splits = pd.read_pickle('../input/js-cv-split2/cross_validation.pkl')\n",
    "    #gkf = PurgedGroupTimeSeriesSplit(n_splits = FOLDS, group_gap=20)\n",
    "    #splits = list(gkf.split(y, groups=date))\n",
    "\n",
    "    #for fold, (train_indices, test_indices) in enumerate(splits):\n",
    "    for fold in range(FOLDS):\n",
    "        if fold == f:\n",
    "            y_train, y_test = y[splits[f][0]], y[splits[f][1]]\n",
    "            X_train, X_test = X[splits[f][0]], X[splits[f][1]]\n",
    "            Y_train, Y_test = Y[splits[f][0]], Y[splits[f][1]]\n",
    "            mask_train, mask_test = mask2[splits[f][0]], mask2[splits[f][1]]\n",
    "            \n",
    "            encoded_X_train = encoder(X_train).numpy()\n",
    "            encoded_X_test = encoder(X_test).numpy()\n",
    "            \n",
    "            X_train = np.concatenate((X_train, encoded_X_train, mask_train), axis = -1)\n",
    "            X_test = np.concatenate((X_test, encoded_X_test, mask_test), axis = -1)\n",
    "\n",
    "            wr_train, wr_test = wr[splits[f][0]], wr[splits[f][1]]\n",
    "            \n",
    "            del(encoded_X_train, encoded_X_test, mask_train, mask_test)\n",
    "            _= gc.collect()\n",
    "            \n",
    "            for m in multiplier:\n",
    "\n",
    "                model = build_tabnet_model(130 + 64 + 88, 32, 16, 16, 3, 1.2, 5, None, 0.8, 0, m)\n",
    "                model.fit([X_train, wr_train], [y_train, Y_train],validation_data=([X_test, wr_test], [y_test, Y_test]),epochs=300, batch_size=4000, callbacks = [EarlyStopping('val_label_out_auc',mode='max',patience=10,restore_best_weights=True)])\n",
    "                model.save_weights(f'./tabnet_model_{SEED}_{fold}_multiplier_{m}.hdf5')\n",
    "                del(model)\n",
    "                _=gc.collect()\n",
    "    "
   ]
  }
 ],
 "metadata": {
  "kernelspec": {
   "display_name": "Python 3",
   "language": "python",
   "name": "python3"
  },
  "language_info": {
   "codemirror_mode": {
    "name": "ipython",
    "version": 3
   },
   "file_extension": ".py",
   "mimetype": "text/x-python",
   "name": "python",
   "nbconvert_exporter": "python",
   "pygments_lexer": "ipython3",
   "version": "3.7.9"
  },
  "papermill": {
   "default_parameters": {},
   "duration": 9322.037285,
   "end_time": "2021-02-02T13:54:53.379244",
   "environment_variables": {},
   "exception": null,
   "input_path": "__notebook__.ipynb",
   "output_path": "__notebook__.ipynb",
   "parameters": {},
   "start_time": "2021-02-02T11:19:31.341959",
   "version": "2.2.2"
  }
 },
 "nbformat": 4,
 "nbformat_minor": 4
}
